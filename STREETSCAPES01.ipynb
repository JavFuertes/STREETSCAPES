{
 "cells": [
  {
   "cell_type": "markdown",
   "metadata": {},
   "source": [
    "<img \n",
    "    style=\"position: absolute; \n",
    "           left: 60%; \n",
    "           top: 0; /* Added to ensure proper positioning */\n",
    "           height: 900px; \n",
    "           width: 40%; /* Maintain the original width */\n",
    "           object-fit: cover; /* Adjust if necessary */\n",
    "           clip-path: inset(0px 50px 0px 50px round 10px);\" \n",
    "    src=\"_data\\imagedb\\image_14570_s_a.png\" \n",
    "/>\n",
    "</figure>\n",
    "\n",
    "\n",
    "<h1 style=\"width: 60%; color: #EC6842; font-size: 55pt;\">\n",
    "    <Strong>\n",
    "        Streetscapes\n",
    "        <h2 style=\"color: #EC6842; font-size: 40pt;\"> \n",
    "            <Strong>\n",
    "                Urban classification using street-level images and its embeddings\n",
    "            </Strong>\n",
    "        </h2>\n",
    "    </Strong>\n",
    "</h1>\n",
    "\n",
    "<h3 id=\"Background\"><B>\n",
    "    Rationale for the project<a class=\"anchor-link\" href=\"#Background\">&#182;</a>\n",
    "    </B>\n",
    "</h3>\n",
    "<p style=\"text-align: justify; width: 60%; font-weight: normal;\">\n",
    "     Structures that make optimal use of the material they are made of reduces the cost and environmental impact of their construction as the amount of material required. \n",
    "</p>\n",
    "\n",
    "<h3 id=\"Background\">\n",
    "    <B>Objective & Description:</B><a class=\"anchor-link\" href=\"#Background\">&#182;</a>\n",
    "</h3>\n",
    "\n",
    "<div style=\"width: 60%; border-top: 4px solid #00B8C8; border-left: 4px solid #00B8C8; background-color: #FFFFFF; padding: 1em 1em 1em 1em; color: #24292E; margin: 10px 0 20px 0; box-sizing: border-box;\">\n",
    "    <div style=\"background-color: #00B8C8; color: white; padding: 0.2em 1em; margin: -1em -1em 0em -1em; font-size: 1.2em;\"><strong>Project Objective:</strong> To build a machine learning based algorithm for urban classification through street view images</div>\n",
    "    <p>\n",
    "    To achieve so this project requires to find the optimal set of nodal coordinates and cross-sectional properties. Achieving so will allow to minimize as much as possible the total weight of the structure, while satisfying a number of constraints relating to the structures natural frequencies. Achieving a low mass solutions that also satisfies the natural frequencies constraints established demonstrates a methodology to make structures more efficient and safe since we are achieving to use less material in a way that still ensures the structural integrity of the structure. Moreover, this project will also aim to explore the efficacy of current optimisation methods and potentially improvements to be achieved from implementing machine learning methods.\n",
    "    </p>\n",
    "</div>"
   ]
  },
  {
   "cell_type": "markdown",
   "metadata": {},
   "source": [
    "## <strong> X | Imports</strong>"
   ]
  },
  {
   "cell_type": "code",
   "execution_count": 4,
   "metadata": {},
   "outputs": [
    {
     "name": "stdout",
     "output_type": "stream",
     "text": [
      "Using device: cuda\n"
     ]
    }
   ],
   "source": [
    "import os\n",
    "import h5py\n",
    "from PIL import Image\n",
    "import numpy as np\n",
    "import matplotlib.pyplot as plt\n",
    "from plotly import graph_objects as go\n",
    "\n",
    "import torch\n",
    "import torchvision.transforms as transforms\n",
    "from torch.utils.data import DataLoader, random_split\n",
    "\n",
    "from streetscapes.models import CNN, VAE, GM\n",
    "\n",
    "device = torch.device('cuda' if torch.cuda.is_available() else 'cpu')\n",
    "print(f'Using device: {device}')"
   ]
  },
  {
   "cell_type": "markdown",
   "metadata": {},
   "source": [
    "## <strong> 0 | Importing the data</strong>"
   ]
  },
  {
   "cell_type": "markdown",
   "metadata": {},
   "source": [
    "### <strong> 0.1 | Process geojson's</strong>"
   ]
  },
  {
   "cell_type": "code",
   "execution_count": 11,
   "metadata": {},
   "outputs": [],
   "source": [
    "from streetscapes.processing.handling import geojson\n",
    "# --------------------------- IMPORT .geojson FILES -------------------------- #\n",
    "directory = '_data\\\\geo_json'\n",
    "gpd_df = {}\n",
    "\n",
    "for root, _, files in os.walk(directory):\n",
    "    for filename in files:\n",
    "        if filename.endswith('.geojson'):\n",
    "            gpd_df[filename] = geojson(root, filename)\n"
   ]
  },
  {
   "cell_type": "markdown",
   "metadata": {},
   "source": [
    "### <strong> 0.2 | Plot geometries on Mapbox</strong>"
   ]
  },
  {
   "cell_type": "code",
   "execution_count": 8,
   "metadata": {},
   "outputs": [
    {
     "name": "stdout",
     "output_type": "stream",
     "text": [
      "User Guide: https://docs.kepler.gl/docs/keplergl-jupyter\n",
      "Map saved to _maps\\SC_land_preview.html!\n"
     ]
    }
   ],
   "source": [
    "gj_include = ['boundary.geojson', 'landuse.geojson', 'panoids.geojson']\n",
    "gpd_add = {key: gpd_df[key] for key in gj_include}\n",
    "\n",
    "map = KeplerGl(height=600)\n",
    "for gdf_name in gpd_add:\n",
    "    map.add_data(gpd_add[gdf_name], name= gdf_name )\n",
    "\n",
    "file_save = '_maps\\\\SC_land_preview.html'\n",
    "map.save_to_html(file_name= file_save, config={\n",
    "    'mapState': {\n",
    "        'latitude': 52.01153531997234,\n",
    "        'longitude': 4.3588424177636185,\n",
    "        'zoom': 16\n",
    "    }\n",
    "})"
   ]
  },
  {
   "cell_type": "markdown",
   "metadata": {},
   "source": [
    "### <strong> 0.3 | Import and process streetview images</strong>"
   ]
  },
  {
   "cell_type": "code",
   "execution_count": null,
   "metadata": {},
   "outputs": [],
   "source": [
    "directory = '_data/imagedb'\n",
    "n_images = 500\n",
    "\n",
    "transform = transforms.Compose([\n",
    "    transforms.Resize((256, 256)),  # Resize the image to your desired dimensions\n",
    "    transforms.ToTensor(),               # Convert the image to a PyTorch tensor\n",
    "    transforms.Normalize(mean=[0.5, 0.5, 0.5], std=[0.5, 0.5, 0.5])  # Normalize the image if necessary\n",
    "])\n",
    "\n",
    "labels = []\n",
    "dataset = []\n",
    "listdir = os.listdir(directory)\n",
    "for i in range(n_images):\n",
    "    filename = listdir[i]\n",
    "    if filename.endswith('.png'):\n",
    "        file_path = os.path.join(directory, filename)\n",
    "        with open(file_path, 'r') as image:\n",
    "            image = Image.open(file_path)\n",
    "            image_tensor = transform(image)\n",
    "            dataset.append(image_tensor.to(device))\n",
    "            labels.append(filename)"
   ]
  },
  {
   "cell_type": "markdown",
   "metadata": {},
   "source": [
    "## <strong> 1 | Extracting the image features with `ResNet`</strong>"
   ]
  },
  {
   "cell_type": "markdown",
   "metadata": {},
   "source": [
    "### <strong> 1.1 | Extract the features </strong>"
   ]
  },
  {
   "cell_type": "code",
   "execution_count": 2,
   "metadata": {},
   "outputs": [
    {
     "name": "stderr",
     "output_type": "stream",
     "text": [
      "c:\\Program Files\\Python310\\@Environments\\TUD-JF\\lib\\site-packages\\torchvision\\models\\_utils.py:208: UserWarning: The parameter 'pretrained' is deprecated since 0.13 and may be removed in the future, please use 'weights' instead.\n",
      "  warnings.warn(\n",
      "c:\\Program Files\\Python310\\@Environments\\TUD-JF\\lib\\site-packages\\torchvision\\models\\_utils.py:223: UserWarning: Arguments other than a weight enum or `None` for 'weights' are deprecated since 0.13 and may be removed in the future. The current behavior is equivalent to passing `weights=ResNet152_Weights.IMAGENET1K_V1`. You can also use `weights=ResNet152_Weights.DEFAULT` to get the most up-to-date weights.\n",
      "  warnings.warn(msg)\n"
     ]
    },
    {
     "ename": "NameError",
     "evalue": "name 'dataset' is not defined",
     "output_type": "error",
     "traceback": [
      "\u001b[1;31m---------------------------------------------------------------------------\u001b[0m",
      "\u001b[1;31mNameError\u001b[0m                                 Traceback (most recent call last)",
      "Cell \u001b[1;32mIn[2], line 2\u001b[0m\n\u001b[0;32m      1\u001b[0m STREETSCAPES01 \u001b[38;5;241m=\u001b[39m CNN()\n\u001b[1;32m----> 2\u001b[0m dataloader \u001b[38;5;241m=\u001b[39m DataLoader(\u001b[43mdataset\u001b[49m, batch_size\u001b[38;5;241m=\u001b[39m\u001b[38;5;241m32\u001b[39m, shuffle\u001b[38;5;241m=\u001b[39m\u001b[38;5;28;01mTrue\u001b[39;00m)\n\u001b[0;32m      3\u001b[0m features \u001b[38;5;241m=\u001b[39m STREETSCAPES01\u001b[38;5;241m.\u001b[39mextract_features(dataloader)\n",
      "\u001b[1;31mNameError\u001b[0m: name 'dataset' is not defined"
     ]
    }
   ],
   "source": [
    "STREETSCAPES01 = CNN()\n",
    "dataloader = DataLoader(dataset, batch_size=32, shuffle=True)\n",
    "features = STREETSCAPES01.extract_features(dataloader)"
   ]
  },
  {
   "cell_type": "markdown",
   "metadata": {},
   "source": [
    "### <strong> 1.2 | Save features  </strong>"
   ]
  },
  {
   "cell_type": "code",
   "execution_count": 5,
   "metadata": {},
   "outputs": [],
   "source": [
    "path = '_data\\sc_data'\n",
    "# dataset = features.detach().cpu().numpy()\n",
    "\n",
    "# Save features and labels\n",
    "# with h5py.File(os.path.join(path, 'DelftSV_imgfeatuers.h5'), 'w') as hf:\n",
    "#     hf.create_dataset('features', data= dataset)\n",
    "#     hf.create_dataset('labels', data=labels)\n",
    "\n",
    "# Load features and labels\n",
    "with h5py.File(os.path.join(path, 'DelftSV_imgfeatuers.h5'), 'r') as hf:\n",
    "    features = hf['features'][:]\n",
    "    labels = hf['labels'][:]\n",
    "labels = [label.decode('utf-8') for label in labels]"
   ]
  },
  {
   "cell_type": "markdown",
   "metadata": {},
   "source": [
    "## <strong> 2 | Dimensionality reduction through a Variational Autoencoder</strong>"
   ]
  },
  {
   "cell_type": "markdown",
   "metadata": {},
   "source": [
    "### <strong> 2.2 | Initiate the model</strong>"
   ]
  },
  {
   "cell_type": "code",
   "execution_count": 6,
   "metadata": {},
   "outputs": [],
   "source": [
    "dset = list(zip(features, labels))\n",
    "\n",
    "# Set rng for reproducability\n",
    "torch.manual_seed(0)\n",
    "g = torch.Generator()\n",
    "g.manual_seed(0)\n",
    "\n",
    "# Set params for dataset handling\n",
    "batch_size = 50\n",
    "test_rat = 0.8\n",
    "validation_rat = 0.7\n",
    "\n",
    "# Model parameters\n",
    "latent_dim = 50\n",
    "\n",
    "hidden_dim = 512 #Efficient\n",
    "hidden_num = 5 #Number of layers\n",
    "epochs = 250\n",
    "save_model = True\n",
    "\n",
    "#Early stopping param\n",
    "patience = 25  # Number of epochs to wait for improvement before stopping\n",
    "delta = 0.001  # Minimum change to signify an improvement\n",
    "wait = 0  # Counter for epochs waited since last improvement"
   ]
  },
  {
   "cell_type": "code",
   "execution_count": 7,
   "metadata": {},
   "outputs": [],
   "source": [
    "# -------------------------------- DATA SPLIT -------------------------------- #\n",
    "data_test, data_train = random_split(\n",
    "    dset, [test_rat, 1 - test_rat], generator=g\n",
    ")\n",
    "data_train, data_val = random_split(\n",
    "    list(data_train), [validation_rat, 1 - validation_rat], generator=g\n",
    ")\n",
    "\n",
    "# ---------------------------------- LOADERS --------------------------------- #\n",
    "test_loader = DataLoader(\n",
    "    data_test, batch_size=batch_size, shuffle=True, generator=g\n",
    ")\n",
    "training_loader = DataLoader(\n",
    "    data_train, batch_size=batch_size, shuffle=True, generator=g\n",
    ")\n",
    "validation_loader = DataLoader(\n",
    "    data_val, batch_size=batch_size, shuffle=True, generator=g\n",
    ")\n",
    "\n",
    "# create the model\n",
    "model = VAE(\n",
    "    input_dim= features.shape[1],\n",
    "    latent_dim= latent_dim,\n",
    "    hidden_dim= hidden_dim,\n",
    "    hidden_num= hidden_num,\n",
    "    save_model = save_model,\n",
    "    path = '_data\\\\models\\\\vae'\n",
    ")"
   ]
  },
  {
   "cell_type": "markdown",
   "metadata": {},
   "source": [
    "### <strong> 2.3 | Train the model</strong>"
   ]
  },
  {
   "cell_type": "code",
   "execution_count": 8,
   "metadata": {},
   "outputs": [
    {
     "name": "stdout",
     "output_type": "stream",
     "text": [
      "+---------+--------------+------------+-------------+--------------+\n",
      "|   Epoch |   Train Loss |   Val Loss |   Best Loss |   Best Epoch |\n",
      "+=========+==============+============+=============+==============+\n",
      "|       0 |      731.578 |     600.15 |     731.578 |            0 |\n",
      "+---------+--------------+------------+-------------+--------------+\n",
      "+---------+--------------+------------+-------------+--------------+\n",
      "|   Epoch |   Train Loss |   Val Loss |   Best Loss |   Best Epoch |\n",
      "+=========+==============+============+=============+==============+\n",
      "|       1 |      457.461 |    370.848 |     457.461 |            1 |\n",
      "+---------+--------------+------------+-------------+--------------+\n",
      "+---------+--------------+------------+-------------+--------------+\n",
      "|   Epoch |   Train Loss |   Val Loss |   Best Loss |   Best Epoch |\n",
      "+=========+==============+============+=============+==============+\n",
      "|       2 |      279.028 |    205.017 |     279.028 |            2 |\n",
      "+---------+--------------+------------+-------------+--------------+\n",
      "+---------+--------------+------------+-------------+--------------+\n",
      "|   Epoch |   Train Loss |   Val Loss |   Best Loss |   Best Epoch |\n",
      "+=========+==============+============+=============+==============+\n",
      "|       3 |      156.652 |    116.099 |     156.652 |            3 |\n",
      "+---------+--------------+------------+-------------+--------------+\n",
      "+---------+--------------+------------+-------------+--------------+\n",
      "|   Epoch |   Train Loss |   Val Loss |   Best Loss |   Best Epoch |\n",
      "+=========+==============+============+=============+==============+\n",
      "|       4 |      75.6886 |    68.3358 |     75.6886 |            4 |\n",
      "+---------+--------------+------------+-------------+--------------+\n",
      "+---------+--------------+------------+-------------+--------------+\n",
      "|   Epoch |   Train Loss |   Val Loss |   Best Loss |   Best Epoch |\n",
      "+=========+==============+============+=============+==============+\n",
      "|       5 |      41.2205 |    44.0656 |     41.2205 |            5 |\n",
      "+---------+--------------+------------+-------------+--------------+\n",
      "+---------+--------------+------------+-------------+--------------+\n",
      "|   Epoch |   Train Loss |   Val Loss |   Best Loss |   Best Epoch |\n",
      "+=========+==============+============+=============+==============+\n",
      "|       6 |      28.1974 |    32.4773 |     28.1974 |            6 |\n",
      "+---------+--------------+------------+-------------+--------------+\n",
      "+---------+--------------+------------+-------------+--------------+\n",
      "|   Epoch |   Train Loss |   Val Loss |   Best Loss |   Best Epoch |\n",
      "+=========+==============+============+=============+==============+\n",
      "|       7 |      19.9613 |    24.0011 |     19.9613 |            7 |\n",
      "+---------+--------------+------------+-------------+--------------+\n",
      "+---------+--------------+------------+-------------+--------------+\n",
      "|   Epoch |   Train Loss |   Val Loss |   Best Loss |   Best Epoch |\n",
      "+=========+==============+============+=============+==============+\n",
      "|       8 |      19.1049 |    20.9817 |     19.1049 |            8 |\n",
      "+---------+--------------+------------+-------------+--------------+\n",
      "+---------+--------------+------------+-------------+--------------+\n",
      "|   Epoch |   Train Loss |   Val Loss |   Best Loss |   Best Epoch |\n",
      "+=========+==============+============+=============+==============+\n",
      "|       9 |      18.7533 |    19.2787 |     18.7533 |            9 |\n",
      "+---------+--------------+------------+-------------+--------------+\n",
      "+---------+--------------+------------+-------------+--------------+\n",
      "|   Epoch |   Train Loss |   Val Loss |   Best Loss |   Best Epoch |\n",
      "+=========+==============+============+=============+==============+\n",
      "|      10 |      14.9153 |    17.9906 |     14.9153 |           10 |\n",
      "+---------+--------------+------------+-------------+--------------+\n",
      "+---------+--------------+------------+-------------+--------------+\n",
      "|   Epoch |   Train Loss |   Val Loss |   Best Loss |   Best Epoch |\n",
      "+=========+==============+============+=============+==============+\n",
      "|      11 |       12.245 |    14.2985 |      12.245 |           11 |\n",
      "+---------+--------------+------------+-------------+--------------+\n",
      "+---------+--------------+------------+-------------+--------------+\n",
      "|   Epoch |   Train Loss |   Val Loss |   Best Loss |   Best Epoch |\n",
      "+=========+==============+============+=============+==============+\n",
      "|      12 |      9.70361 |    11.4869 |     9.70361 |           12 |\n",
      "+---------+--------------+------------+-------------+--------------+\n",
      "+---------+--------------+------------+-------------+--------------+\n",
      "|   Epoch |   Train Loss |   Val Loss |   Best Loss |   Best Epoch |\n",
      "+=========+==============+============+=============+==============+\n",
      "|      13 |       7.5731 |    8.70746 |      7.5731 |           13 |\n",
      "+---------+--------------+------------+-------------+--------------+\n",
      "+---------+--------------+------------+-------------+--------------+\n",
      "|   Epoch |   Train Loss |   Val Loss |   Best Loss |   Best Epoch |\n",
      "+=========+==============+============+=============+==============+\n",
      "|      14 |      5.68084 |     7.7425 |     5.68084 |           14 |\n",
      "+---------+--------------+------------+-------------+--------------+\n",
      "+---------+--------------+------------+-------------+--------------+\n",
      "|   Epoch |   Train Loss |   Val Loss |   Best Loss |   Best Epoch |\n",
      "+=========+==============+============+=============+==============+\n",
      "|      15 |      4.16741 |    7.28582 |     4.16741 |           15 |\n",
      "+---------+--------------+------------+-------------+--------------+\n",
      "+---------+--------------+------------+-------------+--------------+\n",
      "|   Epoch |   Train Loss |   Val Loss |   Best Loss |   Best Epoch |\n",
      "+=========+==============+============+=============+==============+\n",
      "|      16 |       3.2966 |    5.72613 |      3.2966 |           16 |\n",
      "+---------+--------------+------------+-------------+--------------+\n",
      "+---------+--------------+------------+-------------+--------------+\n",
      "|   Epoch |   Train Loss |   Val Loss |   Best Loss |   Best Epoch |\n",
      "+=========+==============+============+=============+==============+\n",
      "|      17 |      3.07305 |    5.28247 |     3.07305 |           17 |\n",
      "+---------+--------------+------------+-------------+--------------+\n",
      "+---------+--------------+------------+-------------+--------------+\n",
      "|   Epoch |   Train Loss |   Val Loss |   Best Loss |   Best Epoch |\n",
      "+=========+==============+============+=============+==============+\n",
      "|      18 |      2.42387 |    4.95883 |     2.42387 |           18 |\n",
      "+---------+--------------+------------+-------------+--------------+\n",
      "+---------+--------------+------------+-------------+--------------+\n",
      "|   Epoch |   Train Loss |   Val Loss |   Best Loss |   Best Epoch |\n",
      "+=========+==============+============+=============+==============+\n",
      "|      19 |       2.1366 |    5.05898 |     2.42387 |           18 |\n",
      "+---------+--------------+------------+-------------+--------------+\n",
      "+---------+--------------+------------+-------------+--------------+\n",
      "|   Epoch |   Train Loss |   Val Loss |   Best Loss |   Best Epoch |\n",
      "+=========+==============+============+=============+==============+\n",
      "|      20 |      1.92583 |    4.50577 |     1.92583 |           20 |\n",
      "+---------+--------------+------------+-------------+--------------+\n",
      "+---------+--------------+------------+-------------+--------------+\n",
      "|   Epoch |   Train Loss |   Val Loss |   Best Loss |   Best Epoch |\n",
      "+=========+==============+============+=============+==============+\n",
      "|      21 |      1.35601 |    3.92938 |     1.35601 |           21 |\n",
      "+---------+--------------+------------+-------------+--------------+\n",
      "+---------+--------------+------------+-------------+--------------+\n",
      "|   Epoch |   Train Loss |   Val Loss |   Best Loss |   Best Epoch |\n",
      "+=========+==============+============+=============+==============+\n",
      "|      22 |       1.2794 |     4.1605 |     1.35601 |           21 |\n",
      "+---------+--------------+------------+-------------+--------------+\n",
      "+---------+--------------+------------+-------------+--------------+\n",
      "|   Epoch |   Train Loss |   Val Loss |   Best Loss |   Best Epoch |\n",
      "+=========+==============+============+=============+==============+\n",
      "|      23 |      1.09015 |    4.02024 |     1.35601 |           21 |\n",
      "+---------+--------------+------------+-------------+--------------+\n",
      "+---------+--------------+------------+-------------+--------------+\n",
      "|   Epoch |   Train Loss |   Val Loss |   Best Loss |   Best Epoch |\n",
      "+=========+==============+============+=============+==============+\n",
      "|      24 |      1.09825 |    3.71419 |     1.09825 |           24 |\n",
      "+---------+--------------+------------+-------------+--------------+\n",
      "+---------+--------------+------------+-------------+--------------+\n",
      "|   Epoch |   Train Loss |   Val Loss |   Best Loss |   Best Epoch |\n",
      "+=========+==============+============+=============+==============+\n",
      "|      25 |      1.03711 |    3.04814 |     1.03711 |           25 |\n",
      "+---------+--------------+------------+-------------+--------------+\n",
      "+---------+--------------+------------+-------------+--------------+\n",
      "|   Epoch |   Train Loss |   Val Loss |   Best Loss |   Best Epoch |\n",
      "+=========+==============+============+=============+==============+\n",
      "|      26 |      1.01998 |    3.01057 |     1.01998 |           26 |\n",
      "+---------+--------------+------------+-------------+--------------+\n",
      "+---------+--------------+------------+-------------+--------------+\n",
      "|   Epoch |   Train Loss |   Val Loss |   Best Loss |   Best Epoch |\n",
      "+=========+==============+============+=============+==============+\n",
      "|      27 |      0.67696 |    3.22144 |     1.01998 |           26 |\n",
      "+---------+--------------+------------+-------------+--------------+\n",
      "+---------+--------------+------------+-------------+--------------+\n",
      "|   Epoch |   Train Loss |   Val Loss |   Best Loss |   Best Epoch |\n",
      "+=========+==============+============+=============+==============+\n",
      "|      28 |     0.499398 |    2.96962 |    0.499398 |           28 |\n",
      "+---------+--------------+------------+-------------+--------------+\n",
      "+---------+--------------+------------+-------------+--------------+\n",
      "|   Epoch |   Train Loss |   Val Loss |   Best Loss |   Best Epoch |\n",
      "+=========+==============+============+=============+==============+\n",
      "|      29 |     0.427008 |    3.02634 |    0.499398 |           28 |\n",
      "+---------+--------------+------------+-------------+--------------+\n",
      "+---------+--------------+------------+-------------+--------------+\n",
      "|   Epoch |   Train Loss |   Val Loss |   Best Loss |   Best Epoch |\n",
      "+=========+==============+============+=============+==============+\n",
      "|      30 |      0.49381 |    2.56889 |     0.49381 |           30 |\n",
      "+---------+--------------+------------+-------------+--------------+\n",
      "+---------+--------------+------------+-------------+--------------+\n",
      "|   Epoch |   Train Loss |   Val Loss |   Best Loss |   Best Epoch |\n",
      "+=========+==============+============+=============+==============+\n",
      "|      31 |     0.332698 |    2.71975 |     0.49381 |           30 |\n",
      "+---------+--------------+------------+-------------+--------------+\n",
      "+---------+--------------+------------+-------------+--------------+\n",
      "|   Epoch |   Train Loss |   Val Loss |   Best Loss |   Best Epoch |\n",
      "+=========+==============+============+=============+==============+\n",
      "|      32 |     0.258923 |      2.387 |    0.258923 |           32 |\n",
      "+---------+--------------+------------+-------------+--------------+\n",
      "+---------+--------------+------------+-------------+--------------+\n",
      "|   Epoch |   Train Loss |   Val Loss |   Best Loss |   Best Epoch |\n",
      "+=========+==============+============+=============+==============+\n",
      "|      33 |     0.288293 |    2.50971 |    0.258923 |           32 |\n",
      "+---------+--------------+------------+-------------+--------------+\n",
      "+---------+--------------+------------+-------------+--------------+\n",
      "|   Epoch |   Train Loss |   Val Loss |   Best Loss |   Best Epoch |\n",
      "+=========+==============+============+=============+==============+\n",
      "|      34 |     0.202447 |     2.6428 |    0.258923 |           32 |\n",
      "+---------+--------------+------------+-------------+--------------+\n",
      "+---------+--------------+------------+-------------+--------------+\n",
      "|   Epoch |   Train Loss |   Val Loss |   Best Loss |   Best Epoch |\n",
      "+=========+==============+============+=============+==============+\n",
      "|      35 |     0.152856 |    2.70386 |    0.258923 |           32 |\n",
      "+---------+--------------+------------+-------------+--------------+\n",
      "+---------+--------------+------------+-------------+--------------+\n",
      "|   Epoch |   Train Loss |   Val Loss |   Best Loss |   Best Epoch |\n",
      "+=========+==============+============+=============+==============+\n",
      "|      36 |     0.147313 |    2.57716 |    0.258923 |           32 |\n",
      "+---------+--------------+------------+-------------+--------------+\n",
      "+---------+--------------+------------+-------------+--------------+\n",
      "|   Epoch |   Train Loss |   Val Loss |   Best Loss |   Best Epoch |\n",
      "+=========+==============+============+=============+==============+\n",
      "|      37 |     0.126958 |    2.59387 |    0.258923 |           32 |\n",
      "+---------+--------------+------------+-------------+--------------+\n",
      "+---------+--------------+------------+-------------+--------------+\n",
      "|   Epoch |   Train Loss |   Val Loss |   Best Loss |   Best Epoch |\n",
      "+=========+==============+============+=============+==============+\n",
      "|      38 |     0.132084 |    2.54293 |    0.258923 |           32 |\n",
      "+---------+--------------+------------+-------------+--------------+\n",
      "+---------+--------------+------------+-------------+--------------+\n",
      "|   Epoch |   Train Loss |   Val Loss |   Best Loss |   Best Epoch |\n",
      "+=========+==============+============+=============+==============+\n",
      "|      39 |     0.100791 |    2.61295 |    0.258923 |           32 |\n",
      "+---------+--------------+------------+-------------+--------------+\n",
      "+---------+--------------+------------+-------------+--------------+\n",
      "|   Epoch |   Train Loss |   Val Loss |   Best Loss |   Best Epoch |\n",
      "+=========+==============+============+=============+==============+\n",
      "|      40 |    0.0941753 |    2.52524 |    0.258923 |           32 |\n",
      "+---------+--------------+------------+-------------+--------------+\n",
      "+---------+--------------+------------+-------------+--------------+\n",
      "|   Epoch |   Train Loss |   Val Loss |   Best Loss |   Best Epoch |\n",
      "+=========+==============+============+=============+==============+\n",
      "|      41 |     0.118747 |     2.5278 |    0.258923 |           32 |\n",
      "+---------+--------------+------------+-------------+--------------+\n",
      "+---------+--------------+------------+-------------+--------------+\n",
      "|   Epoch |   Train Loss |   Val Loss |   Best Loss |   Best Epoch |\n",
      "+=========+==============+============+=============+==============+\n",
      "|      42 |    0.0840724 |    2.52109 |    0.258923 |           32 |\n",
      "+---------+--------------+------------+-------------+--------------+\n",
      "+---------+--------------+------------+-------------+--------------+\n",
      "|   Epoch |   Train Loss |   Val Loss |   Best Loss |   Best Epoch |\n",
      "+=========+==============+============+=============+==============+\n",
      "|      43 |    0.0841022 |    2.54779 |    0.258923 |           32 |\n",
      "+---------+--------------+------------+-------------+--------------+\n",
      "+---------+--------------+------------+-------------+--------------+\n",
      "|   Epoch |   Train Loss |   Val Loss |   Best Loss |   Best Epoch |\n",
      "+=========+==============+============+=============+==============+\n",
      "|      44 |    0.0673681 |    2.50594 |    0.258923 |           32 |\n",
      "+---------+--------------+------------+-------------+--------------+\n",
      "+---------+--------------+------------+-------------+--------------+\n",
      "|   Epoch |   Train Loss |   Val Loss |   Best Loss |   Best Epoch |\n",
      "+=========+==============+============+=============+==============+\n",
      "|      45 |    0.0629276 |    2.54959 |    0.258923 |           32 |\n",
      "+---------+--------------+------------+-------------+--------------+\n",
      "+---------+--------------+------------+-------------+--------------+\n",
      "|   Epoch |   Train Loss |   Val Loss |   Best Loss |   Best Epoch |\n",
      "+=========+==============+============+=============+==============+\n",
      "|      46 |    0.0749677 |    2.53624 |    0.258923 |           32 |\n",
      "+---------+--------------+------------+-------------+--------------+\n",
      "+---------+--------------+------------+-------------+--------------+\n",
      "|   Epoch |   Train Loss |   Val Loss |   Best Loss |   Best Epoch |\n",
      "+=========+==============+============+=============+==============+\n",
      "|      47 |    0.0583231 |    2.43041 |    0.258923 |           32 |\n",
      "+---------+--------------+------------+-------------+--------------+\n",
      "+---------+--------------+------------+-------------+--------------+\n",
      "|   Epoch |   Train Loss |   Val Loss |   Best Loss |   Best Epoch |\n",
      "+=========+==============+============+=============+==============+\n",
      "|      48 |     0.059098 |    2.43678 |    0.258923 |           32 |\n",
      "+---------+--------------+------------+-------------+--------------+\n",
      "+---------+--------------+------------+-------------+--------------+\n",
      "|   Epoch |   Train Loss |   Val Loss |   Best Loss |   Best Epoch |\n",
      "+=========+==============+============+=============+==============+\n",
      "|      49 |    0.0546724 |    2.46315 |    0.258923 |           32 |\n",
      "+---------+--------------+------------+-------------+--------------+\n",
      "+---------+--------------+------------+-------------+--------------+\n",
      "|   Epoch |   Train Loss |   Val Loss |   Best Loss |   Best Epoch |\n",
      "+=========+==============+============+=============+==============+\n",
      "|      50 |    0.0560731 |    2.47998 |    0.258923 |           32 |\n",
      "+---------+--------------+------------+-------------+--------------+\n",
      "+---------+--------------+------------+-------------+--------------+\n",
      "|   Epoch |   Train Loss |   Val Loss |   Best Loss |   Best Epoch |\n",
      "+=========+==============+============+=============+==============+\n",
      "|      51 |    0.0509769 |    2.44095 |    0.258923 |           32 |\n",
      "+---------+--------------+------------+-------------+--------------+\n",
      "+---------+--------------+------------+-------------+--------------+\n",
      "|   Epoch |   Train Loss |   Val Loss |   Best Loss |   Best Epoch |\n",
      "+=========+==============+============+=============+==============+\n",
      "|      52 |    0.0433326 |    2.46278 |    0.258923 |           32 |\n",
      "+---------+--------------+------------+-------------+--------------+\n",
      "+---------+--------------+------------+-------------+--------------+\n",
      "|   Epoch |   Train Loss |   Val Loss |   Best Loss |   Best Epoch |\n",
      "+=========+==============+============+=============+==============+\n",
      "|      53 |       0.0505 |    2.44681 |    0.258923 |           32 |\n",
      "+---------+--------------+------------+-------------+--------------+\n",
      "+---------+--------------+------------+-------------+--------------+\n",
      "|   Epoch |   Train Loss |   Val Loss |   Best Loss |   Best Epoch |\n",
      "+=========+==============+============+=============+==============+\n",
      "|      54 |    0.0494719 |    2.45027 |    0.258923 |           32 |\n",
      "+---------+--------------+------------+-------------+--------------+\n",
      "+---------+--------------+------------+-------------+--------------+\n",
      "|   Epoch |   Train Loss |   Val Loss |   Best Loss |   Best Epoch |\n",
      "+=========+==============+============+=============+==============+\n",
      "|      55 |    0.0386089 |    2.43506 |    0.258923 |           32 |\n",
      "+---------+--------------+------------+-------------+--------------+\n",
      "+---------+--------------+------------+-------------+--------------+\n",
      "|   Epoch |   Train Loss |   Val Loss |   Best Loss |   Best Epoch |\n",
      "+=========+==============+============+=============+==============+\n",
      "|      56 |    0.0397414 |     2.4396 |    0.258923 |           32 |\n",
      "+---------+--------------+------------+-------------+--------------+\n",
      "Early stopping triggered after 58 epochs.\n"
     ]
    }
   ],
   "source": [
    "# Define optimizer\n",
    "optimizer = torch.optim.Adam(model.parameters())\n",
    "loaders = [training_loader, validation_loader]\n",
    "tloss, vloss = model.train_(optimizer,loaders,epochs,patience,wait)"
   ]
  },
  {
   "cell_type": "code",
   "execution_count": null,
   "metadata": {},
   "outputs": [
    {
     "data": {
      "application/vnd.plotly.v1+json": {
       "config": {
        "plotlyServerURL": "https://plot.ly"
       },
       "data": [
        {
         "mode": "lines",
         "name": "training loss",
         "type": "scatter",
         "y": [
          731.5778198242188,
          457.46099853515625,
          279.02777099609375,
          156.65240478515625,
          75.68864440917969,
          41.22052001953125,
          28.197437286376953,
          19.961341857910156,
          19.1048526763916,
          18.75327491760254,
          14.9153470993042,
          12.24498462677002,
          9.703606605529785,
          7.5730977058410645,
          5.680844306945801,
          4.167407989501953,
          3.2965986728668213,
          3.073051691055298,
          2.4238674640655518,
          2.1366028785705566,
          1.925826072692871,
          1.3560056686401367,
          1.279398798942566,
          1.0901540517807007,
          1.09824538230896,
          1.037105917930603,
          1.019984483718872,
          0.676959753036499,
          0.49939754605293274,
          0.42700767517089844,
          0.49380961060523987,
          0.3326982259750366,
          0.2589225769042969,
          0.2882927656173706,
          0.20244717597961426,
          0.15285611152648926,
          0.14731287956237793,
          0.12695789337158203,
          0.13208389282226562,
          0.10079145431518555,
          0.09417533874511719,
          0.11874735355377197,
          0.08407235145568848,
          0.08410215377807617,
          0.06736814975738525,
          0.06292760372161865,
          0.07496774196624756,
          0.05832314491271973,
          0.059098005294799805,
          0.05467236042022705,
          0.05607307329773903,
          0.05097687244415283,
          0.04333258047699928,
          0.05050003528594971,
          0.04947185516357422,
          0.03860890865325928,
          0.0397413969039917,
          0.036150217056274414
         ]
        },
        {
         "mode": "lines",
         "name": "validation loss",
         "type": "scatter",
         "y": [
          600.14990234375,
          370.84765625,
          205.0172576904297,
          116.09941101074219,
          68.3358383178711,
          44.06561279296875,
          32.477317810058594,
          24.0011043548584,
          20.981708526611328,
          19.278722763061523,
          17.990623474121094,
          14.29849624633789,
          11.486894607543945,
          8.707457542419434,
          7.742499351501465,
          7.285815238952637,
          5.726125717163086,
          5.282472133636475,
          4.958828926086426,
          5.0589752197265625,
          4.505772113800049,
          3.929384708404541,
          4.160496711730957,
          4.020240783691406,
          3.714191436767578,
          3.048140525817871,
          3.010568857192993,
          3.221435785293579,
          2.969616413116455,
          3.026343584060669,
          2.5688881874084473,
          2.719749689102173,
          2.3870015144348145,
          2.509705066680908,
          2.6427979469299316,
          2.703861951828003,
          2.5771610736846924,
          2.5938706398010254,
          2.5429294109344482,
          2.612954616546631,
          2.5252432823181152,
          2.5278022289276123,
          2.5210914611816406,
          2.547790288925171,
          2.505943775177002,
          2.549588680267334,
          2.5362393856048584,
          2.430410146713257,
          2.436781883239746,
          2.463151693344116,
          2.479984760284424,
          2.4409542083740234,
          2.4627816677093506,
          2.4468116760253906,
          2.45027494430542,
          2.4350552558898926,
          2.4395976066589355,
          2.4193832874298096
         ]
        }
       ],
       "layout": {
        "template": {
         "data": {
          "bar": [
           {
            "error_x": {
             "color": "#2a3f5f"
            },
            "error_y": {
             "color": "#2a3f5f"
            },
            "marker": {
             "line": {
              "color": "white",
              "width": 0.5
             },
             "pattern": {
              "fillmode": "overlay",
              "size": 10,
              "solidity": 0.2
             }
            },
            "type": "bar"
           }
          ],
          "barpolar": [
           {
            "marker": {
             "line": {
              "color": "white",
              "width": 0.5
             },
             "pattern": {
              "fillmode": "overlay",
              "size": 10,
              "solidity": 0.2
             }
            },
            "type": "barpolar"
           }
          ],
          "carpet": [
           {
            "aaxis": {
             "endlinecolor": "#2a3f5f",
             "gridcolor": "#C8D4E3",
             "linecolor": "#C8D4E3",
             "minorgridcolor": "#C8D4E3",
             "startlinecolor": "#2a3f5f"
            },
            "baxis": {
             "endlinecolor": "#2a3f5f",
             "gridcolor": "#C8D4E3",
             "linecolor": "#C8D4E3",
             "minorgridcolor": "#C8D4E3",
             "startlinecolor": "#2a3f5f"
            },
            "type": "carpet"
           }
          ],
          "choropleth": [
           {
            "colorbar": {
             "outlinewidth": 0,
             "ticks": ""
            },
            "type": "choropleth"
           }
          ],
          "contour": [
           {
            "colorbar": {
             "outlinewidth": 0,
             "ticks": ""
            },
            "colorscale": [
             [
              0,
              "#0d0887"
             ],
             [
              0.1111111111111111,
              "#46039f"
             ],
             [
              0.2222222222222222,
              "#7201a8"
             ],
             [
              0.3333333333333333,
              "#9c179e"
             ],
             [
              0.4444444444444444,
              "#bd3786"
             ],
             [
              0.5555555555555556,
              "#d8576b"
             ],
             [
              0.6666666666666666,
              "#ed7953"
             ],
             [
              0.7777777777777778,
              "#fb9f3a"
             ],
             [
              0.8888888888888888,
              "#fdca26"
             ],
             [
              1,
              "#f0f921"
             ]
            ],
            "type": "contour"
           }
          ],
          "contourcarpet": [
           {
            "colorbar": {
             "outlinewidth": 0,
             "ticks": ""
            },
            "type": "contourcarpet"
           }
          ],
          "heatmap": [
           {
            "colorbar": {
             "outlinewidth": 0,
             "ticks": ""
            },
            "colorscale": [
             [
              0,
              "#0d0887"
             ],
             [
              0.1111111111111111,
              "#46039f"
             ],
             [
              0.2222222222222222,
              "#7201a8"
             ],
             [
              0.3333333333333333,
              "#9c179e"
             ],
             [
              0.4444444444444444,
              "#bd3786"
             ],
             [
              0.5555555555555556,
              "#d8576b"
             ],
             [
              0.6666666666666666,
              "#ed7953"
             ],
             [
              0.7777777777777778,
              "#fb9f3a"
             ],
             [
              0.8888888888888888,
              "#fdca26"
             ],
             [
              1,
              "#f0f921"
             ]
            ],
            "type": "heatmap"
           }
          ],
          "heatmapgl": [
           {
            "colorbar": {
             "outlinewidth": 0,
             "ticks": ""
            },
            "colorscale": [
             [
              0,
              "#0d0887"
             ],
             [
              0.1111111111111111,
              "#46039f"
             ],
             [
              0.2222222222222222,
              "#7201a8"
             ],
             [
              0.3333333333333333,
              "#9c179e"
             ],
             [
              0.4444444444444444,
              "#bd3786"
             ],
             [
              0.5555555555555556,
              "#d8576b"
             ],
             [
              0.6666666666666666,
              "#ed7953"
             ],
             [
              0.7777777777777778,
              "#fb9f3a"
             ],
             [
              0.8888888888888888,
              "#fdca26"
             ],
             [
              1,
              "#f0f921"
             ]
            ],
            "type": "heatmapgl"
           }
          ],
          "histogram": [
           {
            "marker": {
             "pattern": {
              "fillmode": "overlay",
              "size": 10,
              "solidity": 0.2
             }
            },
            "type": "histogram"
           }
          ],
          "histogram2d": [
           {
            "colorbar": {
             "outlinewidth": 0,
             "ticks": ""
            },
            "colorscale": [
             [
              0,
              "#0d0887"
             ],
             [
              0.1111111111111111,
              "#46039f"
             ],
             [
              0.2222222222222222,
              "#7201a8"
             ],
             [
              0.3333333333333333,
              "#9c179e"
             ],
             [
              0.4444444444444444,
              "#bd3786"
             ],
             [
              0.5555555555555556,
              "#d8576b"
             ],
             [
              0.6666666666666666,
              "#ed7953"
             ],
             [
              0.7777777777777778,
              "#fb9f3a"
             ],
             [
              0.8888888888888888,
              "#fdca26"
             ],
             [
              1,
              "#f0f921"
             ]
            ],
            "type": "histogram2d"
           }
          ],
          "histogram2dcontour": [
           {
            "colorbar": {
             "outlinewidth": 0,
             "ticks": ""
            },
            "colorscale": [
             [
              0,
              "#0d0887"
             ],
             [
              0.1111111111111111,
              "#46039f"
             ],
             [
              0.2222222222222222,
              "#7201a8"
             ],
             [
              0.3333333333333333,
              "#9c179e"
             ],
             [
              0.4444444444444444,
              "#bd3786"
             ],
             [
              0.5555555555555556,
              "#d8576b"
             ],
             [
              0.6666666666666666,
              "#ed7953"
             ],
             [
              0.7777777777777778,
              "#fb9f3a"
             ],
             [
              0.8888888888888888,
              "#fdca26"
             ],
             [
              1,
              "#f0f921"
             ]
            ],
            "type": "histogram2dcontour"
           }
          ],
          "mesh3d": [
           {
            "colorbar": {
             "outlinewidth": 0,
             "ticks": ""
            },
            "type": "mesh3d"
           }
          ],
          "parcoords": [
           {
            "line": {
             "colorbar": {
              "outlinewidth": 0,
              "ticks": ""
             }
            },
            "type": "parcoords"
           }
          ],
          "pie": [
           {
            "automargin": true,
            "type": "pie"
           }
          ],
          "scatter": [
           {
            "fillpattern": {
             "fillmode": "overlay",
             "size": 10,
             "solidity": 0.2
            },
            "type": "scatter"
           }
          ],
          "scatter3d": [
           {
            "line": {
             "colorbar": {
              "outlinewidth": 0,
              "ticks": ""
             }
            },
            "marker": {
             "colorbar": {
              "outlinewidth": 0,
              "ticks": ""
             }
            },
            "type": "scatter3d"
           }
          ],
          "scattercarpet": [
           {
            "marker": {
             "colorbar": {
              "outlinewidth": 0,
              "ticks": ""
             }
            },
            "type": "scattercarpet"
           }
          ],
          "scattergeo": [
           {
            "marker": {
             "colorbar": {
              "outlinewidth": 0,
              "ticks": ""
             }
            },
            "type": "scattergeo"
           }
          ],
          "scattergl": [
           {
            "marker": {
             "colorbar": {
              "outlinewidth": 0,
              "ticks": ""
             }
            },
            "type": "scattergl"
           }
          ],
          "scattermapbox": [
           {
            "marker": {
             "colorbar": {
              "outlinewidth": 0,
              "ticks": ""
             }
            },
            "type": "scattermapbox"
           }
          ],
          "scatterpolar": [
           {
            "marker": {
             "colorbar": {
              "outlinewidth": 0,
              "ticks": ""
             }
            },
            "type": "scatterpolar"
           }
          ],
          "scatterpolargl": [
           {
            "marker": {
             "colorbar": {
              "outlinewidth": 0,
              "ticks": ""
             }
            },
            "type": "scatterpolargl"
           }
          ],
          "scatterternary": [
           {
            "marker": {
             "colorbar": {
              "outlinewidth": 0,
              "ticks": ""
             }
            },
            "type": "scatterternary"
           }
          ],
          "surface": [
           {
            "colorbar": {
             "outlinewidth": 0,
             "ticks": ""
            },
            "colorscale": [
             [
              0,
              "#0d0887"
             ],
             [
              0.1111111111111111,
              "#46039f"
             ],
             [
              0.2222222222222222,
              "#7201a8"
             ],
             [
              0.3333333333333333,
              "#9c179e"
             ],
             [
              0.4444444444444444,
              "#bd3786"
             ],
             [
              0.5555555555555556,
              "#d8576b"
             ],
             [
              0.6666666666666666,
              "#ed7953"
             ],
             [
              0.7777777777777778,
              "#fb9f3a"
             ],
             [
              0.8888888888888888,
              "#fdca26"
             ],
             [
              1,
              "#f0f921"
             ]
            ],
            "type": "surface"
           }
          ],
          "table": [
           {
            "cells": {
             "fill": {
              "color": "#EBF0F8"
             },
             "line": {
              "color": "white"
             }
            },
            "header": {
             "fill": {
              "color": "#C8D4E3"
             },
             "line": {
              "color": "white"
             }
            },
            "type": "table"
           }
          ]
         },
         "layout": {
          "annotationdefaults": {
           "arrowcolor": "#2a3f5f",
           "arrowhead": 0,
           "arrowwidth": 1
          },
          "autotypenumbers": "strict",
          "coloraxis": {
           "colorbar": {
            "outlinewidth": 0,
            "ticks": ""
           }
          },
          "colorscale": {
           "diverging": [
            [
             0,
             "#8e0152"
            ],
            [
             0.1,
             "#c51b7d"
            ],
            [
             0.2,
             "#de77ae"
            ],
            [
             0.3,
             "#f1b6da"
            ],
            [
             0.4,
             "#fde0ef"
            ],
            [
             0.5,
             "#f7f7f7"
            ],
            [
             0.6,
             "#e6f5d0"
            ],
            [
             0.7,
             "#b8e186"
            ],
            [
             0.8,
             "#7fbc41"
            ],
            [
             0.9,
             "#4d9221"
            ],
            [
             1,
             "#276419"
            ]
           ],
           "sequential": [
            [
             0,
             "#0d0887"
            ],
            [
             0.1111111111111111,
             "#46039f"
            ],
            [
             0.2222222222222222,
             "#7201a8"
            ],
            [
             0.3333333333333333,
             "#9c179e"
            ],
            [
             0.4444444444444444,
             "#bd3786"
            ],
            [
             0.5555555555555556,
             "#d8576b"
            ],
            [
             0.6666666666666666,
             "#ed7953"
            ],
            [
             0.7777777777777778,
             "#fb9f3a"
            ],
            [
             0.8888888888888888,
             "#fdca26"
            ],
            [
             1,
             "#f0f921"
            ]
           ],
           "sequentialminus": [
            [
             0,
             "#0d0887"
            ],
            [
             0.1111111111111111,
             "#46039f"
            ],
            [
             0.2222222222222222,
             "#7201a8"
            ],
            [
             0.3333333333333333,
             "#9c179e"
            ],
            [
             0.4444444444444444,
             "#bd3786"
            ],
            [
             0.5555555555555556,
             "#d8576b"
            ],
            [
             0.6666666666666666,
             "#ed7953"
            ],
            [
             0.7777777777777778,
             "#fb9f3a"
            ],
            [
             0.8888888888888888,
             "#fdca26"
            ],
            [
             1,
             "#f0f921"
            ]
           ]
          },
          "colorway": [
           "#636efa",
           "#EF553B",
           "#00cc96",
           "#ab63fa",
           "#FFA15A",
           "#19d3f3",
           "#FF6692",
           "#B6E880",
           "#FF97FF",
           "#FECB52"
          ],
          "font": {
           "color": "#2a3f5f"
          },
          "geo": {
           "bgcolor": "white",
           "lakecolor": "white",
           "landcolor": "white",
           "showlakes": true,
           "showland": true,
           "subunitcolor": "#C8D4E3"
          },
          "hoverlabel": {
           "align": "left"
          },
          "hovermode": "closest",
          "mapbox": {
           "style": "light"
          },
          "paper_bgcolor": "white",
          "plot_bgcolor": "white",
          "polar": {
           "angularaxis": {
            "gridcolor": "#EBF0F8",
            "linecolor": "#EBF0F8",
            "ticks": ""
           },
           "bgcolor": "white",
           "radialaxis": {
            "gridcolor": "#EBF0F8",
            "linecolor": "#EBF0F8",
            "ticks": ""
           }
          },
          "scene": {
           "xaxis": {
            "backgroundcolor": "white",
            "gridcolor": "#DFE8F3",
            "gridwidth": 2,
            "linecolor": "#EBF0F8",
            "showbackground": true,
            "ticks": "",
            "zerolinecolor": "#EBF0F8"
           },
           "yaxis": {
            "backgroundcolor": "white",
            "gridcolor": "#DFE8F3",
            "gridwidth": 2,
            "linecolor": "#EBF0F8",
            "showbackground": true,
            "ticks": "",
            "zerolinecolor": "#EBF0F8"
           },
           "zaxis": {
            "backgroundcolor": "white",
            "gridcolor": "#DFE8F3",
            "gridwidth": 2,
            "linecolor": "#EBF0F8",
            "showbackground": true,
            "ticks": "",
            "zerolinecolor": "#EBF0F8"
           }
          },
          "shapedefaults": {
           "line": {
            "color": "#2a3f5f"
           }
          },
          "ternary": {
           "aaxis": {
            "gridcolor": "#DFE8F3",
            "linecolor": "#A2B1C6",
            "ticks": ""
           },
           "baxis": {
            "gridcolor": "#DFE8F3",
            "linecolor": "#A2B1C6",
            "ticks": ""
           },
           "bgcolor": "white",
           "caxis": {
            "gridcolor": "#DFE8F3",
            "linecolor": "#A2B1C6",
            "ticks": ""
           }
          },
          "title": {
           "x": 0.05
          },
          "xaxis": {
           "automargin": true,
           "gridcolor": "#EBF0F8",
           "linecolor": "#EBF0F8",
           "ticks": "",
           "title": {
            "standoff": 15
           },
           "zerolinecolor": "#EBF0F8",
           "zerolinewidth": 2
          },
          "yaxis": {
           "automargin": true,
           "gridcolor": "#EBF0F8",
           "linecolor": "#EBF0F8",
           "ticks": "",
           "title": {
            "standoff": 15
           },
           "zerolinecolor": "#EBF0F8",
           "zerolinewidth": 2
          }
         }
        },
        "title": {
         "text": "VAE Training and Validation Loss"
        },
        "xaxis": {
         "title": {
          "text": "Epoch"
         }
        },
        "yaxis": {
         "title": {
          "text": "Loss"
         }
        }
       }
      }
     },
     "metadata": {},
     "output_type": "display_data"
    }
   ],
   "source": [
    "# # plot complete training and validation loss history\n",
    "vloss_cpu = [tensor.cpu() for tensor in vloss]\n",
    "fig = go.Figure()\n",
    "fig.add_trace(go.Scatter(y=tloss, mode='lines', name='training loss'))\n",
    "fig.add_trace(go.Scatter(y=vloss_cpu, mode='lines', name='validation loss'))\n",
    "fig.update_layout(title='VAE Training and Validation Loss',\n",
    "                   xaxis_title='Epoch',\n",
    "                   yaxis_title='Loss',\n",
    "                   template = \"plotly_white\")\n",
    "\n",
    "fig.show()"
   ]
  },
  {
   "cell_type": "markdown",
   "metadata": {},
   "source": [
    "### <strong> 2.4 | Convert image feature into VAE's latent space</strong>"
   ]
  },
  {
   "cell_type": "code",
   "execution_count": 9,
   "metadata": {},
   "outputs": [],
   "source": [
    "img_zfeat = []\n",
    "labels = []\n",
    "\n",
    "for [data,label] in test_loader:\n",
    "    x = data.to(model.device)  # Ensure data is on the correct device\n",
    "    z, mu, var = model.forward(x)\n",
    "    \n",
    "    img_zfeat.append(z)\n",
    "    labels.append(label)\n",
    "labels = [item for sublist in labels for item in sublist]\n",
    "encoded_feat = torch.cat(img_zfeat)"
   ]
  },
  {
   "cell_type": "markdown",
   "metadata": {},
   "source": [
    "### <strong> 2.5 | Plotting the latent features</strong>"
   ]
  },
  {
   "cell_type": "code",
   "execution_count": 8,
   "metadata": {},
   "outputs": [
    {
     "ename": "NameError",
     "evalue": "name 'imgfeature_sp' is not defined",
     "output_type": "error",
     "traceback": [
      "\u001b[1;31m---------------------------------------------------------------------------\u001b[0m",
      "\u001b[1;31mNameError\u001b[0m                                 Traceback (most recent call last)",
      "Cell \u001b[1;32mIn[8], line 4\u001b[0m\n\u001b[0;32m      2\u001b[0m ubound \u001b[38;5;241m=\u001b[39m encoded_feat\u001b[38;5;241m.\u001b[39mshape[\u001b[38;5;241m1\u001b[39m]\n\u001b[0;32m      3\u001b[0m ind_list \u001b[38;5;241m=\u001b[39m np\u001b[38;5;241m.\u001b[39mrandom\u001b[38;5;241m.\u001b[39mrandint(\u001b[38;5;241m0\u001b[39m, ubound, size\u001b[38;5;241m=\u001b[39m(\u001b[38;5;241m3\u001b[39m,))\n\u001b[1;32m----> 4\u001b[0m \u001b[43mimgfeature_sp\u001b[49m(encoded_feat,ind_list)\n",
      "\u001b[1;31mNameError\u001b[0m: name 'imgfeature_sp' is not defined"
     ]
    }
   ],
   "source": [
    "# Plot the features in the a dummy latent space\n",
    "ubound = encoded_feat.shape[1]\n",
    "ind_list = np.random.randint(0, ubound, size=(3,))\n",
    "imgfeature_sp(encoded_feat,ind_list)"
   ]
  },
  {
   "cell_type": "markdown",
   "metadata": {},
   "source": [
    "## <strong> 3 | Classification through Gaussian Mixtures</strong>"
   ]
  },
  {
   "cell_type": "markdown",
   "metadata": {},
   "source": [
    "### <strong> 3.2 | Initiate the model</strong>"
   ]
  },
  {
   "cell_type": "code",
   "execution_count": 10,
   "metadata": {},
   "outputs": [
    {
     "data": {
      "application/vnd.plotly.v1+json": {
       "config": {
        "plotlyServerURL": "https://plot.ly"
       },
       "data": [
        {
         "mode": "lines+markers",
         "name": "AIC",
         "type": "scatter",
         "x": [
          1,
          2,
          3,
          4,
          5,
          6,
          7,
          8,
          9,
          10,
          11,
          12,
          13,
          14,
          15,
          16,
          17
         ],
         "xaxis": "x",
         "y": [
          446291.04523709323,
          1428943.6108339287,
          2424802.8909771936,
          3425198.3780019972,
          4427644.926822444,
          5429423.5908746505,
          6430908.5815672,
          7432824.963448472,
          8434881.392936878,
          9437528.217443205,
          10439670.098871706,
          11443016.637508519,
          12445261.970816612,
          13446952.952271666,
          14451371.322586719,
          15453558.194618372,
          16456424.925600976
         ],
         "yaxis": "y"
        },
        {
         "mode": "lines+markers",
         "name": "BIC",
         "type": "scatter",
         "x": [
          1,
          2,
          3,
          4,
          5,
          6,
          7,
          8,
          9,
          10,
          11,
          12,
          13,
          14,
          15,
          16,
          17
         ],
         "xaxis": "x",
         "y": [
          1405170.5824593084,
          3346704.597301365,
          5301445.32668985,
          7260722.262959874,
          9222050.261025542,
          11182710.374322968,
          13143076.814260738,
          15103874.645387232,
          17064812.52412086,
          19026340.797872405,
          20987364.12854613,
          22949592.116428163,
          24910718.898981474,
          26871291.32968175,
          28834591.14924202,
          30795659.4705189,
          32757407.65074672
         ],
         "yaxis": "y"
        },
        {
         "mode": "lines+markers",
         "name": "Log Likelihood",
         "type": "scatter",
         "x": [
          1,
          2,
          3,
          4,
          5,
          6,
          7,
          8,
          9,
          10,
          11,
          12,
          13,
          14,
          15,
          16,
          17
         ],
         "xaxis": "x2",
         "y": [
          278354.4773814534,
          288529.19458303566,
          292100.55451140314,
          293403.8109990014,
          293681.5365887778,
          294293.2045626749,
          295051.7092163998,
          295594.5182757641,
          296067.30353156093,
          296244.8912783973,
          296674.95056414657,
          296502.6812457404,
          296881.0145916935,
          297536.52386416646,
          296828.3387066401,
          297235.9026908135,
          297303.5371995118
         ],
         "yaxis": "y2"
        }
       ],
       "layout": {
        "annotations": [
         {
          "font": {
           "size": 16
          },
          "showarrow": false,
          "text": "AIC & BIC Scores per K",
          "x": 0.225,
          "xanchor": "center",
          "xref": "paper",
          "y": 1,
          "yanchor": "bottom",
          "yref": "paper"
         },
         {
          "font": {
           "size": 16
          },
          "showarrow": false,
          "text": "Log Likelihood per K",
          "x": 0.775,
          "xanchor": "center",
          "xref": "paper",
          "y": 1,
          "yanchor": "bottom",
          "yref": "paper"
         }
        ],
        "height": 600,
        "showlegend": true,
        "template": {
         "data": {
          "bar": [
           {
            "error_x": {
             "color": "#2a3f5f"
            },
            "error_y": {
             "color": "#2a3f5f"
            },
            "marker": {
             "line": {
              "color": "#E5ECF6",
              "width": 0.5
             },
             "pattern": {
              "fillmode": "overlay",
              "size": 10,
              "solidity": 0.2
             }
            },
            "type": "bar"
           }
          ],
          "barpolar": [
           {
            "marker": {
             "line": {
              "color": "#E5ECF6",
              "width": 0.5
             },
             "pattern": {
              "fillmode": "overlay",
              "size": 10,
              "solidity": 0.2
             }
            },
            "type": "barpolar"
           }
          ],
          "carpet": [
           {
            "aaxis": {
             "endlinecolor": "#2a3f5f",
             "gridcolor": "white",
             "linecolor": "white",
             "minorgridcolor": "white",
             "startlinecolor": "#2a3f5f"
            },
            "baxis": {
             "endlinecolor": "#2a3f5f",
             "gridcolor": "white",
             "linecolor": "white",
             "minorgridcolor": "white",
             "startlinecolor": "#2a3f5f"
            },
            "type": "carpet"
           }
          ],
          "choropleth": [
           {
            "colorbar": {
             "outlinewidth": 0,
             "ticks": ""
            },
            "type": "choropleth"
           }
          ],
          "contour": [
           {
            "colorbar": {
             "outlinewidth": 0,
             "ticks": ""
            },
            "colorscale": [
             [
              0,
              "#0d0887"
             ],
             [
              0.1111111111111111,
              "#46039f"
             ],
             [
              0.2222222222222222,
              "#7201a8"
             ],
             [
              0.3333333333333333,
              "#9c179e"
             ],
             [
              0.4444444444444444,
              "#bd3786"
             ],
             [
              0.5555555555555556,
              "#d8576b"
             ],
             [
              0.6666666666666666,
              "#ed7953"
             ],
             [
              0.7777777777777778,
              "#fb9f3a"
             ],
             [
              0.8888888888888888,
              "#fdca26"
             ],
             [
              1,
              "#f0f921"
             ]
            ],
            "type": "contour"
           }
          ],
          "contourcarpet": [
           {
            "colorbar": {
             "outlinewidth": 0,
             "ticks": ""
            },
            "type": "contourcarpet"
           }
          ],
          "heatmap": [
           {
            "colorbar": {
             "outlinewidth": 0,
             "ticks": ""
            },
            "colorscale": [
             [
              0,
              "#0d0887"
             ],
             [
              0.1111111111111111,
              "#46039f"
             ],
             [
              0.2222222222222222,
              "#7201a8"
             ],
             [
              0.3333333333333333,
              "#9c179e"
             ],
             [
              0.4444444444444444,
              "#bd3786"
             ],
             [
              0.5555555555555556,
              "#d8576b"
             ],
             [
              0.6666666666666666,
              "#ed7953"
             ],
             [
              0.7777777777777778,
              "#fb9f3a"
             ],
             [
              0.8888888888888888,
              "#fdca26"
             ],
             [
              1,
              "#f0f921"
             ]
            ],
            "type": "heatmap"
           }
          ],
          "heatmapgl": [
           {
            "colorbar": {
             "outlinewidth": 0,
             "ticks": ""
            },
            "colorscale": [
             [
              0,
              "#0d0887"
             ],
             [
              0.1111111111111111,
              "#46039f"
             ],
             [
              0.2222222222222222,
              "#7201a8"
             ],
             [
              0.3333333333333333,
              "#9c179e"
             ],
             [
              0.4444444444444444,
              "#bd3786"
             ],
             [
              0.5555555555555556,
              "#d8576b"
             ],
             [
              0.6666666666666666,
              "#ed7953"
             ],
             [
              0.7777777777777778,
              "#fb9f3a"
             ],
             [
              0.8888888888888888,
              "#fdca26"
             ],
             [
              1,
              "#f0f921"
             ]
            ],
            "type": "heatmapgl"
           }
          ],
          "histogram": [
           {
            "marker": {
             "pattern": {
              "fillmode": "overlay",
              "size": 10,
              "solidity": 0.2
             }
            },
            "type": "histogram"
           }
          ],
          "histogram2d": [
           {
            "colorbar": {
             "outlinewidth": 0,
             "ticks": ""
            },
            "colorscale": [
             [
              0,
              "#0d0887"
             ],
             [
              0.1111111111111111,
              "#46039f"
             ],
             [
              0.2222222222222222,
              "#7201a8"
             ],
             [
              0.3333333333333333,
              "#9c179e"
             ],
             [
              0.4444444444444444,
              "#bd3786"
             ],
             [
              0.5555555555555556,
              "#d8576b"
             ],
             [
              0.6666666666666666,
              "#ed7953"
             ],
             [
              0.7777777777777778,
              "#fb9f3a"
             ],
             [
              0.8888888888888888,
              "#fdca26"
             ],
             [
              1,
              "#f0f921"
             ]
            ],
            "type": "histogram2d"
           }
          ],
          "histogram2dcontour": [
           {
            "colorbar": {
             "outlinewidth": 0,
             "ticks": ""
            },
            "colorscale": [
             [
              0,
              "#0d0887"
             ],
             [
              0.1111111111111111,
              "#46039f"
             ],
             [
              0.2222222222222222,
              "#7201a8"
             ],
             [
              0.3333333333333333,
              "#9c179e"
             ],
             [
              0.4444444444444444,
              "#bd3786"
             ],
             [
              0.5555555555555556,
              "#d8576b"
             ],
             [
              0.6666666666666666,
              "#ed7953"
             ],
             [
              0.7777777777777778,
              "#fb9f3a"
             ],
             [
              0.8888888888888888,
              "#fdca26"
             ],
             [
              1,
              "#f0f921"
             ]
            ],
            "type": "histogram2dcontour"
           }
          ],
          "mesh3d": [
           {
            "colorbar": {
             "outlinewidth": 0,
             "ticks": ""
            },
            "type": "mesh3d"
           }
          ],
          "parcoords": [
           {
            "line": {
             "colorbar": {
              "outlinewidth": 0,
              "ticks": ""
             }
            },
            "type": "parcoords"
           }
          ],
          "pie": [
           {
            "automargin": true,
            "type": "pie"
           }
          ],
          "scatter": [
           {
            "fillpattern": {
             "fillmode": "overlay",
             "size": 10,
             "solidity": 0.2
            },
            "type": "scatter"
           }
          ],
          "scatter3d": [
           {
            "line": {
             "colorbar": {
              "outlinewidth": 0,
              "ticks": ""
             }
            },
            "marker": {
             "colorbar": {
              "outlinewidth": 0,
              "ticks": ""
             }
            },
            "type": "scatter3d"
           }
          ],
          "scattercarpet": [
           {
            "marker": {
             "colorbar": {
              "outlinewidth": 0,
              "ticks": ""
             }
            },
            "type": "scattercarpet"
           }
          ],
          "scattergeo": [
           {
            "marker": {
             "colorbar": {
              "outlinewidth": 0,
              "ticks": ""
             }
            },
            "type": "scattergeo"
           }
          ],
          "scattergl": [
           {
            "marker": {
             "colorbar": {
              "outlinewidth": 0,
              "ticks": ""
             }
            },
            "type": "scattergl"
           }
          ],
          "scattermapbox": [
           {
            "marker": {
             "colorbar": {
              "outlinewidth": 0,
              "ticks": ""
             }
            },
            "type": "scattermapbox"
           }
          ],
          "scatterpolar": [
           {
            "marker": {
             "colorbar": {
              "outlinewidth": 0,
              "ticks": ""
             }
            },
            "type": "scatterpolar"
           }
          ],
          "scatterpolargl": [
           {
            "marker": {
             "colorbar": {
              "outlinewidth": 0,
              "ticks": ""
             }
            },
            "type": "scatterpolargl"
           }
          ],
          "scatterternary": [
           {
            "marker": {
             "colorbar": {
              "outlinewidth": 0,
              "ticks": ""
             }
            },
            "type": "scatterternary"
           }
          ],
          "surface": [
           {
            "colorbar": {
             "outlinewidth": 0,
             "ticks": ""
            },
            "colorscale": [
             [
              0,
              "#0d0887"
             ],
             [
              0.1111111111111111,
              "#46039f"
             ],
             [
              0.2222222222222222,
              "#7201a8"
             ],
             [
              0.3333333333333333,
              "#9c179e"
             ],
             [
              0.4444444444444444,
              "#bd3786"
             ],
             [
              0.5555555555555556,
              "#d8576b"
             ],
             [
              0.6666666666666666,
              "#ed7953"
             ],
             [
              0.7777777777777778,
              "#fb9f3a"
             ],
             [
              0.8888888888888888,
              "#fdca26"
             ],
             [
              1,
              "#f0f921"
             ]
            ],
            "type": "surface"
           }
          ],
          "table": [
           {
            "cells": {
             "fill": {
              "color": "#EBF0F8"
             },
             "line": {
              "color": "white"
             }
            },
            "header": {
             "fill": {
              "color": "#C8D4E3"
             },
             "line": {
              "color": "white"
             }
            },
            "type": "table"
           }
          ]
         },
         "layout": {
          "annotationdefaults": {
           "arrowcolor": "#2a3f5f",
           "arrowhead": 0,
           "arrowwidth": 1
          },
          "autotypenumbers": "strict",
          "coloraxis": {
           "colorbar": {
            "outlinewidth": 0,
            "ticks": ""
           }
          },
          "colorscale": {
           "diverging": [
            [
             0,
             "#8e0152"
            ],
            [
             0.1,
             "#c51b7d"
            ],
            [
             0.2,
             "#de77ae"
            ],
            [
             0.3,
             "#f1b6da"
            ],
            [
             0.4,
             "#fde0ef"
            ],
            [
             0.5,
             "#f7f7f7"
            ],
            [
             0.6,
             "#e6f5d0"
            ],
            [
             0.7,
             "#b8e186"
            ],
            [
             0.8,
             "#7fbc41"
            ],
            [
             0.9,
             "#4d9221"
            ],
            [
             1,
             "#276419"
            ]
           ],
           "sequential": [
            [
             0,
             "#0d0887"
            ],
            [
             0.1111111111111111,
             "#46039f"
            ],
            [
             0.2222222222222222,
             "#7201a8"
            ],
            [
             0.3333333333333333,
             "#9c179e"
            ],
            [
             0.4444444444444444,
             "#bd3786"
            ],
            [
             0.5555555555555556,
             "#d8576b"
            ],
            [
             0.6666666666666666,
             "#ed7953"
            ],
            [
             0.7777777777777778,
             "#fb9f3a"
            ],
            [
             0.8888888888888888,
             "#fdca26"
            ],
            [
             1,
             "#f0f921"
            ]
           ],
           "sequentialminus": [
            [
             0,
             "#0d0887"
            ],
            [
             0.1111111111111111,
             "#46039f"
            ],
            [
             0.2222222222222222,
             "#7201a8"
            ],
            [
             0.3333333333333333,
             "#9c179e"
            ],
            [
             0.4444444444444444,
             "#bd3786"
            ],
            [
             0.5555555555555556,
             "#d8576b"
            ],
            [
             0.6666666666666666,
             "#ed7953"
            ],
            [
             0.7777777777777778,
             "#fb9f3a"
            ],
            [
             0.8888888888888888,
             "#fdca26"
            ],
            [
             1,
             "#f0f921"
            ]
           ]
          },
          "colorway": [
           "#636efa",
           "#EF553B",
           "#00cc96",
           "#ab63fa",
           "#FFA15A",
           "#19d3f3",
           "#FF6692",
           "#B6E880",
           "#FF97FF",
           "#FECB52"
          ],
          "font": {
           "color": "#2a3f5f"
          },
          "geo": {
           "bgcolor": "white",
           "lakecolor": "white",
           "landcolor": "#E5ECF6",
           "showlakes": true,
           "showland": true,
           "subunitcolor": "white"
          },
          "hoverlabel": {
           "align": "left"
          },
          "hovermode": "closest",
          "mapbox": {
           "style": "light"
          },
          "paper_bgcolor": "white",
          "plot_bgcolor": "#E5ECF6",
          "polar": {
           "angularaxis": {
            "gridcolor": "white",
            "linecolor": "white",
            "ticks": ""
           },
           "bgcolor": "#E5ECF6",
           "radialaxis": {
            "gridcolor": "white",
            "linecolor": "white",
            "ticks": ""
           }
          },
          "scene": {
           "xaxis": {
            "backgroundcolor": "#E5ECF6",
            "gridcolor": "white",
            "gridwidth": 2,
            "linecolor": "white",
            "showbackground": true,
            "ticks": "",
            "zerolinecolor": "white"
           },
           "yaxis": {
            "backgroundcolor": "#E5ECF6",
            "gridcolor": "white",
            "gridwidth": 2,
            "linecolor": "white",
            "showbackground": true,
            "ticks": "",
            "zerolinecolor": "white"
           },
           "zaxis": {
            "backgroundcolor": "#E5ECF6",
            "gridcolor": "white",
            "gridwidth": 2,
            "linecolor": "white",
            "showbackground": true,
            "ticks": "",
            "zerolinecolor": "white"
           }
          },
          "shapedefaults": {
           "line": {
            "color": "#2a3f5f"
           }
          },
          "ternary": {
           "aaxis": {
            "gridcolor": "white",
            "linecolor": "white",
            "ticks": ""
           },
           "baxis": {
            "gridcolor": "white",
            "linecolor": "white",
            "ticks": ""
           },
           "bgcolor": "#E5ECF6",
           "caxis": {
            "gridcolor": "white",
            "linecolor": "white",
            "ticks": ""
           }
          },
          "title": {
           "x": 0.05
          },
          "xaxis": {
           "automargin": true,
           "gridcolor": "white",
           "linecolor": "white",
           "ticks": "",
           "title": {
            "standoff": 15
           },
           "zerolinecolor": "white",
           "zerolinewidth": 2
          },
          "yaxis": {
           "automargin": true,
           "gridcolor": "white",
           "linecolor": "white",
           "ticks": "",
           "title": {
            "standoff": 15
           },
           "zerolinecolor": "white",
           "zerolinewidth": 2
          }
         }
        },
        "title": {
         "text": "GMM Model Criteria per Number of Clusters"
        },
        "width": 1200,
        "xaxis": {
         "anchor": "y",
         "domain": [
          0,
          0.45
         ],
         "title": {
          "text": "Number of clusters (K)"
         }
        },
        "xaxis2": {
         "anchor": "y2",
         "domain": [
          0.55,
          1
         ],
         "title": {
          "text": "Number of clusters (K)"
         }
        },
        "yaxis": {
         "anchor": "x",
         "domain": [
          0,
          1
         ],
         "title": {
          "text": "Score"
         }
        },
        "yaxis2": {
         "anchor": "x2",
         "domain": [
          0,
          1
         ],
         "title": {
          "text": "Log Likelihood"
         }
        }
       }
      }
     },
     "metadata": {},
     "output_type": "display_data"
    }
   ],
   "source": [
    "monitor = True\n",
    "data = data.cpu()\n",
    "gmm = GM()\n",
    "dict_ = gmm.fit(data, k_max= 30, dgrad = 1e-5)\n",
    "\n",
    "if monitor:\n",
    "    from streetscapes.processing.utils.monitor_training import gm_elbo\n",
    "    gm_elbo(**dict_)\n",
    "\n",
    "cluster_labels = gmm.predict(features)"
   ]
  },
  {
   "cell_type": "code",
   "execution_count": 54,
   "metadata": {},
   "outputs": [
    {
     "data": {
      "text/plain": [
       "array([1., 0., 0., 0., 0., 0., 0., 0., 0., 0., 0., 0., 0., 0., 0., 0.])"
      ]
     },
     "execution_count": 54,
     "metadata": {},
     "output_type": "execute_result"
    }
   ],
   "source": [
    "cluster_labels[i]"
   ]
  },
  {
   "cell_type": "code",
   "execution_count": 59,
   "metadata": {},
   "outputs": [],
   "source": [
    "import pandas as pd"
   ]
  },
  {
   "cell_type": "code",
   "execution_count": 60,
   "metadata": {},
   "outputs": [],
   "source": [
    "STREETSCAPES_df = gpd_df['panoids.geojson'].drop(columns=['year', 'month', 'owner','ask_lng','ask_lat','consulted', 'url_side_a', 'url_front', 'url_side_b', 'url_back'])\n",
    "\n",
    "cols = ['im_side_a', 'im_front', 'im_side_b', 'im_back']\n",
    "new_cols = [f'{col}_label_ind' for col in cols]\n",
    "STREETSCAPES_df[new_cols] = pd.DataFrame([[None]*len(new_cols)], index=STREETSCAPES_df.index)\n",
    "\n",
    "label_to_index = {label: i for i, label in enumerate(labels)}\n",
    "\n",
    "for col, new_col in zip(cols, new_cols):\n",
    "    mask = STREETSCAPES_df[col].isin(labels)    \n",
    "    STREETSCAPES_df.loc[mask, new_col] = STREETSCAPES_df.loc[mask, col].map(label_to_index)\n"
   ]
  },
  {
   "cell_type": "code",
   "execution_count": 64,
   "metadata": {},
   "outputs": [
    {
     "data": {
      "text/plain": [
       "-89.938"
      ]
     },
     "execution_count": 64,
     "metadata": {},
     "output_type": "execute_result"
    }
   ],
   "source": [
    "STREETSCAPES_df['angle'].min()"
   ]
  },
  {
   "cell_type": "code",
   "execution_count": 33,
   "metadata": {},
   "outputs": [
    {
     "data": {
      "text/html": [
       "<div>\n",
       "<style scoped>\n",
       "    .dataframe tbody tr th:only-of-type {\n",
       "        vertical-align: middle;\n",
       "    }\n",
       "\n",
       "    .dataframe tbody tr th {\n",
       "        vertical-align: top;\n",
       "    }\n",
       "\n",
       "    .dataframe thead th {\n",
       "        text-align: right;\n",
       "    }\n",
       "</style>\n",
       "<table border=\"1\" class=\"dataframe\">\n",
       "  <thead>\n",
       "    <tr style=\"text-align: right;\">\n",
       "      <th></th>\n",
       "      <th>panoid</th>\n",
       "      <th>lat</th>\n",
       "      <th>lng</th>\n",
       "      <th>ask_lng</th>\n",
       "      <th>ask_lat</th>\n",
       "      <th>consulted</th>\n",
       "      <th>dist</th>\n",
       "      <th>angle</th>\n",
       "      <th>im_side_a</th>\n",
       "      <th>im_front</th>\n",
       "      <th>im_side_b</th>\n",
       "      <th>im_back</th>\n",
       "      <th>geometry</th>\n",
       "    </tr>\n",
       "  </thead>\n",
       "  <tbody>\n",
       "    <tr>\n",
       "      <th>0</th>\n",
       "      <td>Z5qJau_sr_GhMWL86nmdPw</td>\n",
       "      <td>51.970324</td>\n",
       "      <td>4.359441</td>\n",
       "      <td>4.359873</td>\n",
       "      <td>51.970418</td>\n",
       "      <td>1</td>\n",
       "      <td>21.508589</td>\n",
       "      <td>59.398</td>\n",
       "      <td>image_0_s_a.png</td>\n",
       "      <td>image_0_f.png</td>\n",
       "      <td>image_0_s_b.png</td>\n",
       "      <td>image_0_b.png</td>\n",
       "      <td>POINT (4.35944 51.97032)</td>\n",
       "    </tr>\n",
       "    <tr>\n",
       "      <th>1</th>\n",
       "      <td>W7NL3JnSXtQjP-gXx2Y8eA</td>\n",
       "      <td>51.970346</td>\n",
       "      <td>4.359419</td>\n",
       "      <td>4.359873</td>\n",
       "      <td>51.970418</td>\n",
       "      <td>1</td>\n",
       "      <td>21.983408</td>\n",
       "      <td>63.045</td>\n",
       "      <td>image_1_s_a.png</td>\n",
       "      <td>image_1_f.png</td>\n",
       "      <td>image_1_s_b.png</td>\n",
       "      <td>image_1_b.png</td>\n",
       "      <td>POINT (4.35942 51.97035)</td>\n",
       "    </tr>\n",
       "    <tr>\n",
       "      <th>2</th>\n",
       "      <td>_NsoIOl5Z2-9YM162biiuw</td>\n",
       "      <td>51.970301</td>\n",
       "      <td>4.359453</td>\n",
       "      <td>4.359873</td>\n",
       "      <td>51.970418</td>\n",
       "      <td>1</td>\n",
       "      <td>21.900022</td>\n",
       "      <td>55.545</td>\n",
       "      <td>image_2_s_a.png</td>\n",
       "      <td>image_2_f.png</td>\n",
       "      <td>image_2_s_b.png</td>\n",
       "      <td>image_2_b.png</td>\n",
       "      <td>POINT (4.35945 51.97030)</td>\n",
       "    </tr>\n",
       "    <tr>\n",
       "      <th>3</th>\n",
       "      <td>F8tYIBLMCAPAcBL40tinnw</td>\n",
       "      <td>51.970333</td>\n",
       "      <td>4.359424</td>\n",
       "      <td>4.359873</td>\n",
       "      <td>51.970418</td>\n",
       "      <td>1</td>\n",
       "      <td>22.222923</td>\n",
       "      <td>61.282</td>\n",
       "      <td>image_3_s_a.png</td>\n",
       "      <td>image_3_f.png</td>\n",
       "      <td>image_3_s_b.png</td>\n",
       "      <td>image_3_b.png</td>\n",
       "      <td>POINT (4.35942 51.97033)</td>\n",
       "    </tr>\n",
       "    <tr>\n",
       "      <th>4</th>\n",
       "      <td>HfqVNVb-mxOlJSNJFTCLyA</td>\n",
       "      <td>51.970351</td>\n",
       "      <td>4.359424</td>\n",
       "      <td>4.359873</td>\n",
       "      <td>51.970418</td>\n",
       "      <td>1</td>\n",
       "      <td>21.456919</td>\n",
       "      <td>63.598</td>\n",
       "      <td>image_4_s_a.png</td>\n",
       "      <td>image_4_f.png</td>\n",
       "      <td>image_4_s_b.png</td>\n",
       "      <td>image_4_b.png</td>\n",
       "      <td>POINT (4.35942 51.97035)</td>\n",
       "    </tr>\n",
       "    <tr>\n",
       "      <th>...</th>\n",
       "      <td>...</td>\n",
       "      <td>...</td>\n",
       "      <td>...</td>\n",
       "      <td>...</td>\n",
       "      <td>...</td>\n",
       "      <td>...</td>\n",
       "      <td>...</td>\n",
       "      <td>...</td>\n",
       "      <td>...</td>\n",
       "      <td>...</td>\n",
       "      <td>...</td>\n",
       "      <td>...</td>\n",
       "      <td>...</td>\n",
       "    </tr>\n",
       "    <tr>\n",
       "      <th>35851</th>\n",
       "      <td>TGNVrO1oewMlC1ASncyagA</td>\n",
       "      <td>52.031867</td>\n",
       "      <td>4.371974</td>\n",
       "      <td>4.371941</td>\n",
       "      <td>52.031870</td>\n",
       "      <td>1</td>\n",
       "      <td>1.496452</td>\n",
       "      <td>-37.382</td>\n",
       "      <td>image_35851_s_a.png</td>\n",
       "      <td>image_35851_f.png</td>\n",
       "      <td>image_35851_s_b.png</td>\n",
       "      <td>image_35851_b.png</td>\n",
       "      <td>POINT (4.37197 52.03187)</td>\n",
       "    </tr>\n",
       "    <tr>\n",
       "      <th>35852</th>\n",
       "      <td>nlg_WEai67R2THLL417ikA</td>\n",
       "      <td>52.031878</td>\n",
       "      <td>4.371990</td>\n",
       "      <td>4.371941</td>\n",
       "      <td>52.031870</td>\n",
       "      <td>1</td>\n",
       "      <td>1.846565</td>\n",
       "      <td>-37.382</td>\n",
       "      <td>image_35852_s_a.png</td>\n",
       "      <td>image_35852_f.png</td>\n",
       "      <td>image_35852_s_b.png</td>\n",
       "      <td>image_35852_b.png</td>\n",
       "      <td>POINT (4.37199 52.03188)</td>\n",
       "    </tr>\n",
       "    <tr>\n",
       "      <th>35853</th>\n",
       "      <td>fu_qhL4D_K1HgfoP7JVuMw</td>\n",
       "      <td>52.031934</td>\n",
       "      <td>4.372512</td>\n",
       "      <td>4.372670</td>\n",
       "      <td>52.031862</td>\n",
       "      <td>1</td>\n",
       "      <td>0.566714</td>\n",
       "      <td>-37.232</td>\n",
       "      <td>image_35853_s_a.png</td>\n",
       "      <td>image_35853_f.png</td>\n",
       "      <td>image_35853_s_b.png</td>\n",
       "      <td>image_35853_b.png</td>\n",
       "      <td>POINT (4.37251 52.03193)</td>\n",
       "    </tr>\n",
       "    <tr>\n",
       "      <th>35854</th>\n",
       "      <td>MxjS5He5JGJSDEy6K9Uy9Q</td>\n",
       "      <td>52.031938</td>\n",
       "      <td>4.372508</td>\n",
       "      <td>4.372670</td>\n",
       "      <td>52.031862</td>\n",
       "      <td>1</td>\n",
       "      <td>0.044956</td>\n",
       "      <td>-37.232</td>\n",
       "      <td>image_35854_s_a.png</td>\n",
       "      <td>image_35854_f.png</td>\n",
       "      <td>image_35854_s_b.png</td>\n",
       "      <td>image_35854_b.png</td>\n",
       "      <td>POINT (4.37251 52.03194)</td>\n",
       "    </tr>\n",
       "    <tr>\n",
       "      <th>35855</th>\n",
       "      <td>zh-wKIJZL9BwmqNEHCQYZg</td>\n",
       "      <td>52.031961</td>\n",
       "      <td>4.372547</td>\n",
       "      <td>4.372670</td>\n",
       "      <td>52.031862</td>\n",
       "      <td>1</td>\n",
       "      <td>0.387266</td>\n",
       "      <td>-37.232</td>\n",
       "      <td>image_35855_s_a.png</td>\n",
       "      <td>image_35855_f.png</td>\n",
       "      <td>image_35855_s_b.png</td>\n",
       "      <td>image_35855_b.png</td>\n",
       "      <td>POINT (4.37255 52.03196)</td>\n",
       "    </tr>\n",
       "  </tbody>\n",
       "</table>\n",
       "<p>35856 rows × 13 columns</p>\n",
       "</div>"
      ],
      "text/plain": [
       "                       panoid        lat       lng   ask_lng    ask_lat  \\\n",
       "0      Z5qJau_sr_GhMWL86nmdPw  51.970324  4.359441  4.359873  51.970418   \n",
       "1      W7NL3JnSXtQjP-gXx2Y8eA  51.970346  4.359419  4.359873  51.970418   \n",
       "2      _NsoIOl5Z2-9YM162biiuw  51.970301  4.359453  4.359873  51.970418   \n",
       "3      F8tYIBLMCAPAcBL40tinnw  51.970333  4.359424  4.359873  51.970418   \n",
       "4      HfqVNVb-mxOlJSNJFTCLyA  51.970351  4.359424  4.359873  51.970418   \n",
       "...                       ...        ...       ...       ...        ...   \n",
       "35851  TGNVrO1oewMlC1ASncyagA  52.031867  4.371974  4.371941  52.031870   \n",
       "35852  nlg_WEai67R2THLL417ikA  52.031878  4.371990  4.371941  52.031870   \n",
       "35853  fu_qhL4D_K1HgfoP7JVuMw  52.031934  4.372512  4.372670  52.031862   \n",
       "35854  MxjS5He5JGJSDEy6K9Uy9Q  52.031938  4.372508  4.372670  52.031862   \n",
       "35855  zh-wKIJZL9BwmqNEHCQYZg  52.031961  4.372547  4.372670  52.031862   \n",
       "\n",
       "       consulted       dist   angle            im_side_a           im_front  \\\n",
       "0              1  21.508589  59.398      image_0_s_a.png      image_0_f.png   \n",
       "1              1  21.983408  63.045      image_1_s_a.png      image_1_f.png   \n",
       "2              1  21.900022  55.545      image_2_s_a.png      image_2_f.png   \n",
       "3              1  22.222923  61.282      image_3_s_a.png      image_3_f.png   \n",
       "4              1  21.456919  63.598      image_4_s_a.png      image_4_f.png   \n",
       "...          ...        ...     ...                  ...                ...   \n",
       "35851          1   1.496452 -37.382  image_35851_s_a.png  image_35851_f.png   \n",
       "35852          1   1.846565 -37.382  image_35852_s_a.png  image_35852_f.png   \n",
       "35853          1   0.566714 -37.232  image_35853_s_a.png  image_35853_f.png   \n",
       "35854          1   0.044956 -37.232  image_35854_s_a.png  image_35854_f.png   \n",
       "35855          1   0.387266 -37.232  image_35855_s_a.png  image_35855_f.png   \n",
       "\n",
       "                 im_side_b            im_back                  geometry  \n",
       "0          image_0_s_b.png      image_0_b.png  POINT (4.35944 51.97032)  \n",
       "1          image_1_s_b.png      image_1_b.png  POINT (4.35942 51.97035)  \n",
       "2          image_2_s_b.png      image_2_b.png  POINT (4.35945 51.97030)  \n",
       "3          image_3_s_b.png      image_3_b.png  POINT (4.35942 51.97033)  \n",
       "4          image_4_s_b.png      image_4_b.png  POINT (4.35942 51.97035)  \n",
       "...                    ...                ...                       ...  \n",
       "35851  image_35851_s_b.png  image_35851_b.png  POINT (4.37197 52.03187)  \n",
       "35852  image_35852_s_b.png  image_35852_b.png  POINT (4.37199 52.03188)  \n",
       "35853  image_35853_s_b.png  image_35853_b.png  POINT (4.37251 52.03193)  \n",
       "35854  image_35854_s_b.png  image_35854_b.png  POINT (4.37251 52.03194)  \n",
       "35855  image_35855_s_b.png  image_35855_b.png  POINT (4.37255 52.03196)  \n",
       "\n",
       "[35856 rows x 13 columns]"
      ]
     },
     "execution_count": 33,
     "metadata": {},
     "output_type": "execute_result"
    }
   ],
   "source": [
    "lat = []\n",
    "long = []\n",
    "\n",
    "for label in labels: \n",
    "    ind = np.where(STREETSCAPES_df == label)\n",
    "    lat.append(STREETSCAPES_df.loc[ind[0],'lat'])\n",
    "    long.append(STREETSCAPES_df.loc[ind[0],'long'])"
   ]
  },
  {
   "cell_type": "markdown",
   "metadata": {},
   "source": [
    "## <strong> 4 | Manual Labelling and benchmarking </strong>"
   ]
  },
  {
   "cell_type": "markdown",
   "metadata": {},
   "source": [
    "## <strong> O | Other</strong>"
   ]
  },
  {
   "cell_type": "code",
   "execution_count": 57,
   "metadata": {},
   "outputs": [],
   "source": [
    "def imgfeature_sp(features, latd, lat = False):\n",
    "        \n",
    "    z_cpu = features.detach().cpu().numpy()\n",
    "    fig = plt.figure()\n",
    "    fig = go.Figure(data=[go.Scatter3d(\n",
    "        x=z_cpu[:, latd[0]],  # X axis data\n",
    "        y=z_cpu[:, latd[1]],  # Y axis data\n",
    "        z=z_cpu[:, latd[2]],  # Z axis data\n",
    "        mode='markers',\n",
    "        marker=dict(\n",
    "            size=5,  \n",
    "            opacity=0.8,  \n",
    "        )\n",
    "    )])\n",
    "\n",
    "    fig.update_layout(\n",
    "        title_text = \"Image feature distribution in latent space\",\n",
    "        margin=dict(l=0, r=0, b=0, t=0),  \n",
    "        scene=dict(\n",
    "            xaxis_title=f'Dimension {latd[0]}', \n",
    "            yaxis_title=f'Dimension {latd[1]}', \n",
    "            zaxis_title=f'Dimension {latd[2]}'\n",
    "        ),\n",
    "        template = 'plotly_dark'\n",
    "    )\n",
    "\n",
    "    fig.show()"
   ]
  },
  {
   "cell_type": "code",
   "execution_count": null,
   "metadata": {},
   "outputs": [],
   "source": [
    "def gmc_space(features, latd, gmm):\n",
    "    \"\"\"\n",
    "    Visualizes the Gaussian Mixture Model clusters in 3D with simplified boundaries.\n",
    "    \n",
    "    Args:\n",
    "    - features (torch.Tensor): The latent features from the VAE.\n",
    "    - latd (list of int): The indices of the dimensions to plot.\n",
    "    - gmm (GaussianMixture): The fitted Gaussian Mixture Model.\n",
    "    \"\"\"\n",
    "    \n",
    "    z_cpu = features\n",
    "    cluster_labels = gmm.predict(z_cpu)\n",
    "    \n",
    "    # Define colors for each cluster\n",
    "    colors = px.colors.qualitative.Plotly\n",
    "\n",
    "    fig = go.Figure()\n",
    "\n",
    "    # Plot data points with colors based on cluster membership\n",
    "    for i in range(gmm.n_components):\n",
    "        cluster_data = z_cpu[cluster_labels == i]\n",
    "        fig.add_trace(go.Scatter3d(\n",
    "            x=cluster_data[:, latd[0]],\n",
    "            y=cluster_data[:, latd[1]],\n",
    "            z=cluster_data[:, latd[2]],\n",
    "            mode='markers',\n",
    "            marker=dict(size=3, color=colors[i % len(colors)]),\n",
    "            name=f'Cluster {i+1}'\n",
    "        ))\n",
    "\n",
    "    # Add spheres to indicate cluster centers (simplified boundary visualization)\n",
    "    for mean, color in zip(gmm.means_, colors[:gmm.n_components]):\n",
    "        sphere = create_sphere(mean[latd[0]], mean[latd[1]], mean[latd[2]], radius=0.5, color=color)\n",
    "        fig.add_trace(sphere)\n",
    "    \n",
    "    # Update plot layout\n",
    "    fig.update_layout(\n",
    "        title_text=\"GMM Clusters in Latent Space\",\n",
    "        scene=dict(\n",
    "            xaxis_title=f'Dimension {latd[0]}',\n",
    "            yaxis_title=f'Dimension {latd[1]}',\n",
    "            zaxis_title=f'Dimension {latd[2]}'\n",
    "        ),\n",
    "        template='plotly_dark'\n",
    "    )\n",
    "    \n",
    "    return fig.show()\n",
    "\n",
    "def create_sphere(x_center, y_center, z_center, radius, color):\n",
    "    \"\"\"\n",
    "    Generates a sphere surface centered at (x_center, y_center, z_center).\n",
    "    \n",
    "    Args:\n",
    "    - x_center, y_center, z_center (float): Center of the sphere.\n",
    "    - radius (float): Radius of the sphere.\n",
    "    - color (str): Color of the sphere.\n",
    "    \n",
    "    Returns:\n",
    "    - A Plotly figure object representing the sphere.\n",
    "    \"\"\"\n",
    "    phi = np.linspace(0, 2*np.pi, 20)\n",
    "    theta = np.linspace(0, np.pi, 20)\n",
    "    phi, theta = np.meshgrid(phi, theta)\n",
    "    \n",
    "    x = radius * np.sin(theta) * np.cos(phi) + x_center\n",
    "    y = radius * np.sin(theta) * np.sin(phi) + y_center\n",
    "    z = radius * np.cos(theta) + z_center\n",
    "    \n",
    "    return go.Mesh3d(\n",
    "        x=x.flatten(),\n",
    "        y=y.flatten(),\n",
    "        z=z.flatten(),\n",
    "        alphahull=0,\n",
    "        opacity=0.2,\n",
    "        color=color\n",
    "    )"
   ]
  }
 ],
 "metadata": {
  "kernelspec": {
   "display_name": "TUD-JF",
   "language": "python",
   "name": "python3"
  },
  "language_info": {
   "codemirror_mode": {
    "name": "ipython",
    "version": 3
   },
   "file_extension": ".py",
   "mimetype": "text/x-python",
   "name": "python",
   "nbconvert_exporter": "python",
   "pygments_lexer": "ipython3",
   "version": "3.10.8"
  }
 },
 "nbformat": 4,
 "nbformat_minor": 2
}
