{
 "cells": [
  {
   "cell_type": "markdown",
   "metadata": {},
   "source": [
    "<img \n",
    "    style=\"position: absolute; \n",
    "           left: 60%; \n",
    "           top: 0; /* Added to ensure proper positioning */\n",
    "           height: 900px; \n",
    "           width: 40%; /* Maintain the original width */\n",
    "           object-fit: cover; /* Adjust if necessary */\n",
    "           clip-path: inset(0px 50px 0px 50px round 10px);\" \n",
    "    src=\"_data\\imagedb\\image_14570_s_a.png\" \n",
    "/>\n",
    "</figure>\n",
    "\n",
    "\n",
    "<h1 style=\"width: 60%; color: #EC6842; font-size: 55pt;\">\n",
    "    <Strong>\n",
    "        Streetscapes\n",
    "        <h2 style=\"color: #EC6842; font-size: 40pt;\"> \n",
    "            <Strong>\n",
    "                Urban classification using street-level images and its embeddings\n",
    "            </Strong>\n",
    "        </h2>\n",
    "    </Strong>\n",
    "</h1>\n",
    "\n",
    "<h3 id=\"Background\"><B>\n",
    "    Rationale for the project<a class=\"anchor-link\" href=\"#Background\">&#182;</a>\n",
    "    </B>\n",
    "</h3>\n",
    "<p style=\"text-align: justify; width: 60%; font-weight: normal;\">\n",
    "     Structures that make optimal use of the material they are made of reduces the cost and environmental impact of their construction as the amount of material required. \n",
    "</p>\n",
    "\n",
    "<h3 id=\"Background\">\n",
    "    <B>Objective & Description:</B><a class=\"anchor-link\" href=\"#Background\">&#182;</a>\n",
    "</h3>\n",
    "\n",
    "<div style=\"width: 60%; border-top: 4px solid #00B8C8; border-left: 4px solid #00B8C8; background-color: #FFFFFF; padding: 1em 1em 1em 1em; color: #24292E; margin: 10px 0 20px 0; box-sizing: border-box;\">\n",
    "    <div style=\"background-color: #00B8C8; color: white; padding: 0.2em 1em; margin: -1em -1em 0em -1em; font-size: 1.2em;\"><strong>Project Objective:</strong> To build a machine learning based algorithm for urban classification through street view images</div>\n",
    "    <p>\n",
    "    To achieve so this project requires to find the optimal set of nodal coordinates and cross-sectional properties. Achieving so will allow to minimize as much as possible the total weight of the structure, while satisfying a number of constraints relating to the structures natural frequencies. Achieving a low mass solutions that also satisfies the natural frequencies constraints established demonstrates a methodology to make structures more efficient and safe since we are achieving to use less material in a way that still ensures the structural integrity of the structure. Moreover, this project will also aim to explore the efficacy of current optimisation methods and potentially improvements to be achieved from implementing machine learning methods.\n",
    "    </p>\n",
    "</div>"
   ]
  },
  {
   "cell_type": "markdown",
   "metadata": {},
   "source": [
    "## <strong> X | Imports</strong>"
   ]
  },
  {
   "cell_type": "code",
   "execution_count": 1,
   "metadata": {},
   "outputs": [],
   "source": [
    "import sys\n",
    "import io\n",
    "\n",
    "import json\n",
    "import pickle\n",
    "import numpy as np\n",
    "import pandas as pd\n",
    "import geopandas as gpd\n",
    "from cycler import cycler\n",
    "\n",
    "\n",
    "import matplotlib.colors as mplc\n",
    "import matplotlib.pyplot as plt\n",
    "from plotly import graph_objects as go\n",
    "from plotly.subplots import make_subplots\n",
    "from sklearn.preprocessing import StandardScaler\n",
    "from scipy.stats import multivariate_normal, wishart\n",
    "from scipy.spatial import Voronoi, voronoi_plot_2d"
   ]
  },
  {
   "cell_type": "code",
   "execution_count": 40,
   "metadata": {},
   "outputs": [
    {
     "ename": "ImportError",
     "evalue": "cannot import name 'VAE' from 'streetscapes.models' (c:\\Users\\javie\\OneDrive - Delft University of Technology\\@ALT\\.Git\\STREETSCAPES01\\streetscapes\\models.py)",
     "output_type": "error",
     "traceback": [
      "\u001b[1;31m---------------------------------------------------------------------------\u001b[0m",
      "\u001b[1;31mImportError\u001b[0m                               Traceback (most recent call last)",
      "Cell \u001b[1;32mIn[40], line 11\u001b[0m\n\u001b[0;32m      8\u001b[0m \u001b[38;5;28;01mfrom\u001b[39;00m \u001b[38;5;21;01mtorch\u001b[39;00m\u001b[38;5;21;01m.\u001b[39;00m\u001b[38;5;21;01mutils\u001b[39;00m\u001b[38;5;21;01m.\u001b[39;00m\u001b[38;5;21;01mdata\u001b[39;00m \u001b[38;5;28;01mimport\u001b[39;00m DataLoader, random_split\n\u001b[0;32m     10\u001b[0m \u001b[38;5;28;01mfrom\u001b[39;00m \u001b[38;5;21;01mstreetscapes\u001b[39;00m\u001b[38;5;21;01m.\u001b[39;00m\u001b[38;5;21;01mprocessing\u001b[39;00m \u001b[38;5;28;01mimport\u001b[39;00m process_geojson\n\u001b[1;32m---> 11\u001b[0m \u001b[38;5;28;01mfrom\u001b[39;00m \u001b[38;5;21;01mstreetscapes\u001b[39;00m\u001b[38;5;21;01m.\u001b[39;00m\u001b[38;5;21;01mmodels\u001b[39;00m \u001b[38;5;28;01mimport\u001b[39;00m ResNet152, VAE\n\u001b[0;32m     13\u001b[0m device \u001b[38;5;241m=\u001b[39m torch\u001b[38;5;241m.\u001b[39mdevice(\u001b[38;5;124m'\u001b[39m\u001b[38;5;124mcuda\u001b[39m\u001b[38;5;124m'\u001b[39m \u001b[38;5;28;01mif\u001b[39;00m torch\u001b[38;5;241m.\u001b[39mcuda\u001b[38;5;241m.\u001b[39mis_available() \u001b[38;5;28;01melse\u001b[39;00m \u001b[38;5;124m'\u001b[39m\u001b[38;5;124mcpu\u001b[39m\u001b[38;5;124m'\u001b[39m)\n\u001b[0;32m     14\u001b[0m \u001b[38;5;28mprint\u001b[39m(\u001b[38;5;124mf\u001b[39m\u001b[38;5;124m'\u001b[39m\u001b[38;5;124mUsing device: \u001b[39m\u001b[38;5;132;01m{\u001b[39;00mdevice\u001b[38;5;132;01m}\u001b[39;00m\u001b[38;5;124m'\u001b[39m)\n",
      "\u001b[1;31mImportError\u001b[0m: cannot import name 'VAE' from 'streetscapes.models' (c:\\Users\\javie\\OneDrive - Delft University of Technology\\@ALT\\.Git\\STREETSCAPES01\\streetscapes\\models.py)"
     ]
    }
   ],
   "source": [
    "import os\n",
    "import h5py\n",
    "from PIL import Image\n",
    "from keplergl import KeplerGl\n",
    "\n",
    "import torch\n",
    "import torchvision.transforms as transforms\n",
    "from torch.utils.data import DataLoader, random_split\n",
    "\n",
    "from streetscapes.processing import process_geojson\n",
    "from streetscapes.models import ResNet152, VAE\n",
    "\n",
    "device = torch.device('cuda' if torch.cuda.is_available() else 'cpu')\n",
    "print(f'Using device: {device}')"
   ]
  },
  {
   "cell_type": "markdown",
   "metadata": {},
   "source": [
    "## <strong> 0 | Importing the data</strong>"
   ]
  },
  {
   "cell_type": "markdown",
   "metadata": {},
   "source": [
    "### <strong> 0.1 | Process geojson's</strong>"
   ]
  },
  {
   "cell_type": "code",
   "execution_count": 5,
   "metadata": {},
   "outputs": [],
   "source": [
    "# --------------------------- IMPORT .geojson FILES -------------------------- #\n",
    "directory = '_data\\\\geo_json'\n",
    "gpd_df = {}\n",
    "\n",
    "for root, _, files in os.walk(directory):\n",
    "    for filename in files:\n",
    "        if filename.endswith('.geojson'):\n",
    "            gpd_df[filename] = process_geojson(root, filename)\n"
   ]
  },
  {
   "cell_type": "markdown",
   "metadata": {},
   "source": [
    "### <strong> 0.2 | Plot geometries on Mapbox</strong>"
   ]
  },
  {
   "cell_type": "code",
   "execution_count": 8,
   "metadata": {},
   "outputs": [
    {
     "name": "stdout",
     "output_type": "stream",
     "text": [
      "User Guide: https://docs.kepler.gl/docs/keplergl-jupyter\n",
      "Map saved to _maps\\SC_land_preview.html!\n"
     ]
    }
   ],
   "source": [
    "gj_include = ['boundary.geojson', 'landuse.geojson', 'panoids.geojson']\n",
    "gpd_add = {key: gpd_df[key] for key in gj_include}\n",
    "\n",
    "map_preview = KeplerGl(height=600)\n",
    "for gdf_name in gpd_add:\n",
    "    map_preview.add_data(gpd_add[gdf_name], name= gdf_name )\n",
    "\n",
    "file_save = '_maps\\\\SC_land_preview.html'\n",
    "map_preview.save_to_html(file_name= file_save, config={\n",
    "    'mapState': {\n",
    "        'latitude': 52.01153531997234,\n",
    "        'longitude': 4.3588424177636185,\n",
    "        'zoom': 16\n",
    "    }\n",
    "})"
   ]
  },
  {
   "cell_type": "markdown",
   "metadata": {},
   "source": [
    "### <strong> 0.3 | Import and process streetview images</strong>"
   ]
  },
  {
   "cell_type": "code",
   "execution_count": 28,
   "metadata": {},
   "outputs": [],
   "source": [
    "directory = '_data/imagedb'\n",
    "n_images = 150\n",
    "\n",
    "transform = transforms.Compose([\n",
    "    transforms.Resize((256, 256)),  # Resize the image to your desired dimensions\n",
    "    transforms.ToTensor(),               # Convert the image to a PyTorch tensor\n",
    "    transforms.Normalize(mean=[0.5, 0.5, 0.5], std=[0.5, 0.5, 0.5])  # Normalize the image if necessary\n",
    "])\n",
    "\n",
    "labels = []\n",
    "dataset = []\n",
    "listdir = os.listdir(directory)\n",
    "for i in range(n_images):\n",
    "    filename = listdir[i]\n",
    "    if filename.endswith('.png'):\n",
    "        file_path = os.path.join(directory, filename)\n",
    "        with open(file_path, 'r') as image:\n",
    "            image = Image.open(file_path)\n",
    "            image_tensor = transform(image)\n",
    "            dataset.append(image_tensor.to(device))\n",
    "            labels.append(filename)"
   ]
  },
  {
   "cell_type": "markdown",
   "metadata": {},
   "source": [
    "### <strong> 0.4 | Save/Import GeoJson's & data</strong>"
   ]
  },
  {
   "cell_type": "markdown",
   "metadata": {},
   "source": [
    "## <strong> 1 | Extracting the image features with `ResNet`</strong>"
   ]
  },
  {
   "cell_type": "markdown",
   "metadata": {},
   "source": [
    "### <strong> 1.1 | Import the model and extract the features </strong>"
   ]
  },
  {
   "cell_type": "code",
   "execution_count": 34,
   "metadata": {},
   "outputs": [
    {
     "name": "stderr",
     "output_type": "stream",
     "text": [
      "c:\\Program Files\\Python310\\@Environments\\TUD-JF\\lib\\site-packages\\torchvision\\models\\_utils.py:208: UserWarning: The parameter 'pretrained' is deprecated since 0.13 and may be removed in the future, please use 'weights' instead.\n",
      "  warnings.warn(\n",
      "c:\\Program Files\\Python310\\@Environments\\TUD-JF\\lib\\site-packages\\torchvision\\models\\_utils.py:223: UserWarning: Arguments other than a weight enum or `None` for 'weights' are deprecated since 0.13 and may be removed in the future. The current behavior is equivalent to passing `weights=ResNet152_Weights.IMAGENET1K_V1`. You can also use `weights=ResNet152_Weights.DEFAULT` to get the most up-to-date weights.\n",
      "  warnings.warn(msg)\n"
     ]
    }
   ],
   "source": [
    "STREETSCAPES01 = ResNet152().to(device)\n",
    "dataloader = DataLoader(dataset, batch_size=32, shuffle=True)\n",
    "features = STREETSCAPES01.extract_features(dataloader)"
   ]
  },
  {
   "cell_type": "markdown",
   "metadata": {},
   "source": [
    "### <strong> 1.2 | Save features  </strong>"
   ]
  },
  {
   "cell_type": "code",
   "execution_count": 38,
   "metadata": {},
   "outputs": [],
   "source": [
    "path = '_data\\sc_data'\n",
    "#dataset = features.detach().cpu().numpy()\n",
    "\n",
    "# Save features and labels\n",
    "# with h5py.File(os.path.join(path, 'DelftSV_imgfeatuers.h5'), 'w') as hf:\n",
    "#     hf.create_dataset('features', data= dataset)\n",
    "#     hf.create_dataset('labels', data=labels)\n",
    "\n",
    "# Load features and labels\n",
    "with h5py.File(os.path.join(path, 'DelftSV_imgfeatuers.h5'), 'r') as hf:\n",
    "    features = hf['features'][:]\n",
    "    labels = hf['labels'][:]"
   ]
  },
  {
   "cell_type": "markdown",
   "metadata": {},
   "source": [
    "## <strong> 2 | Dimensionality reduction through a Variational Autoencoder</strong>"
   ]
  },
  {
   "cell_type": "markdown",
   "metadata": {},
   "source": [
    "### <strong> 2.2 | Initiate the model</strong>"
   ]
  },
  {
   "cell_type": "code",
   "execution_count": 39,
   "metadata": {},
   "outputs": [],
   "source": [
    "dset = list(zip(features, labels))\n",
    "\n",
    "# Set rng for reproducability\n",
    "torch.manual_seed(0)\n",
    "g = torch.Generator()\n",
    "g.manual_seed(0)\n",
    "\n",
    "# Set params for dataset handling\n",
    "batch_size = 50\n",
    "test_rat = 0.8\n",
    "validation_rat = 0.7\n",
    "\n",
    "# Model parameters\n",
    "latent_dim = 3\n",
    "\n",
    "kld_weight = 5e-04\n",
    "hidden_dim = 100\n",
    "hidden_num = 5\n",
    "epochs = 250\n",
    "save_model = True\n",
    "\n",
    "#Early stopping param\n",
    "patience = 25  # Number of epochs to wait for improvement before stopping\n",
    "delta = 0.001  # Minimum change to signify an improvement\n",
    "wait = 0  # Counter for epochs waited since last improvement"
   ]
  },
  {
   "cell_type": "code",
   "execution_count": 108,
   "metadata": {},
   "outputs": [],
   "source": [
    "# -------------------------------- DATA SPLIT -------------------------------- #\n",
    "data_test, data_train = random_split(\n",
    "    dset, [test_rat, 1 - test_rat], generator=g\n",
    ")\n",
    "data_train, data_val = random_split(\n",
    "    list(data_train), [validation_rat, 1 - validation_rat], generator=g\n",
    ")\n",
    "\n",
    "# ---------------------------------- LOADERS --------------------------------- #\n",
    "test_loader = DataLoader(\n",
    "    data_test, batch_size=batch_size, shuffle=True, generator=g\n",
    ")\n",
    "training_loader = DataLoader(\n",
    "    data_train, batch_size=batch_size, shuffle=True, generator=g\n",
    ")\n",
    "validation_loader = DataLoader(\n",
    "    data_val, batch_size=batch_size, shuffle=True, generator=g\n",
    ")\n",
    "\n",
    "# create a folder to store trained models\n",
    "if save_model:\n",
    "    model_path = os.path.join(\n",
    "        os.getcwd(), \"_data\\\\models\\\\vae\", f\"lat-{latent_dim}_kld-{kld_weight:2.2e}\"\n",
    "    )\n",
    "    os.makedirs(model_path, exist_ok=True)\n",
    "\n",
    "# arrays to keep track of the losses\n",
    "train_loss = []\n",
    "val_loss = []\n",
    "\n",
    "# create the model\n",
    "model = VAE(\n",
    "    input_dim= features.shape[1],\n",
    "    latent_dim= latent_dim,\n",
    "    hidden_dim= hidden_dim,\n",
    "    hidden_num= hidden_num,\n",
    "    beta= kld_weight,\n",
    ")"
   ]
  },
  {
   "cell_type": "markdown",
   "metadata": {},
   "source": [
    "### <strong> 2.3 | Train the model</strong>"
   ]
  },
  {
   "cell_type": "code",
   "execution_count": 128,
   "metadata": {},
   "outputs": [
    {
     "name": "stdout",
     "output_type": "stream",
     "text": [
      "--------------------------------------------\n",
      "EPOCH 1:\n",
      "loss: 0.056922, reconstruction loss: 0.052018, kld loss: 9.808093\n",
      "LOSS train 0.056922 LOSS valid 0.119423\n",
      "\n",
      "--------------------------------------------\n",
      "EPOCH 2:\n",
      "loss: 0.093472, reconstruction loss: 0.081181, kld loss: 24.580677\n",
      "LOSS train 0.093472 LOSS valid 0.091340\n",
      "\n",
      "--------------------------------------------\n",
      "EPOCH 3:\n",
      "loss: 0.063131, reconstruction loss: 0.056961, kld loss: 12.339062\n",
      "LOSS train 0.063131 LOSS valid 0.088419\n",
      "\n",
      "--------------------------------------------\n",
      "EPOCH 4:\n",
      "loss: 0.065244, reconstruction loss: 0.058964, kld loss: 12.559420\n",
      "LOSS train 0.065244 LOSS valid 0.087899\n",
      "\n",
      "--------------------------------------------\n",
      "EPOCH 5:\n",
      "loss: 0.064456, reconstruction loss: 0.057935, kld loss: 13.041581\n",
      "LOSS train 0.064456 LOSS valid 0.085541\n",
      "\n",
      "--------------------------------------------\n",
      "EPOCH 6:\n",
      "loss: 0.064743, reconstruction loss: 0.058016, kld loss: 13.455738\n",
      "LOSS train 0.064743 LOSS valid 0.085399\n",
      "\n",
      "--------------------------------------------\n",
      "EPOCH 7:\n",
      "loss: 0.062890, reconstruction loss: 0.056035, kld loss: 13.711239\n",
      "LOSS train 0.062890 LOSS valid 0.086075\n",
      "\n",
      "--------------------------------------------\n",
      "EPOCH 8:\n",
      "loss: 0.061248, reconstruction loss: 0.054242, kld loss: 14.012475\n",
      "LOSS train 0.061248 LOSS valid 0.083076\n",
      "\n",
      "--------------------------------------------\n",
      "EPOCH 9:\n",
      "loss: 0.062225, reconstruction loss: 0.055189, kld loss: 14.070443\n",
      "LOSS train 0.062225 LOSS valid 0.083724\n",
      "\n",
      "--------------------------------------------\n",
      "EPOCH 10:\n",
      "loss: 0.061108, reconstruction loss: 0.054171, kld loss: 13.874983\n",
      "LOSS train 0.061108 LOSS valid 0.086096\n",
      "\n",
      "--------------------------------------------\n",
      "EPOCH 11:\n",
      "loss: 0.060921, reconstruction loss: 0.054245, kld loss: 13.353423\n",
      "LOSS train 0.060921 LOSS valid 0.084601\n",
      "\n",
      "--------------------------------------------\n",
      "EPOCH 12:\n",
      "loss: 0.058728, reconstruction loss: 0.052469, kld loss: 12.518817\n",
      "LOSS train 0.058728 LOSS valid 0.082405\n",
      "\n",
      "--------------------------------------------\n",
      "EPOCH 13:\n",
      "loss: 0.058358, reconstruction loss: 0.052380, kld loss: 11.955966\n",
      "LOSS train 0.058358 LOSS valid 0.079731\n",
      "\n",
      "--------------------------------------------\n",
      "EPOCH 14:\n",
      "loss: 0.058361, reconstruction loss: 0.052347, kld loss: 12.028753\n",
      "LOSS train 0.058361 LOSS valid 0.081277\n",
      "\n",
      "--------------------------------------------\n",
      "EPOCH 15:\n",
      "loss: 0.058006, reconstruction loss: 0.051968, kld loss: 12.075394\n",
      "LOSS train 0.058006 LOSS valid 0.082303\n",
      "\n",
      "--------------------------------------------\n",
      "EPOCH 16:\n",
      "loss: 0.058326, reconstruction loss: 0.052470, kld loss: 11.711802\n",
      "LOSS train 0.058326 LOSS valid 0.082191\n",
      "\n",
      "--------------------------------------------\n",
      "EPOCH 17:\n",
      "loss: 0.056313, reconstruction loss: 0.050782, kld loss: 11.061797\n",
      "LOSS train 0.056313 LOSS valid 0.081029\n",
      "\n",
      "--------------------------------------------\n",
      "EPOCH 18:\n",
      "loss: 0.057192, reconstruction loss: 0.051835, kld loss: 10.712999\n",
      "LOSS train 0.057192 LOSS valid 0.080024\n",
      "\n",
      "--------------------------------------------\n",
      "EPOCH 19:\n",
      "loss: 0.058465, reconstruction loss: 0.053155, kld loss: 10.620241\n",
      "LOSS train 0.058465 LOSS valid 0.080192\n",
      "\n",
      "--------------------------------------------\n",
      "EPOCH 20:\n",
      "loss: 0.055957, reconstruction loss: 0.050648, kld loss: 10.618773\n",
      "LOSS train 0.055957 LOSS valid 0.080822\n",
      "\n",
      "--------------------------------------------\n",
      "EPOCH 21:\n",
      "loss: 0.055919, reconstruction loss: 0.050596, kld loss: 10.645143\n",
      "LOSS train 0.055919 LOSS valid 0.078567\n",
      "\n",
      "--------------------------------------------\n",
      "EPOCH 22:\n",
      "loss: 0.055093, reconstruction loss: 0.049649, kld loss: 10.888271\n",
      "LOSS train 0.055093 LOSS valid 0.081455\n",
      "\n",
      "--------------------------------------------\n",
      "EPOCH 23:\n",
      "loss: 0.054562, reconstruction loss: 0.049088, kld loss: 10.949533\n",
      "LOSS train 0.054562 LOSS valid 0.080554\n",
      "\n",
      "--------------------------------------------\n",
      "EPOCH 24:\n",
      "loss: 0.055402, reconstruction loss: 0.049933, kld loss: 10.938643\n",
      "LOSS train 0.055402 LOSS valid 0.081704\n",
      "\n",
      "--------------------------------------------\n",
      "EPOCH 25:\n",
      "loss: 0.055183, reconstruction loss: 0.049664, kld loss: 11.039567\n",
      "LOSS train 0.055183 LOSS valid 0.082204\n",
      "\n",
      "--------------------------------------------\n",
      "EPOCH 26:\n",
      "loss: 0.054555, reconstruction loss: 0.048961, kld loss: 11.187029\n",
      "LOSS train 0.054555 LOSS valid 0.080967\n",
      "\n",
      "--------------------------------------------\n",
      "EPOCH 27:\n",
      "loss: 0.057492, reconstruction loss: 0.052023, kld loss: 10.938934\n",
      "LOSS train 0.057492 LOSS valid 0.078676\n",
      "\n",
      "--------------------------------------------\n",
      "EPOCH 28:\n",
      "loss: 0.054520, reconstruction loss: 0.049028, kld loss: 10.984912\n",
      "LOSS train 0.054520 LOSS valid 0.081529\n",
      "\n",
      "--------------------------------------------\n",
      "EPOCH 29:\n",
      "loss: 0.055193, reconstruction loss: 0.049513, kld loss: 11.358923\n",
      "LOSS train 0.055193 LOSS valid 0.079512\n",
      "\n",
      "--------------------------------------------\n",
      "EPOCH 30:\n",
      "loss: 0.055757, reconstruction loss: 0.049905, kld loss: 11.704334\n",
      "LOSS train 0.055757 LOSS valid 0.081712\n",
      "\n",
      "--------------------------------------------\n",
      "EPOCH 31:\n",
      "loss: 0.054711, reconstruction loss: 0.048929, kld loss: 11.563560\n",
      "LOSS train 0.054711 LOSS valid 0.079550\n",
      "\n",
      "--------------------------------------------\n",
      "EPOCH 32:\n",
      "loss: 0.053110, reconstruction loss: 0.047346, kld loss: 11.529326\n",
      "LOSS train 0.053110 LOSS valid 0.079770\n",
      "\n",
      "--------------------------------------------\n",
      "EPOCH 33:\n",
      "loss: 0.053158, reconstruction loss: 0.047373, kld loss: 11.571395\n",
      "LOSS train 0.053158 LOSS valid 0.079675\n",
      "\n",
      "--------------------------------------------\n",
      "EPOCH 34:\n",
      "loss: 0.052831, reconstruction loss: 0.047030, kld loss: 11.600358\n",
      "LOSS train 0.052831 LOSS valid 0.080001\n",
      "\n",
      "--------------------------------------------\n",
      "EPOCH 35:\n",
      "loss: 0.054644, reconstruction loss: 0.048893, kld loss: 11.501407\n",
      "LOSS train 0.054644 LOSS valid 0.079074\n",
      "\n",
      "--------------------------------------------\n",
      "EPOCH 36:\n",
      "loss: 0.055371, reconstruction loss: 0.049651, kld loss: 11.438640\n",
      "LOSS train 0.055371 LOSS valid 0.080865\n",
      "\n",
      "--------------------------------------------\n",
      "EPOCH 37:\n",
      "loss: 0.054120, reconstruction loss: 0.048493, kld loss: 11.253076\n",
      "LOSS train 0.054120 LOSS valid 0.079288\n",
      "\n",
      "--------------------------------------------\n",
      "EPOCH 38:\n",
      "loss: 0.052507, reconstruction loss: 0.047025, kld loss: 10.963024\n",
      "LOSS train 0.052507 LOSS valid 0.082039\n",
      "\n",
      "--------------------------------------------\n",
      "EPOCH 39:\n",
      "loss: 0.051972, reconstruction loss: 0.046576, kld loss: 10.793113\n",
      "LOSS train 0.051972 LOSS valid 0.079869\n",
      "\n",
      "--------------------------------------------\n",
      "EPOCH 40:\n",
      "loss: 0.053492, reconstruction loss: 0.048175, kld loss: 10.632957\n",
      "LOSS train 0.053492 LOSS valid 0.082382\n",
      "\n",
      "--------------------------------------------\n",
      "EPOCH 41:\n",
      "loss: 0.053752, reconstruction loss: 0.048626, kld loss: 10.251276\n",
      "LOSS train 0.053752 LOSS valid 0.083574\n",
      "\n",
      "--------------------------------------------\n",
      "EPOCH 42:\n",
      "loss: 0.053314, reconstruction loss: 0.048111, kld loss: 10.406705\n",
      "LOSS train 0.053314 LOSS valid 0.081142\n",
      "\n",
      "--------------------------------------------\n",
      "EPOCH 43:\n",
      "loss: 0.053841, reconstruction loss: 0.048428, kld loss: 10.824759\n",
      "LOSS train 0.053841 LOSS valid 0.079370\n",
      "\n",
      "--------------------------------------------\n",
      "EPOCH 44:\n",
      "loss: 0.054488, reconstruction loss: 0.049328, kld loss: 10.320450\n",
      "LOSS train 0.054488 LOSS valid 0.081760\n",
      "\n",
      "--------------------------------------------\n",
      "EPOCH 45:\n",
      "loss: 0.054078, reconstruction loss: 0.048875, kld loss: 10.405784\n",
      "LOSS train 0.054078 LOSS valid 0.082976\n",
      "\n",
      "--------------------------------------------\n",
      "EPOCH 46:\n",
      "loss: 0.053805, reconstruction loss: 0.048273, kld loss: 11.062591\n",
      "LOSS train 0.053805 LOSS valid 0.078820\n",
      "\n",
      "Early stopping triggered after 46 epochs.\n"
     ]
    }
   ],
   "source": [
    "# Define optimizer\n",
    "optimizer = torch.optim.Adam(model.parameters())\n",
    "loaders = [training_loader, validation_loader]\n",
    "epoch_number = 0\n",
    "best_vloss = 0.08\n",
    "patience = 25\n",
    "\n",
    "VAE.train(model,optimizer,loaders,epochs,)"
   ]
  },
  {
   "cell_type": "code",
   "execution_count": 129,
   "metadata": {},
   "outputs": [
    {
     "data": {
      "application/vnd.plotly.v1+json": {
       "config": {
        "plotlyServerURL": "https://plot.ly"
       },
       "data": [
        {
         "mode": "lines",
         "name": "training loss",
         "type": "scatter",
         "y": [
          0.09706354141235352,
          0.11143819242715836,
          0.10030497610569,
          0.0991162583231926,
          0.0979258120059967,
          0.09652409702539444,
          0.09554030746221542,
          0.0953129306435585,
          0.09443516284227371,
          0.09394647926092148,
          0.09276187419891357,
          0.09270045906305313,
          0.09193004667758942,
          0.09060487896203995,
          0.09054015576839447,
          0.09043542295694351,
          0.08889690786600113,
          0.08761080354452133,
          0.08630729466676712,
          0.08602037280797958,
          0.08558009564876556,
          0.08383022993803024,
          0.08376065641641617,
          0.08250124007463455,
          0.08139368891716003,
          0.08080460131168365,
          0.079865962266922,
          0.07960247248411179,
          0.08045321702957153,
          0.07930701225996017,
          0.07941305637359619,
          0.07908404618501663,
          0.07832115888595581,
          0.08128917962312698,
          0.0787375420331955,
          0.07882774621248245,
          0.0780155137181282,
          0.07770773768424988,
          0.0777343213558197,
          0.07914116978645325,
          0.07843067497015,
          0.07829393446445465,
          0.07703136652708054,
          0.07747241109609604,
          0.07799112796783447,
          0.07896924763917923,
          0.07739077508449554,
          0.07708074897527695,
          0.07748477905988693,
          0.07660936564207077,
          0.07648051530122757,
          0.07589150965213776,
          0.07619328796863556,
          0.07576583325862885,
          0.0754050463438034,
          0.07547120004892349,
          0.07540242373943329,
          0.07492527365684509,
          0.07410554587841034,
          0.07331227511167526,
          0.07302147150039673,
          0.0739046186208725,
          0.07208879292011261,
          0.07269084453582764,
          0.07223810255527496,
          0.07188528776168823,
          0.07180123031139374,
          0.07122114300727844,
          0.07120751589536667,
          0.06940972805023193,
          0.07168134301900864,
          0.06841950863599777,
          0.06964242458343506,
          0.0681997537612915,
          0.06833536177873611,
          0.06988176703453064,
          0.06821439415216446,
          0.06976722180843353,
          0.06909807026386261,
          0.0689004510641098,
          0.06803247332572937,
          0.06593284010887146,
          0.06786676496267319,
          0.06703268736600876,
          0.06504996120929718,
          0.06401237845420837,
          0.06762028485536575,
          0.06663206964731216,
          0.06509380787611008,
          0.06470067799091339,
          0.06465792655944824,
          0.06467388570308685,
          0.06591445207595825,
          0.06364931166172028,
          0.06448449939489365,
          0.06265018880367279,
          0.06202400103211403,
          0.06136882305145264,
          0.06282708048820496,
          0.06204387545585632,
          0.06348191201686859,
          0.061923686414957047,
          0.0605752132833004,
          0.061973679810762405,
          0.05921793729066849,
          0.060091741383075714,
          0.06055073067545891,
          0.05875080078840256,
          0.0583055354654789,
          0.06110218167304993,
          0.05813324823975563,
          0.059998009353876114,
          0.05982016772031784,
          0.059332024306058884,
          0.05906171724200249,
          0.05868308246135712,
          0.05714266374707222,
          0.05943375453352928,
          0.05844065546989441,
          0.05825084075331688,
          0.05788511037826538,
          0.05826568976044655,
          0.058712322264909744,
          0.056922394782304764,
          0.0934717133641243,
          0.0631309449672699,
          0.06524406373500824,
          0.06445551663637161,
          0.06474344432353973,
          0.06289030611515045,
          0.06124838441610336,
          0.06222463771700859,
          0.06110848858952522,
          0.06092125177383423,
          0.05872811749577522,
          0.058357588946819305,
          0.058361221104860306,
          0.058005716651678085,
          0.05832605063915253,
          0.05631332844495773,
          0.057191550731658936,
          0.0584653876721859,
          0.055957406759262085,
          0.05591856688261032,
          0.05509311333298683,
          0.054562315344810486,
          0.055402204394340515,
          0.05518347769975662,
          0.05455484986305237,
          0.05749243497848511,
          0.054520364850759506,
          0.05519258230924606,
          0.05575711652636528,
          0.05471076816320419,
          0.053110234439373016,
          0.053158245980739594,
          0.052830565720796585,
          0.0546438954770565,
          0.05537060275673866,
          0.054119594395160675,
          0.05250677093863487,
          0.05197230726480484,
          0.05349195748567581,
          0.05375205725431442,
          0.05331447347998619,
          0.05384067818522453,
          0.054487790912389755,
          0.05407809466123581,
          0.053804703056812286
         ]
        },
        {
         "mode": "lines",
         "name": "validation loss",
         "type": "scatter",
         "y": [
          0.11637046188116074,
          0.1056395098567009,
          0.10418980568647385,
          0.10297572612762451,
          0.10150511562824249,
          0.10179793834686279,
          0.10073446482419968,
          0.09992332756519318,
          0.09962175041437149,
          0.09858458489179611,
          0.09952159225940704,
          0.0975189283490181,
          0.09723135083913803,
          0.09814134985208511,
          0.09556232392787933,
          0.09458284825086594,
          0.09355040639638901,
          0.09342436492443085,
          0.09253732115030289,
          0.0918346419930458,
          0.09034033119678497,
          0.09121838212013245,
          0.09043591469526291,
          0.08916094899177551,
          0.09019345790147781,
          0.08813867717981339,
          0.08880801498889923,
          0.08990050107240677,
          0.08848676830530167,
          0.08740611374378204,
          0.09041481465101242,
          0.08730163425207138,
          0.08913233131170273,
          0.08714618533849716,
          0.08725753426551819,
          0.0872977077960968,
          0.0854596421122551,
          0.08542706817388535,
          0.08805742114782333,
          0.08730172365903854,
          0.08955366164445877,
          0.08641020208597183,
          0.08494654297828674,
          0.08649839460849762,
          0.085760697722435,
          0.08645843714475632,
          0.08584155887365341,
          0.08577995002269745,
          0.08552145957946777,
          0.08545313030481339,
          0.08514498174190521,
          0.08606213331222534,
          0.08577476441860199,
          0.08447597175836563,
          0.08443953096866608,
          0.08456417918205261,
          0.08281951397657394,
          0.08409985899925232,
          0.08348307758569717,
          0.08449391275644302,
          0.08331675082445145,
          0.08473268896341324,
          0.08401349186897278,
          0.0817856639623642,
          0.08365980535745621,
          0.0829392597079277,
          0.0822167918086052,
          0.08217592537403107,
          0.08243168145418167,
          0.08403972536325455,
          0.08140610158443451,
          0.08221188932657242,
          0.08010978996753693,
          0.08815232664346695,
          0.08525661379098892,
          0.0841357633471489,
          0.08227191120386124,
          0.08428996056318283,
          0.08374383300542831,
          0.0858474150300026,
          0.08404926210641861,
          0.08123183995485306,
          0.08540791273117065,
          0.08156288415193558,
          0.08260804414749146,
          0.08174612373113632,
          0.0825047641992569,
          0.08091709762811661,
          0.08211968839168549,
          0.08043035119771957,
          0.08338965475559235,
          0.08090130239725113,
          0.08058151602745056,
          0.08129119127988815,
          0.08040139079093933,
          0.08267323672771454,
          0.08165975660085678,
          0.0783584713935852,
          0.07979248464107513,
          0.08290403336286545,
          0.08122050017118454,
          0.08163557946681976,
          0.08228309452533722,
          0.08045337349176407,
          0.08117422461509705,
          0.0855923593044281,
          0.08021386712789536,
          0.07953018695116043,
          0.08289597928524017,
          0.08362089842557907,
          0.0831153467297554,
          0.0790933296084404,
          0.07961931824684143,
          0.08023008704185486,
          0.0842408686876297,
          0.08156903833150864,
          0.07993297278881073,
          0.08086922764778137,
          0.07863998413085938,
          0.08325551450252533,
          0.08161620050668716,
          0.08203297853469849,
          0.08082069456577301,
          0.11942336708307266,
          0.09133999049663544,
          0.08841922134160995,
          0.08789864927530289,
          0.0855412483215332,
          0.08539901673793793,
          0.08607535809278488,
          0.08307606726884842,
          0.08372370898723602,
          0.08609551191329956,
          0.0846005529165268,
          0.08240450918674469,
          0.0797312930226326,
          0.08127712458372116,
          0.08230272680521011,
          0.08219105005264282,
          0.08102869987487793,
          0.08002420514822006,
          0.08019182085990906,
          0.08082164078950882,
          0.07856713235378265,
          0.08145461231470108,
          0.08055391907691956,
          0.08170361816883087,
          0.08220401406288147,
          0.08096706867218018,
          0.07867584377527237,
          0.08152898401021957,
          0.07951194047927856,
          0.0817122533917427,
          0.07954983413219452,
          0.07977031171321869,
          0.07967519760131836,
          0.08000096678733826,
          0.0790744498372078,
          0.08086470514535904,
          0.07928779721260071,
          0.08203896880149841,
          0.07986927032470703,
          0.08238216489553452,
          0.0835743099451065,
          0.08114209771156311,
          0.07937022298574448,
          0.08176000416278839,
          0.08297634869813919,
          0.07882034778594971
         ]
        }
       ],
       "layout": {
        "template": {
         "data": {
          "bar": [
           {
            "error_x": {
             "color": "#2a3f5f"
            },
            "error_y": {
             "color": "#2a3f5f"
            },
            "marker": {
             "line": {
              "color": "white",
              "width": 0.5
             },
             "pattern": {
              "fillmode": "overlay",
              "size": 10,
              "solidity": 0.2
             }
            },
            "type": "bar"
           }
          ],
          "barpolar": [
           {
            "marker": {
             "line": {
              "color": "white",
              "width": 0.5
             },
             "pattern": {
              "fillmode": "overlay",
              "size": 10,
              "solidity": 0.2
             }
            },
            "type": "barpolar"
           }
          ],
          "carpet": [
           {
            "aaxis": {
             "endlinecolor": "#2a3f5f",
             "gridcolor": "#C8D4E3",
             "linecolor": "#C8D4E3",
             "minorgridcolor": "#C8D4E3",
             "startlinecolor": "#2a3f5f"
            },
            "baxis": {
             "endlinecolor": "#2a3f5f",
             "gridcolor": "#C8D4E3",
             "linecolor": "#C8D4E3",
             "minorgridcolor": "#C8D4E3",
             "startlinecolor": "#2a3f5f"
            },
            "type": "carpet"
           }
          ],
          "choropleth": [
           {
            "colorbar": {
             "outlinewidth": 0,
             "ticks": ""
            },
            "type": "choropleth"
           }
          ],
          "contour": [
           {
            "colorbar": {
             "outlinewidth": 0,
             "ticks": ""
            },
            "colorscale": [
             [
              0,
              "#0d0887"
             ],
             [
              0.1111111111111111,
              "#46039f"
             ],
             [
              0.2222222222222222,
              "#7201a8"
             ],
             [
              0.3333333333333333,
              "#9c179e"
             ],
             [
              0.4444444444444444,
              "#bd3786"
             ],
             [
              0.5555555555555556,
              "#d8576b"
             ],
             [
              0.6666666666666666,
              "#ed7953"
             ],
             [
              0.7777777777777778,
              "#fb9f3a"
             ],
             [
              0.8888888888888888,
              "#fdca26"
             ],
             [
              1,
              "#f0f921"
             ]
            ],
            "type": "contour"
           }
          ],
          "contourcarpet": [
           {
            "colorbar": {
             "outlinewidth": 0,
             "ticks": ""
            },
            "type": "contourcarpet"
           }
          ],
          "heatmap": [
           {
            "colorbar": {
             "outlinewidth": 0,
             "ticks": ""
            },
            "colorscale": [
             [
              0,
              "#0d0887"
             ],
             [
              0.1111111111111111,
              "#46039f"
             ],
             [
              0.2222222222222222,
              "#7201a8"
             ],
             [
              0.3333333333333333,
              "#9c179e"
             ],
             [
              0.4444444444444444,
              "#bd3786"
             ],
             [
              0.5555555555555556,
              "#d8576b"
             ],
             [
              0.6666666666666666,
              "#ed7953"
             ],
             [
              0.7777777777777778,
              "#fb9f3a"
             ],
             [
              0.8888888888888888,
              "#fdca26"
             ],
             [
              1,
              "#f0f921"
             ]
            ],
            "type": "heatmap"
           }
          ],
          "heatmapgl": [
           {
            "colorbar": {
             "outlinewidth": 0,
             "ticks": ""
            },
            "colorscale": [
             [
              0,
              "#0d0887"
             ],
             [
              0.1111111111111111,
              "#46039f"
             ],
             [
              0.2222222222222222,
              "#7201a8"
             ],
             [
              0.3333333333333333,
              "#9c179e"
             ],
             [
              0.4444444444444444,
              "#bd3786"
             ],
             [
              0.5555555555555556,
              "#d8576b"
             ],
             [
              0.6666666666666666,
              "#ed7953"
             ],
             [
              0.7777777777777778,
              "#fb9f3a"
             ],
             [
              0.8888888888888888,
              "#fdca26"
             ],
             [
              1,
              "#f0f921"
             ]
            ],
            "type": "heatmapgl"
           }
          ],
          "histogram": [
           {
            "marker": {
             "pattern": {
              "fillmode": "overlay",
              "size": 10,
              "solidity": 0.2
             }
            },
            "type": "histogram"
           }
          ],
          "histogram2d": [
           {
            "colorbar": {
             "outlinewidth": 0,
             "ticks": ""
            },
            "colorscale": [
             [
              0,
              "#0d0887"
             ],
             [
              0.1111111111111111,
              "#46039f"
             ],
             [
              0.2222222222222222,
              "#7201a8"
             ],
             [
              0.3333333333333333,
              "#9c179e"
             ],
             [
              0.4444444444444444,
              "#bd3786"
             ],
             [
              0.5555555555555556,
              "#d8576b"
             ],
             [
              0.6666666666666666,
              "#ed7953"
             ],
             [
              0.7777777777777778,
              "#fb9f3a"
             ],
             [
              0.8888888888888888,
              "#fdca26"
             ],
             [
              1,
              "#f0f921"
             ]
            ],
            "type": "histogram2d"
           }
          ],
          "histogram2dcontour": [
           {
            "colorbar": {
             "outlinewidth": 0,
             "ticks": ""
            },
            "colorscale": [
             [
              0,
              "#0d0887"
             ],
             [
              0.1111111111111111,
              "#46039f"
             ],
             [
              0.2222222222222222,
              "#7201a8"
             ],
             [
              0.3333333333333333,
              "#9c179e"
             ],
             [
              0.4444444444444444,
              "#bd3786"
             ],
             [
              0.5555555555555556,
              "#d8576b"
             ],
             [
              0.6666666666666666,
              "#ed7953"
             ],
             [
              0.7777777777777778,
              "#fb9f3a"
             ],
             [
              0.8888888888888888,
              "#fdca26"
             ],
             [
              1,
              "#f0f921"
             ]
            ],
            "type": "histogram2dcontour"
           }
          ],
          "mesh3d": [
           {
            "colorbar": {
             "outlinewidth": 0,
             "ticks": ""
            },
            "type": "mesh3d"
           }
          ],
          "parcoords": [
           {
            "line": {
             "colorbar": {
              "outlinewidth": 0,
              "ticks": ""
             }
            },
            "type": "parcoords"
           }
          ],
          "pie": [
           {
            "automargin": true,
            "type": "pie"
           }
          ],
          "scatter": [
           {
            "fillpattern": {
             "fillmode": "overlay",
             "size": 10,
             "solidity": 0.2
            },
            "type": "scatter"
           }
          ],
          "scatter3d": [
           {
            "line": {
             "colorbar": {
              "outlinewidth": 0,
              "ticks": ""
             }
            },
            "marker": {
             "colorbar": {
              "outlinewidth": 0,
              "ticks": ""
             }
            },
            "type": "scatter3d"
           }
          ],
          "scattercarpet": [
           {
            "marker": {
             "colorbar": {
              "outlinewidth": 0,
              "ticks": ""
             }
            },
            "type": "scattercarpet"
           }
          ],
          "scattergeo": [
           {
            "marker": {
             "colorbar": {
              "outlinewidth": 0,
              "ticks": ""
             }
            },
            "type": "scattergeo"
           }
          ],
          "scattergl": [
           {
            "marker": {
             "colorbar": {
              "outlinewidth": 0,
              "ticks": ""
             }
            },
            "type": "scattergl"
           }
          ],
          "scattermapbox": [
           {
            "marker": {
             "colorbar": {
              "outlinewidth": 0,
              "ticks": ""
             }
            },
            "type": "scattermapbox"
           }
          ],
          "scatterpolar": [
           {
            "marker": {
             "colorbar": {
              "outlinewidth": 0,
              "ticks": ""
             }
            },
            "type": "scatterpolar"
           }
          ],
          "scatterpolargl": [
           {
            "marker": {
             "colorbar": {
              "outlinewidth": 0,
              "ticks": ""
             }
            },
            "type": "scatterpolargl"
           }
          ],
          "scatterternary": [
           {
            "marker": {
             "colorbar": {
              "outlinewidth": 0,
              "ticks": ""
             }
            },
            "type": "scatterternary"
           }
          ],
          "surface": [
           {
            "colorbar": {
             "outlinewidth": 0,
             "ticks": ""
            },
            "colorscale": [
             [
              0,
              "#0d0887"
             ],
             [
              0.1111111111111111,
              "#46039f"
             ],
             [
              0.2222222222222222,
              "#7201a8"
             ],
             [
              0.3333333333333333,
              "#9c179e"
             ],
             [
              0.4444444444444444,
              "#bd3786"
             ],
             [
              0.5555555555555556,
              "#d8576b"
             ],
             [
              0.6666666666666666,
              "#ed7953"
             ],
             [
              0.7777777777777778,
              "#fb9f3a"
             ],
             [
              0.8888888888888888,
              "#fdca26"
             ],
             [
              1,
              "#f0f921"
             ]
            ],
            "type": "surface"
           }
          ],
          "table": [
           {
            "cells": {
             "fill": {
              "color": "#EBF0F8"
             },
             "line": {
              "color": "white"
             }
            },
            "header": {
             "fill": {
              "color": "#C8D4E3"
             },
             "line": {
              "color": "white"
             }
            },
            "type": "table"
           }
          ]
         },
         "layout": {
          "annotationdefaults": {
           "arrowcolor": "#2a3f5f",
           "arrowhead": 0,
           "arrowwidth": 1
          },
          "autotypenumbers": "strict",
          "coloraxis": {
           "colorbar": {
            "outlinewidth": 0,
            "ticks": ""
           }
          },
          "colorscale": {
           "diverging": [
            [
             0,
             "#8e0152"
            ],
            [
             0.1,
             "#c51b7d"
            ],
            [
             0.2,
             "#de77ae"
            ],
            [
             0.3,
             "#f1b6da"
            ],
            [
             0.4,
             "#fde0ef"
            ],
            [
             0.5,
             "#f7f7f7"
            ],
            [
             0.6,
             "#e6f5d0"
            ],
            [
             0.7,
             "#b8e186"
            ],
            [
             0.8,
             "#7fbc41"
            ],
            [
             0.9,
             "#4d9221"
            ],
            [
             1,
             "#276419"
            ]
           ],
           "sequential": [
            [
             0,
             "#0d0887"
            ],
            [
             0.1111111111111111,
             "#46039f"
            ],
            [
             0.2222222222222222,
             "#7201a8"
            ],
            [
             0.3333333333333333,
             "#9c179e"
            ],
            [
             0.4444444444444444,
             "#bd3786"
            ],
            [
             0.5555555555555556,
             "#d8576b"
            ],
            [
             0.6666666666666666,
             "#ed7953"
            ],
            [
             0.7777777777777778,
             "#fb9f3a"
            ],
            [
             0.8888888888888888,
             "#fdca26"
            ],
            [
             1,
             "#f0f921"
            ]
           ],
           "sequentialminus": [
            [
             0,
             "#0d0887"
            ],
            [
             0.1111111111111111,
             "#46039f"
            ],
            [
             0.2222222222222222,
             "#7201a8"
            ],
            [
             0.3333333333333333,
             "#9c179e"
            ],
            [
             0.4444444444444444,
             "#bd3786"
            ],
            [
             0.5555555555555556,
             "#d8576b"
            ],
            [
             0.6666666666666666,
             "#ed7953"
            ],
            [
             0.7777777777777778,
             "#fb9f3a"
            ],
            [
             0.8888888888888888,
             "#fdca26"
            ],
            [
             1,
             "#f0f921"
            ]
           ]
          },
          "colorway": [
           "#636efa",
           "#EF553B",
           "#00cc96",
           "#ab63fa",
           "#FFA15A",
           "#19d3f3",
           "#FF6692",
           "#B6E880",
           "#FF97FF",
           "#FECB52"
          ],
          "font": {
           "color": "#2a3f5f"
          },
          "geo": {
           "bgcolor": "white",
           "lakecolor": "white",
           "landcolor": "white",
           "showlakes": true,
           "showland": true,
           "subunitcolor": "#C8D4E3"
          },
          "hoverlabel": {
           "align": "left"
          },
          "hovermode": "closest",
          "mapbox": {
           "style": "light"
          },
          "paper_bgcolor": "white",
          "plot_bgcolor": "white",
          "polar": {
           "angularaxis": {
            "gridcolor": "#EBF0F8",
            "linecolor": "#EBF0F8",
            "ticks": ""
           },
           "bgcolor": "white",
           "radialaxis": {
            "gridcolor": "#EBF0F8",
            "linecolor": "#EBF0F8",
            "ticks": ""
           }
          },
          "scene": {
           "xaxis": {
            "backgroundcolor": "white",
            "gridcolor": "#DFE8F3",
            "gridwidth": 2,
            "linecolor": "#EBF0F8",
            "showbackground": true,
            "ticks": "",
            "zerolinecolor": "#EBF0F8"
           },
           "yaxis": {
            "backgroundcolor": "white",
            "gridcolor": "#DFE8F3",
            "gridwidth": 2,
            "linecolor": "#EBF0F8",
            "showbackground": true,
            "ticks": "",
            "zerolinecolor": "#EBF0F8"
           },
           "zaxis": {
            "backgroundcolor": "white",
            "gridcolor": "#DFE8F3",
            "gridwidth": 2,
            "linecolor": "#EBF0F8",
            "showbackground": true,
            "ticks": "",
            "zerolinecolor": "#EBF0F8"
           }
          },
          "shapedefaults": {
           "line": {
            "color": "#2a3f5f"
           }
          },
          "ternary": {
           "aaxis": {
            "gridcolor": "#DFE8F3",
            "linecolor": "#A2B1C6",
            "ticks": ""
           },
           "baxis": {
            "gridcolor": "#DFE8F3",
            "linecolor": "#A2B1C6",
            "ticks": ""
           },
           "bgcolor": "white",
           "caxis": {
            "gridcolor": "#DFE8F3",
            "linecolor": "#A2B1C6",
            "ticks": ""
           }
          },
          "title": {
           "x": 0.05
          },
          "xaxis": {
           "automargin": true,
           "gridcolor": "#EBF0F8",
           "linecolor": "#EBF0F8",
           "ticks": "",
           "title": {
            "standoff": 15
           },
           "zerolinecolor": "#EBF0F8",
           "zerolinewidth": 2
          },
          "yaxis": {
           "automargin": true,
           "gridcolor": "#EBF0F8",
           "linecolor": "#EBF0F8",
           "ticks": "",
           "title": {
            "standoff": 15
           },
           "zerolinecolor": "#EBF0F8",
           "zerolinewidth": 2
          }
         }
        },
        "title": {
         "text": "VAE Training and Validation Loss"
        },
        "xaxis": {
         "title": {
          "text": "Epoch"
         }
        },
        "yaxis": {
         "title": {
          "text": "Loss"
         }
        }
       }
      }
     },
     "metadata": {},
     "output_type": "display_data"
    }
   ],
   "source": [
    "# plot complete training and validation loss history\n",
    "val_loss_cpu = [tensor.cpu() for tensor in val_loss]\n",
    "fig = go.Figure()\n",
    "fig.add_trace(go.Scatter(y=train_loss, mode='lines', name='training loss'))\n",
    "fig.add_trace(go.Scatter(y=val_loss_cpu, mode='lines', name='validation loss'))\n",
    "fig.update_layout(title='VAE Training and Validation Loss',\n",
    "                   xaxis_title='Epoch',\n",
    "                   yaxis_title='Loss',\n",
    "                   template = \"plotly_white\")\n",
    "\n",
    "fig.show()"
   ]
  },
  {
   "cell_type": "markdown",
   "metadata": {},
   "source": [
    "### <strong> 2.4 | Convert image feature into VAE's latent space</strong>"
   ]
  },
  {
   "cell_type": "code",
   "execution_count": 130,
   "metadata": {},
   "outputs": [],
   "source": [
    "img_zfeat = []\n",
    "labels = []\n",
    "\n",
    "for [data,label] in test_loader:\n",
    "    x = data.to(model.device)  # Ensure data is on the correct device\n",
    "    z = model.encoparam(x)\n",
    "    img_zfeat.append(z)\n",
    "    labels.append(label)\n",
    "encoded_feat = torch.cat(img_zfeat)"
   ]
  },
  {
   "cell_type": "markdown",
   "metadata": {},
   "source": [
    "### <strong> 2.5 | Plotting the latent features</strong>"
   ]
  },
  {
   "cell_type": "code",
   "execution_count": 131,
   "metadata": {},
   "outputs": [
    {
     "data": {
      "application/vnd.plotly.v1+json": {
       "config": {
        "plotlyServerURL": "https://plot.ly"
       },
       "data": [
        {
         "marker": {
          "opacity": 0.8,
          "size": 5
         },
         "mode": "markers",
         "type": "scatter3d",
         "x": [
          -1.2914206981658936,
          -0.12552577257156372,
          -0.6838300824165344,
          -0.5128034353256226,
          0.8406714200973511,
          -1.073772668838501,
          -0.5543834567070007,
          -1.0085217952728271,
          0.05419933795928955,
          -0.8704438805580139,
          0.42230936884880066,
          0.141572043299675,
          0.46781641244888306,
          2.9363043308258057,
          0.3086584806442261,
          0.9575750231742859,
          0.4075203239917755,
          0.9262162446975708,
          0.07154162228107452,
          0.488686740398407,
          -1.7660748958587646,
          -1.8240764141082764,
          0.9224300384521484,
          0.4576607048511505,
          -0.14717179536819458,
          -0.6925188899040222,
          0.8539961576461792,
          -1.3483034372329712,
          -0.7824544906616211,
          -1.307314157485962,
          -1.290575623512268,
          1.1419413089752197,
          0.8975053429603577,
          -0.19715087115764618,
          1.8030807971954346,
          -0.259476900100708,
          -1.1159543991088867,
          1.6038053035736084,
          -0.3758595585823059,
          2.533064126968384,
          -1.8666633367538452,
          -0.784767210483551,
          -0.5604323148727417,
          -0.3280457556247711,
          0.10864101350307465,
          1.867114782333374,
          -1.7402150630950928,
          0.3750179708003998,
          -0.9450580477714539,
          -0.753514289855957,
          -1.7610405683517456,
          1.6131807565689087,
          -0.8947460651397705,
          0.786681056022644,
          1.1771899461746216,
          -0.4481654167175293,
          0.8265101909637451,
          0.14249779284000397,
          0.6673569083213806,
          -1.0588970184326172,
          2.4968605041503906,
          -0.5456711649894714,
          -0.6465104818344116,
          -0.19170762598514557,
          -0.747188925743103,
          -1.1742298603057861,
          0.7583593130111694,
          -1.419638752937317,
          2.071864366531372,
          1.0109038352966309,
          0.5901967883110046,
          0.07021872699260712,
          -0.20453642308712006,
          -1.7115474939346313,
          1.4442636966705322,
          0.7241659164428711,
          0.2140265852212906,
          -1.0774755477905273,
          0.9983140826225281,
          -1.030960202217102,
          0.5302551984786987,
          2.116598129272461,
          1.1726714372634888,
          -1.0273041725158691,
          0.5882986783981323,
          0.2788962721824646,
          -0.13312232494354248,
          -0.03338238596916199,
          -0.8578078150749207,
          -1.5383012294769287,
          -1.2605013847351074,
          2.30324387550354,
          0.8102988600730896,
          -0.529679000377655,
          1.1729233264923096,
          -0.1814977526664734,
          0.5464290380477905,
          1.5412101745605469,
          1.051165223121643,
          -0.6080740690231323,
          -0.716313898563385,
          -0.22141993045806885,
          1.7605555057525635,
          -1.5283044576644897,
          0.45706796646118164,
          0.3561818301677704,
          0.23038895428180695,
          -0.6436495184898376,
          1.019529104232788,
          0.777187705039978,
          -0.5682810544967651,
          0.8619381189346313,
          -0.8580549955368042,
          -0.3330196738243103,
          -0.5992395877838135,
          0.13257503509521484,
          0.57657790184021,
          1.2204573154449463,
          0.5299209356307983,
          0.18342290818691254,
          -1.1727834939956665
         ],
         "y": [
          -0.1838945746421814,
          1.2031335830688477,
          1.1941606998443604,
          -0.26463162899017334,
          0.034780845046043396,
          0.01949600875377655,
          1.2096467018127441,
          1.3032230138778687,
          1.8081085681915283,
          -0.5822316408157349,
          0.8462455868721008,
          0.48507314920425415,
          1.4177662134170532,
          -0.5131731033325195,
          0.6222509741783142,
          0.9324235916137695,
          0.3112717568874359,
          -0.5889829397201538,
          -0.5541738271713257,
          -0.8823711276054382,
          0.2291036695241928,
          -0.8369093537330627,
          -0.1370864063501358,
          -0.6411041617393494,
          -1.051832675933838,
          1.895442247390747,
          -0.41497641801834106,
          -0.03690388798713684,
          -0.0356774777173996,
          -0.49888375401496887,
          -0.2130545675754547,
          -1.193572759628296,
          0.5512920618057251,
          -0.26513567566871643,
          0.09911511838436127,
          0.8568592667579651,
          -0.266498863697052,
          1.2732927799224854,
          0.27450108528137207,
          0.07796940207481384,
          -1.3573659658432007,
          0.0687691867351532,
          1.7065412998199463,
          -1.3960862159729004,
          0.3122790455818176,
          -0.061324939131736755,
          0.3474885821342468,
          0.08095785230398178,
          -0.4984551668167114,
          0.2938840389251709,
          -0.19138438999652863,
          0.5144575834274292,
          0.4152561128139496,
          0.34220728278160095,
          -0.14069212973117828,
          0.3267174959182739,
          0.48132333159446716,
          1.0258327722549438,
          0.24840222299098969,
          0.3728329539299011,
          1.113953709602356,
          -1.0732338428497314,
          1.1398470401763916,
          -0.5590400099754333,
          -0.3308330178260803,
          0.06281821429729462,
          1.2508296966552734,
          1.3713773488998413,
          1.0836453437805176,
          0.2777789235115051,
          0.21706916391849518,
          0.037689924240112305,
          -0.5381689667701721,
          -0.9721500277519226,
          0.5608465671539307,
          0.8439574837684631,
          0.644598126411438,
          1.8168153762817383,
          0.653704822063446,
          1.199379563331604,
          -0.5582948327064514,
          1.2009644508361816,
          -0.528131365776062,
          1.2006609439849854,
          -1.061435341835022,
          0.7823060750961304,
          0.869053065776825,
          -0.5897032022476196,
          0.8098200559616089,
          0.6571163535118103,
          0.11240817606449127,
          -0.7552039623260498,
          -0.22166317701339722,
          0.4871710538864136,
          1.3350073099136353,
          1.2819997072219849,
          -0.7205994725227356,
          -0.772699773311615,
          -0.34569522738456726,
          -0.08896033465862274,
          1.4536470174789429,
          -0.57175612449646,
          1.3281521797180176,
          -0.6493868827819824,
          -0.49103477597236633,
          1.295535922050476,
          0.1789093017578125,
          0.856733500957489,
          -0.6050649881362915,
          1.5718662738800049,
          -0.43146371841430664,
          -0.6203831434249878,
          0.10476507246494293,
          -0.21924416720867157,
          -0.42607709765434265,
          -0.24011477828025818,
          -0.010178238153457642,
          0.14464080333709717,
          2.882472038269043,
          0.17214064300060272,
          1.253724455833435
         ],
         "z": [
          1.3213953971862793,
          0.2625073194503784,
          -0.19026675820350647,
          0.1509793996810913,
          1.316096305847168,
          -0.9768266677856445,
          0.21835492551326752,
          -0.2971310615539551,
          0.5032919645309448,
          -0.2197989970445633,
          -0.23522713780403137,
          0.41987794637680054,
          -0.07621537894010544,
          -1.7152247428894043,
          -0.798035204410553,
          -0.8328719139099121,
          -0.29586294293403625,
          -0.2818349599838257,
          0.7152052521705627,
          0.27847790718078613,
          -1.250607967376709,
          0.0661594569683075,
          0.34548071026802063,
          -0.16870199143886566,
          1.5566039085388184,
          0.7567950487136841,
          -0.9296200275421143,
          -0.28085026144981384,
          -0.4305145740509033,
          -1.0515501499176025,
          0.2331504374742508,
          -1.0593665838241577,
          1.167426347732544,
          0.9069869518280029,
          -0.6389495134353638,
          0.7982634902000427,
          0.1687934398651123,
          0.6135837435722351,
          -0.7348757982254028,
          0.9696802496910095,
          0.5119097232818604,
          0.2800830602645874,
          -2.1609160900115967,
          -1.3306537866592407,
          0.152372345328331,
          -0.2452259063720703,
          -0.1928735375404358,
          1.1968638896942139,
          -0.23804762959480286,
          0.8994912505149841,
          1.0536792278289795,
          0.8639554977416992,
          -1.1754827499389648,
          -0.57607501745224,
          -1.1436172723770142,
          -0.9813513159751892,
          0.46568024158477783,
          0.09123583137989044,
          -0.5781748294830322,
          0.7925954461097717,
          1.5725243091583252,
          0.8001909255981445,
          -1.1020705699920654,
          1.6549041271209717,
          0.21041660010814667,
          -1.091328740119934,
          -0.30676186084747314,
          -0.5261195302009583,
          -0.4684795141220093,
          1.0982165336608887,
          0.6114769577980042,
          -1.9810420274734497,
          0.24214595556259155,
          -0.26624614000320435,
          -0.9643466472625732,
          -1.346362590789795,
          -0.5646657943725586,
          -0.353776752948761,
          -1.6022348403930664,
          1.3654307126998901,
          0.6926542520523071,
          0.6111453771591187,
          -0.19627448916435242,
          0.799014687538147,
          1.9064865112304688,
          0.8241439461708069,
          -0.7604736089706421,
          1.7718346118927002,
          0.012273341417312622,
          0.3017416298389435,
          -0.9650953412055969,
          -0.05095799267292023,
          -0.5978220701217651,
          0.07232272624969482,
          -1.3870985507965088,
          -0.7958301305770874,
          -0.642375111579895,
          -0.33005475997924805,
          -0.14295294880867004,
          -0.27932649850845337,
          1.1381224393844604,
          -1.5141305923461914,
          1.1232925653457642,
          0.7122752666473389,
          -0.319566011428833,
          -2.3482043743133545,
          -0.301739901304245,
          -2.604095935821533,
          -0.9274402856826782,
          0.2082197517156601,
          -0.09974373877048492,
          0.5336929559707642,
          -0.8412095308303833,
          -0.12197133898735046,
          0.17577548325061798,
          1.3017394542694092,
          0.785673975944519,
          0.7028427124023438,
          2.2690389156341553,
          -1.9259897470474243,
          -0.16365018486976624
         ]
        }
       ],
       "layout": {
        "margin": {
         "b": 0,
         "l": 0,
         "r": 0,
         "t": 0
        },
        "scene": {
         "xaxis": {
          "title": {
           "text": "Dimension 168"
          }
         },
         "yaxis": {
          "title": {
           "text": "Dimension 128"
          }
         },
         "zaxis": {
          "title": {
           "text": "Dimension 100"
          }
         }
        },
        "template": {
         "data": {
          "bar": [
           {
            "error_x": {
             "color": "#f2f5fa"
            },
            "error_y": {
             "color": "#f2f5fa"
            },
            "marker": {
             "line": {
              "color": "rgb(17,17,17)",
              "width": 0.5
             },
             "pattern": {
              "fillmode": "overlay",
              "size": 10,
              "solidity": 0.2
             }
            },
            "type": "bar"
           }
          ],
          "barpolar": [
           {
            "marker": {
             "line": {
              "color": "rgb(17,17,17)",
              "width": 0.5
             },
             "pattern": {
              "fillmode": "overlay",
              "size": 10,
              "solidity": 0.2
             }
            },
            "type": "barpolar"
           }
          ],
          "carpet": [
           {
            "aaxis": {
             "endlinecolor": "#A2B1C6",
             "gridcolor": "#506784",
             "linecolor": "#506784",
             "minorgridcolor": "#506784",
             "startlinecolor": "#A2B1C6"
            },
            "baxis": {
             "endlinecolor": "#A2B1C6",
             "gridcolor": "#506784",
             "linecolor": "#506784",
             "minorgridcolor": "#506784",
             "startlinecolor": "#A2B1C6"
            },
            "type": "carpet"
           }
          ],
          "choropleth": [
           {
            "colorbar": {
             "outlinewidth": 0,
             "ticks": ""
            },
            "type": "choropleth"
           }
          ],
          "contour": [
           {
            "colorbar": {
             "outlinewidth": 0,
             "ticks": ""
            },
            "colorscale": [
             [
              0,
              "#0d0887"
             ],
             [
              0.1111111111111111,
              "#46039f"
             ],
             [
              0.2222222222222222,
              "#7201a8"
             ],
             [
              0.3333333333333333,
              "#9c179e"
             ],
             [
              0.4444444444444444,
              "#bd3786"
             ],
             [
              0.5555555555555556,
              "#d8576b"
             ],
             [
              0.6666666666666666,
              "#ed7953"
             ],
             [
              0.7777777777777778,
              "#fb9f3a"
             ],
             [
              0.8888888888888888,
              "#fdca26"
             ],
             [
              1,
              "#f0f921"
             ]
            ],
            "type": "contour"
           }
          ],
          "contourcarpet": [
           {
            "colorbar": {
             "outlinewidth": 0,
             "ticks": ""
            },
            "type": "contourcarpet"
           }
          ],
          "heatmap": [
           {
            "colorbar": {
             "outlinewidth": 0,
             "ticks": ""
            },
            "colorscale": [
             [
              0,
              "#0d0887"
             ],
             [
              0.1111111111111111,
              "#46039f"
             ],
             [
              0.2222222222222222,
              "#7201a8"
             ],
             [
              0.3333333333333333,
              "#9c179e"
             ],
             [
              0.4444444444444444,
              "#bd3786"
             ],
             [
              0.5555555555555556,
              "#d8576b"
             ],
             [
              0.6666666666666666,
              "#ed7953"
             ],
             [
              0.7777777777777778,
              "#fb9f3a"
             ],
             [
              0.8888888888888888,
              "#fdca26"
             ],
             [
              1,
              "#f0f921"
             ]
            ],
            "type": "heatmap"
           }
          ],
          "heatmapgl": [
           {
            "colorbar": {
             "outlinewidth": 0,
             "ticks": ""
            },
            "colorscale": [
             [
              0,
              "#0d0887"
             ],
             [
              0.1111111111111111,
              "#46039f"
             ],
             [
              0.2222222222222222,
              "#7201a8"
             ],
             [
              0.3333333333333333,
              "#9c179e"
             ],
             [
              0.4444444444444444,
              "#bd3786"
             ],
             [
              0.5555555555555556,
              "#d8576b"
             ],
             [
              0.6666666666666666,
              "#ed7953"
             ],
             [
              0.7777777777777778,
              "#fb9f3a"
             ],
             [
              0.8888888888888888,
              "#fdca26"
             ],
             [
              1,
              "#f0f921"
             ]
            ],
            "type": "heatmapgl"
           }
          ],
          "histogram": [
           {
            "marker": {
             "pattern": {
              "fillmode": "overlay",
              "size": 10,
              "solidity": 0.2
             }
            },
            "type": "histogram"
           }
          ],
          "histogram2d": [
           {
            "colorbar": {
             "outlinewidth": 0,
             "ticks": ""
            },
            "colorscale": [
             [
              0,
              "#0d0887"
             ],
             [
              0.1111111111111111,
              "#46039f"
             ],
             [
              0.2222222222222222,
              "#7201a8"
             ],
             [
              0.3333333333333333,
              "#9c179e"
             ],
             [
              0.4444444444444444,
              "#bd3786"
             ],
             [
              0.5555555555555556,
              "#d8576b"
             ],
             [
              0.6666666666666666,
              "#ed7953"
             ],
             [
              0.7777777777777778,
              "#fb9f3a"
             ],
             [
              0.8888888888888888,
              "#fdca26"
             ],
             [
              1,
              "#f0f921"
             ]
            ],
            "type": "histogram2d"
           }
          ],
          "histogram2dcontour": [
           {
            "colorbar": {
             "outlinewidth": 0,
             "ticks": ""
            },
            "colorscale": [
             [
              0,
              "#0d0887"
             ],
             [
              0.1111111111111111,
              "#46039f"
             ],
             [
              0.2222222222222222,
              "#7201a8"
             ],
             [
              0.3333333333333333,
              "#9c179e"
             ],
             [
              0.4444444444444444,
              "#bd3786"
             ],
             [
              0.5555555555555556,
              "#d8576b"
             ],
             [
              0.6666666666666666,
              "#ed7953"
             ],
             [
              0.7777777777777778,
              "#fb9f3a"
             ],
             [
              0.8888888888888888,
              "#fdca26"
             ],
             [
              1,
              "#f0f921"
             ]
            ],
            "type": "histogram2dcontour"
           }
          ],
          "mesh3d": [
           {
            "colorbar": {
             "outlinewidth": 0,
             "ticks": ""
            },
            "type": "mesh3d"
           }
          ],
          "parcoords": [
           {
            "line": {
             "colorbar": {
              "outlinewidth": 0,
              "ticks": ""
             }
            },
            "type": "parcoords"
           }
          ],
          "pie": [
           {
            "automargin": true,
            "type": "pie"
           }
          ],
          "scatter": [
           {
            "marker": {
             "line": {
              "color": "#283442"
             }
            },
            "type": "scatter"
           }
          ],
          "scatter3d": [
           {
            "line": {
             "colorbar": {
              "outlinewidth": 0,
              "ticks": ""
             }
            },
            "marker": {
             "colorbar": {
              "outlinewidth": 0,
              "ticks": ""
             }
            },
            "type": "scatter3d"
           }
          ],
          "scattercarpet": [
           {
            "marker": {
             "colorbar": {
              "outlinewidth": 0,
              "ticks": ""
             }
            },
            "type": "scattercarpet"
           }
          ],
          "scattergeo": [
           {
            "marker": {
             "colorbar": {
              "outlinewidth": 0,
              "ticks": ""
             }
            },
            "type": "scattergeo"
           }
          ],
          "scattergl": [
           {
            "marker": {
             "line": {
              "color": "#283442"
             }
            },
            "type": "scattergl"
           }
          ],
          "scattermapbox": [
           {
            "marker": {
             "colorbar": {
              "outlinewidth": 0,
              "ticks": ""
             }
            },
            "type": "scattermapbox"
           }
          ],
          "scatterpolar": [
           {
            "marker": {
             "colorbar": {
              "outlinewidth": 0,
              "ticks": ""
             }
            },
            "type": "scatterpolar"
           }
          ],
          "scatterpolargl": [
           {
            "marker": {
             "colorbar": {
              "outlinewidth": 0,
              "ticks": ""
             }
            },
            "type": "scatterpolargl"
           }
          ],
          "scatterternary": [
           {
            "marker": {
             "colorbar": {
              "outlinewidth": 0,
              "ticks": ""
             }
            },
            "type": "scatterternary"
           }
          ],
          "surface": [
           {
            "colorbar": {
             "outlinewidth": 0,
             "ticks": ""
            },
            "colorscale": [
             [
              0,
              "#0d0887"
             ],
             [
              0.1111111111111111,
              "#46039f"
             ],
             [
              0.2222222222222222,
              "#7201a8"
             ],
             [
              0.3333333333333333,
              "#9c179e"
             ],
             [
              0.4444444444444444,
              "#bd3786"
             ],
             [
              0.5555555555555556,
              "#d8576b"
             ],
             [
              0.6666666666666666,
              "#ed7953"
             ],
             [
              0.7777777777777778,
              "#fb9f3a"
             ],
             [
              0.8888888888888888,
              "#fdca26"
             ],
             [
              1,
              "#f0f921"
             ]
            ],
            "type": "surface"
           }
          ],
          "table": [
           {
            "cells": {
             "fill": {
              "color": "#506784"
             },
             "line": {
              "color": "rgb(17,17,17)"
             }
            },
            "header": {
             "fill": {
              "color": "#2a3f5f"
             },
             "line": {
              "color": "rgb(17,17,17)"
             }
            },
            "type": "table"
           }
          ]
         },
         "layout": {
          "annotationdefaults": {
           "arrowcolor": "#f2f5fa",
           "arrowhead": 0,
           "arrowwidth": 1
          },
          "autotypenumbers": "strict",
          "coloraxis": {
           "colorbar": {
            "outlinewidth": 0,
            "ticks": ""
           }
          },
          "colorscale": {
           "diverging": [
            [
             0,
             "#8e0152"
            ],
            [
             0.1,
             "#c51b7d"
            ],
            [
             0.2,
             "#de77ae"
            ],
            [
             0.3,
             "#f1b6da"
            ],
            [
             0.4,
             "#fde0ef"
            ],
            [
             0.5,
             "#f7f7f7"
            ],
            [
             0.6,
             "#e6f5d0"
            ],
            [
             0.7,
             "#b8e186"
            ],
            [
             0.8,
             "#7fbc41"
            ],
            [
             0.9,
             "#4d9221"
            ],
            [
             1,
             "#276419"
            ]
           ],
           "sequential": [
            [
             0,
             "#0d0887"
            ],
            [
             0.1111111111111111,
             "#46039f"
            ],
            [
             0.2222222222222222,
             "#7201a8"
            ],
            [
             0.3333333333333333,
             "#9c179e"
            ],
            [
             0.4444444444444444,
             "#bd3786"
            ],
            [
             0.5555555555555556,
             "#d8576b"
            ],
            [
             0.6666666666666666,
             "#ed7953"
            ],
            [
             0.7777777777777778,
             "#fb9f3a"
            ],
            [
             0.8888888888888888,
             "#fdca26"
            ],
            [
             1,
             "#f0f921"
            ]
           ],
           "sequentialminus": [
            [
             0,
             "#0d0887"
            ],
            [
             0.1111111111111111,
             "#46039f"
            ],
            [
             0.2222222222222222,
             "#7201a8"
            ],
            [
             0.3333333333333333,
             "#9c179e"
            ],
            [
             0.4444444444444444,
             "#bd3786"
            ],
            [
             0.5555555555555556,
             "#d8576b"
            ],
            [
             0.6666666666666666,
             "#ed7953"
            ],
            [
             0.7777777777777778,
             "#fb9f3a"
            ],
            [
             0.8888888888888888,
             "#fdca26"
            ],
            [
             1,
             "#f0f921"
            ]
           ]
          },
          "colorway": [
           "#636efa",
           "#EF553B",
           "#00cc96",
           "#ab63fa",
           "#FFA15A",
           "#19d3f3",
           "#FF6692",
           "#B6E880",
           "#FF97FF",
           "#FECB52"
          ],
          "font": {
           "color": "#f2f5fa"
          },
          "geo": {
           "bgcolor": "rgb(17,17,17)",
           "lakecolor": "rgb(17,17,17)",
           "landcolor": "rgb(17,17,17)",
           "showlakes": true,
           "showland": true,
           "subunitcolor": "#506784"
          },
          "hoverlabel": {
           "align": "left"
          },
          "hovermode": "closest",
          "mapbox": {
           "style": "dark"
          },
          "paper_bgcolor": "rgb(17,17,17)",
          "plot_bgcolor": "rgb(17,17,17)",
          "polar": {
           "angularaxis": {
            "gridcolor": "#506784",
            "linecolor": "#506784",
            "ticks": ""
           },
           "bgcolor": "rgb(17,17,17)",
           "radialaxis": {
            "gridcolor": "#506784",
            "linecolor": "#506784",
            "ticks": ""
           }
          },
          "scene": {
           "xaxis": {
            "backgroundcolor": "rgb(17,17,17)",
            "gridcolor": "#506784",
            "gridwidth": 2,
            "linecolor": "#506784",
            "showbackground": true,
            "ticks": "",
            "zerolinecolor": "#C8D4E3"
           },
           "yaxis": {
            "backgroundcolor": "rgb(17,17,17)",
            "gridcolor": "#506784",
            "gridwidth": 2,
            "linecolor": "#506784",
            "showbackground": true,
            "ticks": "",
            "zerolinecolor": "#C8D4E3"
           },
           "zaxis": {
            "backgroundcolor": "rgb(17,17,17)",
            "gridcolor": "#506784",
            "gridwidth": 2,
            "linecolor": "#506784",
            "showbackground": true,
            "ticks": "",
            "zerolinecolor": "#C8D4E3"
           }
          },
          "shapedefaults": {
           "line": {
            "color": "#f2f5fa"
           }
          },
          "sliderdefaults": {
           "bgcolor": "#C8D4E3",
           "bordercolor": "rgb(17,17,17)",
           "borderwidth": 1,
           "tickwidth": 0
          },
          "ternary": {
           "aaxis": {
            "gridcolor": "#506784",
            "linecolor": "#506784",
            "ticks": ""
           },
           "baxis": {
            "gridcolor": "#506784",
            "linecolor": "#506784",
            "ticks": ""
           },
           "bgcolor": "rgb(17,17,17)",
           "caxis": {
            "gridcolor": "#506784",
            "linecolor": "#506784",
            "ticks": ""
           }
          },
          "title": {
           "x": 0.05
          },
          "updatemenudefaults": {
           "bgcolor": "#506784",
           "borderwidth": 0
          },
          "xaxis": {
           "automargin": true,
           "gridcolor": "#283442",
           "linecolor": "#506784",
           "ticks": "",
           "title": {
            "standoff": 15
           },
           "zerolinecolor": "#283442",
           "zerolinewidth": 2
          },
          "yaxis": {
           "automargin": true,
           "gridcolor": "#283442",
           "linecolor": "#506784",
           "ticks": "",
           "title": {
            "standoff": 15
           },
           "zerolinecolor": "#283442",
           "zerolinewidth": 2
          }
         }
        },
        "title": {
         "text": "Image feature distribution in latent space"
        }
       }
      }
     },
     "metadata": {},
     "output_type": "display_data"
    },
    {
     "data": {
      "text/plain": [
       "<Figure size 640x480 with 0 Axes>"
      ]
     },
     "metadata": {},
     "output_type": "display_data"
    }
   ],
   "source": [
    "# Plot the features in the a dummy latent space\n",
    "ubound = encoded_feat.shape[1]\n",
    "ind_list = np.random.randint(0, ubound, size=(3,))\n",
    "imgfeature_sp(encoded_feat,ind_list)"
   ]
  },
  {
   "cell_type": "markdown",
   "metadata": {},
   "source": [
    "## <strong> 3 | Classification through Gaussian Mixtures</strong>"
   ]
  },
  {
   "cell_type": "markdown",
   "metadata": {},
   "source": [
    "### <strong> 3.1 | Gaussian mixtures through Expectation maximisation algorithm</strong>"
   ]
  },
  {
   "cell_type": "code",
   "execution_count": 59,
   "metadata": {},
   "outputs": [],
   "source": [
    "def EM_mixtures(X, K, mu_init, Sigma_init, pi_init, max_iter=1000, tol=1e-6):\n",
    "    N = X.shape[0]\n",
    "    D = X.shape[1]\n",
    "    clusters = np.zeros(N, dtype=int)\n",
    "\n",
    "    mu = mu_init\n",
    "    Sigma = Sigma_init\n",
    "    pi = pi_init\n",
    "\n",
    "    mu_list = []\n",
    "    Sigma_list = []\n",
    "    pi_list = []\n",
    "    z_nk_list = []\n",
    "    loglikelihood_list = []\n",
    "\n",
    "    for i in range(max_iter):\n",
    "        # E STEP: compute the responsibilities #\n",
    "        z_nk = np.zeros((N, K))\n",
    "\n",
    "        for n in range(N):\n",
    "            x_n = X[n, :]\n",
    "\n",
    "            likelihood_x = 0.0\n",
    "\n",
    "            # For each datapoint, get p(z|x) through Bayes' theorem\n",
    "            for k in range(K):\n",
    "                # Compute p(x|z)\n",
    "                gaussian = multivariate_normal(mu[k, :], Sigma[k, :, :])\n",
    "                likelihood_x_given_z = gaussian.pdf(x_n)\n",
    "\n",
    "                # Compute p(x,z) = p(z) * p(x|z)\n",
    "                joint_x_z = pi[k] * likelihood_x_given_z\n",
    "                z_nk[n, k] = joint_x_z\n",
    "\n",
    "                # Compute p(x) = int p(x,z) dz\n",
    "                likelihood_x += joint_x_z\n",
    "\n",
    "            # Compute p(z|x) = p(x,z) / p(x)\n",
    "            z_nk[n, :] /= likelihood_x\n",
    "           \n",
    "        # Compute the log likelihood #\n",
    "        loglikelihood = 0.0\n",
    "\n",
    "        for n in range(N):\n",
    "            x_n = X[n, :]\n",
    "            likelihood_x = 0.0\n",
    "\n",
    "            # For each datapoint, marginalize over z to get its likelihood\n",
    "            for k in range(K):\n",
    "                # Compute p(x|z)\n",
    "                gaussian = multivariate_normal(mu[k, :], Sigma[k, :, :])\n",
    "                likelihood_x_given_z = gaussian.pdf(x_n)\n",
    "\n",
    "                # Compute p(x,z) = p(z) * p(x|z)\n",
    "                joint_x_z = pi[k] * likelihood_x_given_z\n",
    "\n",
    "                # Compute p(x) = int p(x,z) dz\n",
    "                likelihood_x += joint_x_z\n",
    "\n",
    "            # Take the log and add it to log likelihood of the full dataset\n",
    "            loglikelihood += np.log(likelihood_x)\n",
    "\n",
    "        # Check for convergence\n",
    "        if len(loglikelihood_list) > 0:\n",
    "            if np.abs(loglikelihood - loglikelihood_list[-1]) < tol:\n",
    "                break\n",
    "\n",
    "        # Store the means, covariances, weights, responsibilities and loss\n",
    "        mu_list.append(mu.copy())\n",
    "        Sigma_list.append(Sigma.copy())\n",
    "        pi_list.append(pi)\n",
    "        z_nk_list.append(z_nk.copy())\n",
    "        loglikelihood_list.append(loglikelihood)\n",
    "\n",
    "        # M STEP: optimize the parameters #\n",
    "        for k in range(K):\n",
    "            N_k = sum(z_nk[:, k])\n",
    "\n",
    "            # Compute the new mean of each cluster\n",
    "            first_moment = np.zeros(D)\n",
    "            for n in range(N):\n",
    "                x_n = X[n, :]\n",
    "                first_moment += z_nk[n, k] * x_n\n",
    "            new_mu = first_moment / N_k\n",
    "\n",
    "            # Compute the new covariance of each cluster\n",
    "            second_moment = np.zeros((D, D))\n",
    "            for n in range(N):\n",
    "                x_n = X[n, :]\n",
    "                second_moment += z_nk[n, k] * np.outer(x_n - new_mu, x_n - new_mu)\n",
    "            new_Sigma = second_moment / N_k\n",
    "\n",
    "            # Compute the weight of each cluster\n",
    "            new_pi = N_k / np.sum(z_nk)\n",
    "            # ---------------------- student exercise --------------------------------- #\n",
    "\n",
    "            # Update mu, sigma and pi\n",
    "            mu[k, :] = new_mu\n",
    "            Sigma[k, :, :] = new_Sigma\n",
    "            pi[k] = new_pi\n",
    "\n",
    "    return mu_list, Sigma_list, pi_list, z_nk_list, loglikelihood_list"
   ]
  },
  {
   "cell_type": "code",
   "execution_count": 132,
   "metadata": {},
   "outputs": [],
   "source": [
    "from sklearn.mixture import GaussianMixture\n",
    "import numpy as np\n",
    "\n",
    "def fit_gaussian_mixture(X, K, max_iter=1000, tol=1e-6):\n",
    "    # Initialize the Gaussian Mixture Model\n",
    "    gmm = GaussianMixture(n_components=K, covariance_type='full', max_iter=max_iter, tol=tol, init_params='kmeans')\n",
    "    gmm.fit(X)\n",
    "\n",
    "    mu = gmm.means_\n",
    "    Sigma = gmm.covariances_\n",
    "    pi = gmm.weights_\n",
    "    \n",
    "    z_nk = gmm.predict_proba(X)\n",
    "    loglikelihood = gmm.score(X) * len(X)  # gmm.score returns average log likelihood per sample\n",
    "    \n",
    "    return mu, Sigma, pi, z_nk, loglikelihood"
   ]
  },
  {
   "cell_type": "markdown",
   "metadata": {},
   "source": [
    "### <strong> 3.2 | Initiate the model</strong>"
   ]
  },
  {
   "cell_type": "code",
   "execution_count": null,
   "metadata": {},
   "outputs": [],
   "source": [
    "K = 25 \n",
    "gmm = GaussianMixture(n_components=K, covariance_type='full', random_state=0)\n",
    "gmm.fit(data)"
   ]
  },
  {
   "cell_type": "markdown",
   "metadata": {},
   "source": [
    "### <strong> 3.3 | Plotting the classification</strong>"
   ]
  },
  {
   "cell_type": "markdown",
   "metadata": {},
   "source": [
    "#### <strong> Actual classification redued into a 2D space</strong>"
   ]
  },
  {
   "cell_type": "markdown",
   "metadata": {},
   "source": [
    "#### <strong> Dummy classification a 3D space</strong>"
   ]
  },
  {
   "cell_type": "code",
   "execution_count": 149,
   "metadata": {},
   "outputs": [
    {
     "data": {
      "application/vnd.plotly.v1+json": {
       "config": {
        "plotlyServerURL": "https://plot.ly"
       },
       "data": [
        {
         "marker": {
          "color": "#636EFA",
          "size": 3
         },
         "mode": "markers",
         "name": "Cluster 1",
         "type": "scatter3d",
         "x": [
          2.5254499912261963,
          -0.8711049556732178,
          1.367871880531311,
          -0.211393803358078,
          1.0212270021438599,
          1.459497332572937,
          1.123537302017212,
          0.883007824420929,
          0.9710274338722229,
          1.1076276302337646,
          0.9420865178108215,
          -0.4275023341178894,
          0.5193715691566467
         ],
         "y": [
          0.2915259599685669,
          1.5482141971588135,
          -0.4975653886795044,
          -0.9693667888641357,
          0.8944541215896606,
          0.3247634768486023,
          -0.24594807624816895,
          0.406474769115448,
          2.1749491691589355,
          0.6256894469261169,
          -2.2539565563201904,
          -0.9299147129058838,
          0.603394627571106
         ],
         "z": [
          -0.07329577207565308,
          1.435642123222351,
          -0.3492978513240814,
          1.9271990060806274,
          -0.20936253666877747,
          0.28171244263648987,
          0.9828660488128662,
          -0.22842639684677124,
          0.6430063247680664,
          -0.6807764768600464,
          -1.2605111598968506,
          2.259016513824463,
          -0.7287071943283081
         ]
        },
        {
         "marker": {
          "color": "#EF553B",
          "size": 3
         },
         "mode": "markers",
         "name": "Cluster 2",
         "type": "scatter3d",
         "x": [
          -1.5053281784057617,
          -0.07934558391571045,
          -0.013890668749809265,
          -0.7271472215652466,
          -0.48279985785484314,
          -0.6490013003349304,
          -1.8921029567718506,
          0.20289582014083862,
          -0.3296459913253784,
          0.9489641189575195,
          -0.5593309998512268,
          -0.18750879168510437,
          -0.979551374912262,
          0.10032053291797638,
          0.7855007648468018,
          -0.26003140211105347,
          -1.1033917665481567,
          0.40876489877700806,
          -1.2159500122070312,
          1.8687007427215576,
          0.08034518361091614,
          -1.1177036762237549,
          0.7780072689056396,
          -0.9699893593788147,
          -0.48271751403808594,
          0.3216022551059723,
          1.4364302158355713,
          -0.2179812341928482,
          -0.09227938950061798,
          1.3531397581100464,
          -0.23882901668548584,
          -0.6443074941635132,
          0.4177425503730774,
          0.9248425364494324,
          0.7096999287605286,
          -0.13817614316940308,
          0.37844592332839966,
          -2.340947389602661,
          0.36090168356895447,
          -1.4281741380691528,
          -0.572482705116272,
          1.8845142126083374,
          0.42221909761428833,
          -1.1717853546142578,
          -0.13930818438529968,
          -0.6698790788650513,
          -1.7143932580947876,
          -1.3140655755996704,
          0.5676457285881042,
          0.006564445793628693,
          0.359619677066803,
          -0.9867268800735474,
          -1.1591649055480957,
          0.6154000759124756,
          -0.10828356444835663,
          1.758183479309082,
          -0.13622552156448364,
          0.3932378888130188,
          0.5352045893669128,
          0.8300137519836426,
          -0.12961405515670776,
          -1.216147780418396,
          -1.86959969997406,
          -0.13543176651000977
         ],
         "y": [
          0.932471513748169,
          -0.41991615295410156,
          0.9200259447097778,
          0.36034342646598816,
          0.9279254674911499,
          -1.1842453479766846,
          0.8275059461593628,
          0.13389462232589722,
          2.024061918258667,
          0.2667626142501831,
          -0.15576937794685364,
          0.7434514760971069,
          0.3836694061756134,
          1.695878267288208,
          1.177879810333252,
          1.1665456295013428,
          -0.2678031623363495,
          -0.6037492752075195,
          2.868534564971924,
          -0.4822831451892853,
          -0.9805183410644531,
          0.7066259384155273,
          -0.6316524744033813,
          1.1692049503326416,
          -1.5389251708984375,
          1.0527074337005615,
          0.305566668510437,
          1.634103536605835,
          1.6419322490692139,
          0.39538225531578064,
          1.577052354812622,
          -0.4033462703227997,
          1.3873907327651978,
          0.6207631230354309,
          0.8068208694458008,
          0.6839117407798767,
          0.7650542259216309,
          -0.06821489334106445,
          0.28674814105033875,
          -0.1340443193912506,
          -0.39739683270454407,
          1.6730501651763916,
          0.8055816292762756,
          0.6206342577934265,
          1.0004408359527588,
          1.2976198196411133,
          0.17338259518146515,
          0.23952580988407135,
          0.18544237315654755,
          0.4763879179954529,
          -0.20053523778915405,
          0.7090948820114136,
          0.19598868489265442,
          -0.023128926753997803,
          1.4740737676620483,
          0.0377555713057518,
          1.0807136297225952,
          0.26636257767677307,
          -0.6182615756988525,
          -0.48647141456604004,
          0.05896049737930298,
          -0.687687337398529,
          -1.838117241859436,
          0.6010222434997559
         ],
         "z": [
          -1.5482367277145386,
          -1.1969921588897705,
          0.8103562593460083,
          0.18946507573127747,
          1.1995410919189453,
          -2.008009910583496,
          0.8492579460144043,
          -0.855589747428894,
          -0.09879760444164276,
          -0.4541705846786499,
          -0.21372999250888824,
          -0.7669494152069092,
          1.7995274066925049,
          0.7165097594261169,
          -0.3174636662006378,
          -0.1715041846036911,
          -0.016459453850984573,
          0.11751048266887665,
          -0.05353034287691116,
          -1.1021981239318848,
          0.4247792363166809,
          -0.3384186625480652,
          0.6828951239585876,
          1.0815101861953735,
          1.1731898784637451,
          -1.1233656406402588,
          0.7961313724517822,
          -0.9964334964752197,
          -0.24174119532108307,
          -1.1803845167160034,
          0.37196603417396545,
          -1.0974903106689453,
          0.11556239426136017,
          1.430531620979309,
          1.487894892692566,
          -0.5669496655464172,
          -3.2191736698150635,
          0.5492621660232544,
          -0.4618910253047943,
          2.3039608001708984,
          0.819264829158783,
          -0.03586988151073456,
          0.3953995704650879,
          1.568547010421753,
          -1.1729532480239868,
          0.09967194497585297,
          -1.5708644390106201,
          -0.23157016932964325,
          0.23434653878211975,
          1.2777849435806274,
          1.0312119722366333,
          0.18529248237609863,
          -0.672563374042511,
          -0.5346066951751709,
          -0.7257046103477478,
          1.7140141725540161,
          0.05422797426581383,
          1.4166719913482666,
          -1.6759601831436157,
          -0.13151346147060394,
          -0.33322951197624207,
          -0.4743642210960388,
          0.8456889390945435,
          0.612692654132843
         ]
        },
        {
         "marker": {
          "color": "#00CC96",
          "size": 3
         },
         "mode": "markers",
         "name": "Cluster 3",
         "type": "scatter3d",
         "x": [
          -1.7037749290466309,
          -0.3854124844074249,
          -0.4976915717124939,
          -2.6094765663146973,
          -1.0291917324066162,
          -0.142357736825943,
          0.4040814936161041,
          -0.6498827934265137,
          -0.04878999665379524,
          1.121279001235962,
          -0.5450165271759033,
          -0.7446126341819763,
          -0.07715549319982529,
          -1.9382145404815674,
          0.17420457303524017,
          -2.814854383468628,
          0.10129108279943466,
          0.8854414224624634,
          -1.5914785861968994,
          -1.3280224800109863,
          -1.1926584243774414,
          -0.6535440683364868,
          0.5170602202415466,
          0.3875530958175659,
          -1.3770437240600586,
          -0.7510513067245483,
          -1.071566104888916,
          -1.6853691339492798,
          0.30250048637390137,
          0.1491779088973999,
          -0.006132185459136963,
          0.2971888780593872,
          -0.6461703777313232,
          -0.7372783422470093,
          0.6476173400878906,
          -0.5578862428665161,
          -0.11289053410291672,
          -1.4862921237945557,
          -1.4133050441741943,
          -1.1912941932678223,
          1.899374008178711,
          -0.3901803195476532,
          -0.3399171233177185,
          0.01342010498046875
         ],
         "y": [
          -2.098176956176758,
          -0.8821572065353394,
          -0.032229069620370865,
          -0.87322998046875,
          -0.8412587642669678,
          0.22914555668830872,
          -0.9090345501899719,
          -0.1351287066936493,
          -0.3479202389717102,
          -1.2281821966171265,
          -0.735657811164856,
          -0.6057637929916382,
          0.1473921537399292,
          -0.3548387587070465,
          0.7921923398971558,
          -1.4940905570983887,
          -0.6677205562591553,
          -0.29040566086769104,
          1.2886241674423218,
          -0.5036100149154663,
          -0.12148523330688477,
          0.4414955675601959,
          0.6637628674507141,
          -1.3927133083343506,
          0.6250396966934204,
          0.5030182600021362,
          -0.3339589834213257,
          0.5080665946006775,
          -0.14464816451072693,
          -0.5391486287117004,
          -0.6976152658462524,
          -0.1734376847743988,
          0.6794217228889465,
          -1.8373773097991943,
          -0.14733630418777466,
          -1.289189338684082,
          -0.6045607924461365,
          0.7953727841377258,
          -1.4820992946624756,
          0.4161515533924103,
          0.6126246452331543,
          -0.571553111076355,
          -1.5323237180709839,
          -1.0688062906265259
         ],
         "z": [
          -0.6264940500259399,
          0.2472795993089676,
          1.3156638145446777,
          0.13014081120491028,
          -0.6807720065116882,
          0.8767198920249939,
          -0.3761448264122009,
          -2.939739942550659,
          0.5307337045669556,
          0.7638387084007263,
          -0.6581621170043945,
          -1.3299102783203125,
          -0.7803782820701599,
          -2.0816192626953125,
          -1.770308017730713,
          0.24483540654182434,
          1.1502306461334229,
          0.39159202575683594,
          -0.3268755376338959,
          -0.7140639424324036,
          -0.7041640281677246,
          1.1334655284881592,
          -1.1656441688537598,
          -0.9195080995559692,
          -0.4508976340293884,
          -0.5444420576095581,
          -0.8814002275466919,
          0.4100630581378937,
          -0.5557801127433777,
          -0.3214666247367859,
          0.2264353483915329,
          -0.9519667029380798,
          -0.13016937673091888,
          1.1453256607055664,
          -0.3127385973930359,
          -0.2977510690689087,
          0.28282660245895386,
          -0.19141069054603577,
          2.002852439880371,
          0.6501119136810303,
          0.3554156422615051,
          0.9252209663391113,
          0.6903018951416016,
          -0.7262469530105591
         ]
        },
        {
         "alphahull": 0,
         "color": "#636EFA",
         "opacity": 0.2,
         "type": "mesh3d",
         "x": [
          0.8008233377566704,
          0.8008233377566704,
          0.8008233377566704,
          0.8008233377566704,
          0.8008233377566704,
          0.8008233377566704,
          0.8008233377566704,
          0.8008233377566704,
          0.8008233377566704,
          0.8008233377566704,
          0.8008233377566704,
          0.8008233377566704,
          0.8008233377566704,
          0.8008233377566704,
          0.8008233377566704,
          0.8008233377566704,
          0.8008233377566704,
          0.8008233377566704,
          0.8008233377566704,
          0.8008233377566704,
          0.8831206328970373,
          0.8786615384457552,
          0.8657674671656849,
          0.8458356917521518,
          0.8210261293445734,
          0.7940272809898355,
          0.7677648908374699,
          0.7450848963634552,
          0.7284450268854243,
          0.7196484704554995,
          0.7196484704554995,
          0.7284450268854243,
          0.7450848963634551,
          0.7677648908374699,
          0.7940272809898354,
          0.8210261293445734,
          0.8458356917521518,
          0.8657674671656849,
          0.8786615384457552,
          0.8831206328970373,
          0.9631730723590121,
          0.9543765159290873,
          0.9289400900211316,
          0.889620226069086,
          0.8406778414427057,
          0.7874166029356021,
          0.7356081921732859,
          0.6908668543521744,
          0.658041007658571,
          0.6406878419272185,
          0.6406878419272185,
          0.658041007658571,
          0.6908668543521743,
          0.7356081921732858,
          0.787416602935602,
          0.8406778414427056,
          0.889620226069086,
          0.9289400900211315,
          0.9543765159290873,
          0.9631730723590121,
          1.038797034275207,
          1.0259029629951368,
          0.9886180218502512,
          0.9309826127490695,
          0.85924242657322,
          0.7811716256585381,
          0.7052303926774199,
          0.6396481385730087,
          0.5915317181910382,
          0.5660952922830825,
          0.5660952922830825,
          0.5915317181910382,
          0.6396481385730086,
          0.7052303926774197,
          0.781171625658538,
          0.8592424265732199,
          0.9309826127490693,
          0.9886180218502512,
          1.0259029629951368,
          1.038797034275207,
          1.1079296941015042,
          1.0912898246234732,
          1.0431734042415028,
          0.9687945937071669,
          0.8762134912480178,
          0.7754626958593211,
          0.6774601195311062,
          0.5928258620751864,
          0.5307313585227226,
          0.4979055118291191,
          0.4979055118291191,
          0.5307313585227225,
          0.5928258620751863,
          0.6774601195311061,
          0.775462695859321,
          0.8762134912480176,
          0.9687945937071669,
          1.0431734042415028,
          1.0912898246234732,
          1.1079296941015042,
          1.168685293093236,
          1.148753517679703,
          1.0911181085785213,
          1.0020247566713194,
          0.8911281090630342,
          0.7704455382608044,
          0.653054873394077,
          0.551677214505003,
          0.4772984039706669,
          0.4379785400186213,
          0.43797854001862124,
          0.4772984039706669,
          0.5516772145050028,
          0.6530548733940768,
          0.7704455382608043,
          0.891128109063034,
          1.0020247566713194,
          1.091118108578521,
          1.148753517679703,
          1.168685293093236,
          1.2194065768879345,
          1.19672658241392,
          1.1311443283095086,
          1.0297666694204348,
          0.9035794481237824,
          0.7662570078435218,
          0.6326803657612218,
          0.5173246237016544,
          0.4326903662457346,
          0.38794902842462314,
          0.3879490284246231,
          0.43269036624573454,
          0.5173246237016542,
          0.6326803657612216,
          0.7662570078435216,
          0.9035794481237822,
          1.0297666694204346,
          1.1311443283095086,
          1.19672658241392,
          1.2194065768879345,
          1.2587100010841992,
          1.2339004386766206,
          1.1621602525007713,
          1.051263604892486,
          0.9132278683589039,
          0.7630113567985729,
          0.6168923600883875,
          0.4907051387917352,
          0.39812403633258603,
          0.34918165170620563,
          0.34918165170620563,
          0.398124036332586,
          0.490705138791735,
          0.6168923600883873,
          0.7630113567985727,
          0.9132278683589037,
          1.051263604892486,
          1.1621602525007713,
          1.2339004386766206,
          1.2587100010841992,
          1.2855234707263357,
          1.25926108057397,
          1.1833198475928517,
          1.0659291827261241,
          0.9198101860159388,
          0.760797118025683,
          0.60612151201407,
          0.4725448699317699,
          0.3745422936035549,
          0.3227338828412386,
          0.32273388284123855,
          0.37454229360355484,
          0.4725448699317697,
          0.6061215120140697,
          0.7607971180256827,
          0.9198101860159386,
          1.065929182726124,
          1.1833198475928515,
          1.25926108057397,
          1.2855234707263357,
          1.2991155842600053,
          1.2721167359052674,
          1.1940459349905854,
          1.0733633641883558,
          0.9231468526280248,
          0.7596746901864869,
          0.6006616221962312,
          0.4633391819159706,
          0.36258838652727393,
          0.3093271480201703,
          0.30932714802017025,
          0.3625883865272739,
          0.46333918191597034,
          0.6006616221962309,
          0.7596746901864867,
          0.9231468526280245,
          1.0733633641883555,
          1.1940459349905854,
          1.2721167359052674,
          1.2991155842600053,
          1.2991155842600053,
          1.2721167359052674,
          1.1940459349905854,
          1.0733633641883558,
          0.9231468526280248,
          0.7596746901864869,
          0.6006616221962312,
          0.4633391819159706,
          0.36258838652727393,
          0.3093271480201703,
          0.30932714802017025,
          0.3625883865272739,
          0.46333918191597034,
          0.6006616221962309,
          0.7596746901864867,
          0.9231468526280245,
          1.0733633641883555,
          1.1940459349905854,
          1.2721167359052674,
          1.2991155842600053,
          1.2855234707263357,
          1.25926108057397,
          1.1833198475928517,
          1.0659291827261241,
          0.9198101860159388,
          0.760797118025683,
          0.60612151201407,
          0.4725448699317699,
          0.3745422936035549,
          0.3227338828412386,
          0.32273388284123855,
          0.37454229360355484,
          0.4725448699317697,
          0.6061215120140697,
          0.7607971180256827,
          0.9198101860159386,
          1.065929182726124,
          1.1833198475928515,
          1.25926108057397,
          1.2855234707263357,
          1.2587100010841992,
          1.2339004386766208,
          1.1621602525007715,
          1.051263604892486,
          0.9132278683589039,
          0.7630113567985729,
          0.6168923600883875,
          0.4907051387917352,
          0.398124036332586,
          0.34918165170620563,
          0.3491816517062056,
          0.3981240363325859,
          0.49070513879173494,
          0.6168923600883872,
          0.7630113567985727,
          0.9132278683589037,
          1.051263604892486,
          1.1621602525007713,
          1.2339004386766208,
          1.2587100010841992,
          1.2194065768879347,
          1.19672658241392,
          1.1311443283095088,
          1.0297666694204348,
          0.9035794481237824,
          0.7662570078435218,
          0.6326803657612218,
          0.5173246237016543,
          0.43269036624573454,
          0.3879490284246231,
          0.38794902842462303,
          0.4326903662457345,
          0.5173246237016541,
          0.6326803657612214,
          0.7662570078435216,
          0.9035794481237822,
          1.0297666694204346,
          1.1311443283095086,
          1.19672658241392,
          1.2194065768879347,
          1.1686852930932363,
          1.1487535176797032,
          1.0911181085785213,
          1.0020247566713194,
          0.8911281090630342,
          0.7704455382608044,
          0.653054873394077,
          0.551677214505003,
          0.4772984039706669,
          0.43797854001862124,
          0.4379785400186212,
          0.47729840397066686,
          0.5516772145050027,
          0.6530548733940766,
          0.7704455382608042,
          0.891128109063034,
          1.0020247566713194,
          1.0911181085785213,
          1.1487535176797032,
          1.1686852930932363,
          1.1079296941015042,
          1.0912898246234735,
          1.043173404241503,
          0.968794593707167,
          0.8762134912480178,
          0.7754626958593211,
          0.6774601195311062,
          0.5928258620751864,
          0.5307313585227225,
          0.497905511829119,
          0.497905511829119,
          0.5307313585227225,
          0.5928258620751863,
          0.677460119531106,
          0.775462695859321,
          0.8762134912480177,
          0.9687945937071669,
          1.0431734042415028,
          1.0912898246234735,
          1.1079296941015042,
          1.0387970342752073,
          1.0259029629951368,
          0.9886180218502513,
          0.9309826127490695,
          0.8592424265732201,
          0.7811716256585381,
          0.7052303926774199,
          0.6396481385730086,
          0.5915317181910382,
          0.5660952922830824,
          0.5660952922830824,
          0.5915317181910382,
          0.6396481385730085,
          0.7052303926774197,
          0.781171625658538,
          0.85924242657322,
          0.9309826127490695,
          0.9886180218502513,
          1.0259029629951368,
          1.0387970342752073,
          0.9631730723590122,
          0.9543765159290873,
          0.9289400900211316,
          0.8896202260690861,
          0.8406778414427057,
          0.7874166029356021,
          0.7356081921732858,
          0.6908668543521743,
          0.6580410076585709,
          0.6406878419272184,
          0.6406878419272184,
          0.6580410076585709,
          0.6908668543521743,
          0.7356081921732858,
          0.787416602935602,
          0.8406778414427056,
          0.889620226069086,
          0.9289400900211316,
          0.9543765159290873,
          0.9631730723590122,
          0.8831206328970373,
          0.8786615384457553,
          0.865767467165685,
          0.8458356917521519,
          0.8210261293445735,
          0.7940272809898355,
          0.7677648908374699,
          0.7450848963634551,
          0.7284450268854242,
          0.7196484704554994,
          0.7196484704554994,
          0.7284450268854242,
          0.7450848963634551,
          0.7677648908374698,
          0.7940272809898354,
          0.8210261293445734,
          0.8458356917521518,
          0.8657674671656849,
          0.8786615384457553,
          0.8831206328970373,
          0.8008233377566705,
          0.8008233377566705,
          0.8008233377566704,
          0.8008233377566704,
          0.8008233377566704,
          0.8008233377566704,
          0.8008233377566704,
          0.8008233377566704,
          0.8008233377566704,
          0.8008233377566703,
          0.8008233377566703,
          0.8008233377566704,
          0.8008233377566704,
          0.8008233377566704,
          0.8008233377566704,
          0.8008233377566704,
          0.8008233377566704,
          0.8008233377566704,
          0.8008233377566705,
          0.8008233377566705
         ],
         "y": [
          0.15174724963995123,
          0.15174724963995123,
          0.15174724963995123,
          0.15174724963995123,
          0.15174724963995123,
          0.15174724963995123,
          0.15174724963995123,
          0.15174724963995123,
          0.15174724963995123,
          0.15174724963995123,
          0.15174724963995123,
          0.15174724963995123,
          0.15174724963995123,
          0.15174724963995123,
          0.15174724963995123,
          0.15174724963995123,
          0.15174724963995123,
          0.15174724963995123,
          0.15174724963995123,
          0.15174724963995123,
          0.15174724963995123,
          0.17846913768900954,
          0.20229529453513823,
          0.22064378638314414,
          0.2315262694351105,
          0.2337634577932341,
          0.22711291738535816,
          0.21229533745844292,
          0.1909164327160115,
          0.16529293921479257,
          0.13820156006510992,
          0.11257806656389097,
          0.09119916182145958,
          0.07638158189454432,
          0.06973104148666837,
          0.07196822984479194,
          0.08285071289675831,
          0.10119920474476421,
          0.1250253615908929,
          0.1517472496399512,
          0.15174724963995123,
          0.2044621222908528,
          0.2514645205345032,
          0.28766100520384985,
          0.309129125538641,
          0.3135424775883934,
          0.3004228061783034,
          0.27119183127833113,
          0.22901718258419657,
          0.17846913768900957,
          0.12502536159089292,
          0.07447731669570593,
          0.0323026680015714,
          0.0030716931015990767,
          -0.010047978308490912,
          -0.005634626258738562,
          0.015833494076052612,
          0.05202997874539926,
          0.0990323769890496,
          0.1517472496399512,
          0.15174724963995123,
          0.22901718258419654,
          0.2979137193273894,
          0.3509708510734904,
          0.3824390143315862,
          0.3889081453338003,
          0.3696772133571327,
          0.3268301882799101,
          0.26501021010934456,
          0.19091643271601152,
          0.112578066563891,
          0.038484289170557975,
          -0.023335689000007542,
          -0.0661827140772302,
          -0.08541364605389784,
          -0.07894451505168382,
          -0.04747635179358797,
          0.005580779952512965,
          0.07447731669570586,
          0.15174724963995118,
          0.15174724963995123,
          0.2514645205345032,
          0.34037587785475143,
          0.408846396433193,
          0.449456233152292,
          0.4578046820769932,
          0.43298705922677333,
          0.37769273912254875,
          0.2979137193273895,
          0.20229529453513828,
          0.10119920474476427,
          0.005580779952513021,
          -0.07419823984264617,
          -0.12949255994687076,
          -0.15431018279709074,
          -0.14596173387238953,
          -0.10535189715329057,
          -0.03688137857484905,
          0.052029978745399205,
          0.15174724963995115,
          0.15174724963995123,
          0.27119183127833113,
          0.37769273912254875,
          0.45970894727583156,
          0.5083527269721801,
          0.5183527698954848,
          0.48862541622835226,
          0.42239208600803435,
          0.32683018827991017,
          0.21229533745844295,
          0.0911991618214596,
          -0.023335689000007598,
          -0.11889758672813172,
          -0.18513091694844974,
          -0.21485827061558244,
          -0.20485822769227774,
          -0.1562144479959292,
          -0.07419823984264634,
          0.03230266800157125,
          0.15174724963995115,
          0.15174724963995123,
          0.28766100520384985,
          0.408846396433193,
          0.5021711058031936,
          0.5575219529715452,
          0.5689008147906719,
          0.5350746150212385,
          0.4597089472758316,
          0.35097085107349046,
          0.2206437863831442,
          0.08285071289675838,
          -0.04747635179358792,
          -0.15621444799592898,
          -0.23158011574133602,
          -0.26540631551076943,
          -0.2540274536916427,
          -0.19867660652329122,
          -0.10535189715329063,
          0.01583349407605253,
          0.15174724963995112,
          0.15174724963995123,
          0.3004228061783034,
          0.4329870592267733,
          0.5350746150212384,
          0.5956227028397302,
          0.6080699978667321,
          0.5710676425463865,
          0.48862541622835226,
          0.3696772133571328,
          0.22711291738535822,
          0.07638158189454436,
          -0.0661827140772302,
          -0.18513091694844963,
          -0.26757314326648396,
          -0.3045754985868297,
          -0.29212820355982777,
          -0.23158011574133613,
          -0.12949255994687092,
          0.003071693101598938,
          0.15174724963995112,
          0.15174724963995123,
          0.309129125538641,
          0.449456233152292,
          0.5575219529715452,
          0.6216156874415735,
          0.6347918859157905,
          0.5956227028397303,
          0.5083527269721803,
          0.38243901433158634,
          0.23152626943511057,
          0.07196822984479201,
          -0.07894451505168376,
          -0.20485822769227757,
          -0.29212820355982766,
          -0.33129738663588804,
          -0.31812118816167106,
          -0.25402745369164276,
          -0.14596173387238964,
          -0.005634626258738673,
          0.15174724963995112,
          0.15174724963995123,
          0.3135424775883934,
          0.4578046820769932,
          0.5689008147906719,
          0.6347918859157905,
          0.6483375754906318,
          0.6080699978667322,
          0.518352769895485,
          0.38890814533380036,
          0.23376345779323415,
          0.06973104148666842,
          -0.08541364605389781,
          -0.21485827061558227,
          -0.30457549858682964,
          -0.34484307621072935,
          -0.3312973866358881,
          -0.26540631551076954,
          -0.15431018279709086,
          -0.010047978308491051,
          0.15174724963995112,
          0.15174724963995123,
          0.3135424775883934,
          0.4578046820769932,
          0.5689008147906719,
          0.6347918859157905,
          0.6483375754906318,
          0.6080699978667322,
          0.518352769895485,
          0.38890814533380036,
          0.23376345779323415,
          0.06973104148666842,
          -0.08541364605389781,
          -0.21485827061558227,
          -0.30457549858682964,
          -0.34484307621072935,
          -0.3312973866358881,
          -0.26540631551076954,
          -0.15431018279709086,
          -0.010047978308491051,
          0.15174724963995112,
          0.15174724963995123,
          0.309129125538641,
          0.449456233152292,
          0.5575219529715452,
          0.6216156874415735,
          0.6347918859157905,
          0.5956227028397303,
          0.5083527269721803,
          0.38243901433158634,
          0.23152626943511057,
          0.07196822984479201,
          -0.07894451505168376,
          -0.20485822769227757,
          -0.29212820355982766,
          -0.33129738663588804,
          -0.31812118816167106,
          -0.25402745369164276,
          -0.14596173387238964,
          -0.005634626258738673,
          0.15174724963995112,
          0.15174724963995123,
          0.3004228061783034,
          0.43298705922677333,
          0.5350746150212385,
          0.5956227028397303,
          0.6080699978667322,
          0.5710676425463865,
          0.4886254162283523,
          0.3696772133571328,
          0.22711291738535822,
          0.07638158189454435,
          -0.06618271407723023,
          -0.18513091694844963,
          -0.267573143266484,
          -0.30457549858682975,
          -0.2921282035598278,
          -0.2315801157413362,
          -0.12949255994687092,
          0.00307169310159891,
          0.15174724963995112,
          0.15174724963995123,
          0.28766100520384985,
          0.408846396433193,
          0.5021711058031937,
          0.5575219529715452,
          0.568900814790672,
          0.5350746150212387,
          0.45970894727583167,
          0.35097085107349046,
          0.2206437863831442,
          0.08285071289675837,
          -0.047476351793587945,
          -0.15621444799592904,
          -0.23158011574133608,
          -0.2654063155107695,
          -0.25402745369164276,
          -0.19867660652329122,
          -0.10535189715329063,
          0.0158334940760525,
          0.15174724963995112,
          0.15174724963995123,
          0.27119183127833113,
          0.37769273912254875,
          0.4597089472758316,
          0.5083527269721803,
          0.518352769895485,
          0.4886254162283523,
          0.42239208600803435,
          0.32683018827991017,
          0.21229533745844298,
          0.0911991618214596,
          -0.023335689000007626,
          -0.11889758672813172,
          -0.1851309169484498,
          -0.2148582706155825,
          -0.2048582276922778,
          -0.15621444799592926,
          -0.0741982398426464,
          0.03230266800157122,
          0.15174724963995115,
          0.15174724963995123,
          0.2514645205345032,
          0.3403758778547515,
          0.40884639643319304,
          0.44945623315229205,
          0.45780468207699326,
          0.4329870592267734,
          0.3776927391225488,
          0.2979137193273895,
          0.20229529453513828,
          0.10119920474476427,
          0.005580779952512993,
          -0.0741982398426462,
          -0.1294925599468708,
          -0.1543101827970908,
          -0.1459617338723896,
          -0.10535189715329063,
          -0.03688137857484908,
          0.05202997874539919,
          0.15174724963995115,
          0.15174724963995123,
          0.22901718258419657,
          0.2979137193273895,
          0.35097085107349046,
          0.38243901433158634,
          0.38890814533380036,
          0.3696772133571328,
          0.32683018827991017,
          0.26501021010934456,
          0.19091643271601155,
          0.11257806656389098,
          0.03848428917055795,
          -0.023335689000007598,
          -0.06618271407723028,
          -0.08541364605389792,
          -0.0789445150516839,
          -0.047476351793588056,
          0.00558077995251291,
          0.07447731669570583,
          0.15174724963995118,
          0.15174724963995123,
          0.20446212229085287,
          0.25146452053450324,
          0.2876610052038499,
          0.3091291255386411,
          0.3135424775883935,
          0.3004228061783035,
          0.2711918312783312,
          0.22901718258419662,
          0.1784691376890096,
          0.12502536159089292,
          0.07447731669570588,
          0.03230266800157133,
          0.003071693101599021,
          -0.010047978308490996,
          -0.005634626258738645,
          0.01583349407605253,
          0.052029978745399205,
          0.09903237698904957,
          0.1517472496399512,
          0.15174724963995123,
          0.17846913768900957,
          0.20229529453513828,
          0.2206437863831442,
          0.23152626943511057,
          0.23376345779323415,
          0.22711291738535822,
          0.21229533745844298,
          0.19091643271601155,
          0.16529293921479257,
          0.1382015600651099,
          0.11257806656389094,
          0.09119916182145954,
          0.07638158189454425,
          0.0697310414866683,
          0.07196822984479187,
          0.08285071289675826,
          0.10119920474476418,
          0.12502536159089286,
          0.1517472496399512,
          0.15174724963995123,
          0.15174724963995126,
          0.15174724963995126,
          0.1517472496399513,
          0.1517472496399513,
          0.1517472496399513,
          0.1517472496399513,
          0.1517472496399513,
          0.15174724963995126,
          0.15174724963995123,
          0.15174724963995123,
          0.1517472496399512,
          0.15174724963995118,
          0.15174724963995118,
          0.15174724963995118,
          0.15174724963995118,
          0.15174724963995118,
          0.1517472496399512,
          0.1517472496399512,
          0.15174724963995123
         ],
         "z": [
          0.8076203901034135,
          0.8076203901034135,
          0.8076203901034135,
          0.8076203901034135,
          0.8076203901034135,
          0.8076203901034135,
          0.8076203901034135,
          0.8076203901034135,
          0.8076203901034135,
          0.8076203901034135,
          0.8076203901034135,
          0.8076203901034135,
          0.8076203901034135,
          0.8076203901034135,
          0.8076203901034135,
          0.8076203901034135,
          0.8076203901034135,
          0.8076203901034135,
          0.8076203901034135,
          0.8076203901034135,
          0.8008010418047746,
          0.8008010418047746,
          0.8008010418047746,
          0.8008010418047746,
          0.8008010418047746,
          0.8008010418047746,
          0.8008010418047746,
          0.8008010418047746,
          0.8008010418047746,
          0.8008010418047746,
          0.8008010418047746,
          0.8008010418047746,
          0.8008010418047746,
          0.8008010418047746,
          0.8008010418047746,
          0.8008010418047746,
          0.8008010418047746,
          0.8008010418047746,
          0.8008010418047746,
          0.8008010418047746,
          0.7805290109537308,
          0.7805290109537308,
          0.7805290109537308,
          0.7805290109537308,
          0.7805290109537308,
          0.7805290109537308,
          0.7805290109537308,
          0.7805290109537308,
          0.7805290109537308,
          0.7805290109537308,
          0.7805290109537308,
          0.7805290109537308,
          0.7805290109537308,
          0.7805290109537308,
          0.7805290109537308,
          0.7805290109537308,
          0.7805290109537308,
          0.7805290109537308,
          0.7805290109537308,
          0.7805290109537308,
          0.7473572657066581,
          0.7473572657066581,
          0.7473572657066581,
          0.7473572657066581,
          0.7473572657066581,
          0.7473572657066581,
          0.7473572657066581,
          0.7473572657066581,
          0.7473572657066581,
          0.7473572657066581,
          0.7473572657066581,
          0.7473572657066581,
          0.7473572657066581,
          0.7473572657066581,
          0.7473572657066581,
          0.7473572657066581,
          0.7473572657066581,
          0.7473572657066581,
          0.7473572657066581,
          0.7473572657066581,
          0.7021906448016102,
          0.7021906448016102,
          0.7021906448016102,
          0.7021906448016102,
          0.7021906448016102,
          0.7021906448016102,
          0.7021906448016102,
          0.7021906448016102,
          0.7021906448016102,
          0.7021906448016102,
          0.7021906448016102,
          0.7021906448016102,
          0.7021906448016102,
          0.7021906448016102,
          0.7021906448016102,
          0.7021906448016102,
          0.7021906448016102,
          0.7021906448016102,
          0.7021906448016102,
          0.7021906448016102,
          0.646261175916284,
          0.646261175916284,
          0.646261175916284,
          0.646261175916284,
          0.646261175916284,
          0.646261175916284,
          0.646261175916284,
          0.646261175916284,
          0.646261175916284,
          0.646261175916284,
          0.646261175916284,
          0.646261175916284,
          0.646261175916284,
          0.646261175916284,
          0.646261175916284,
          0.646261175916284,
          0.646261175916284,
          0.646261175916284,
          0.646261175916284,
          0.646261175916284,
          0.5810944691646269,
          0.5810944691646269,
          0.5810944691646269,
          0.5810944691646269,
          0.5810944691646269,
          0.5810944691646269,
          0.5810944691646269,
          0.5810944691646269,
          0.5810944691646269,
          0.5810944691646269,
          0.5810944691646269,
          0.5810944691646269,
          0.5810944691646269,
          0.5810944691646269,
          0.5810944691646269,
          0.5810944691646269,
          0.5810944691646269,
          0.5810944691646269,
          0.5810944691646269,
          0.5810944691646269,
          0.5084681024298983,
          0.5084681024298983,
          0.5084681024298983,
          0.5084681024298983,
          0.5084681024298983,
          0.5084681024298983,
          0.5084681024298983,
          0.5084681024298983,
          0.5084681024298983,
          0.5084681024298983,
          0.5084681024298983,
          0.5084681024298983,
          0.5084681024298983,
          0.5084681024298983,
          0.5084681024298983,
          0.5084681024298983,
          0.5084681024298983,
          0.5084681024298983,
          0.5084681024298983,
          0.5084681024298983,
          0.43036313367381307,
          0.43036313367381307,
          0.43036313367381307,
          0.43036313367381307,
          0.43036313367381307,
          0.43036313367381307,
          0.43036313367381307,
          0.43036313367381307,
          0.43036313367381307,
          0.43036313367381307,
          0.43036313367381307,
          0.43036313367381307,
          0.43036313367381307,
          0.43036313367381307,
          0.43036313367381307,
          0.43036313367381307,
          0.43036313367381307,
          0.43036313367381307,
          0.43036313367381307,
          0.43036313367381307,
          0.34891006283957965,
          0.34891006283957965,
          0.34891006283957965,
          0.34891006283957965,
          0.34891006283957965,
          0.34891006283957965,
          0.34891006283957965,
          0.34891006283957965,
          0.34891006283957965,
          0.34891006283957965,
          0.34891006283957965,
          0.34891006283957965,
          0.34891006283957965,
          0.34891006283957965,
          0.34891006283957965,
          0.34891006283957965,
          0.34891006283957965,
          0.34891006283957965,
          0.34891006283957965,
          0.34891006283957965,
          0.26633071736724734,
          0.26633071736724734,
          0.26633071736724734,
          0.26633071736724734,
          0.26633071736724734,
          0.26633071736724734,
          0.26633071736724734,
          0.26633071736724734,
          0.26633071736724734,
          0.26633071736724734,
          0.26633071736724734,
          0.26633071736724734,
          0.26633071736724734,
          0.26633071736724734,
          0.26633071736724734,
          0.26633071736724734,
          0.26633071736724734,
          0.26633071736724734,
          0.26633071736724734,
          0.26633071736724734,
          0.18487764653301392,
          0.18487764653301392,
          0.18487764653301392,
          0.18487764653301392,
          0.18487764653301392,
          0.18487764653301392,
          0.18487764653301392,
          0.18487764653301392,
          0.18487764653301392,
          0.18487764653301392,
          0.18487764653301392,
          0.18487764653301392,
          0.18487764653301392,
          0.18487764653301392,
          0.18487764653301392,
          0.18487764653301392,
          0.18487764653301392,
          0.18487764653301392,
          0.18487764653301392,
          0.18487764653301392,
          0.10677267777692884,
          0.10677267777692884,
          0.10677267777692884,
          0.10677267777692884,
          0.10677267777692884,
          0.10677267777692884,
          0.10677267777692884,
          0.10677267777692884,
          0.10677267777692884,
          0.10677267777692884,
          0.10677267777692884,
          0.10677267777692884,
          0.10677267777692884,
          0.10677267777692884,
          0.10677267777692884,
          0.10677267777692884,
          0.10677267777692884,
          0.10677267777692884,
          0.10677267777692884,
          0.10677267777692884,
          0.03414631104220012,
          0.03414631104220012,
          0.03414631104220012,
          0.03414631104220012,
          0.03414631104220012,
          0.03414631104220012,
          0.03414631104220012,
          0.03414631104220012,
          0.03414631104220012,
          0.03414631104220012,
          0.03414631104220012,
          0.03414631104220012,
          0.03414631104220012,
          0.03414631104220012,
          0.03414631104220012,
          0.03414631104220012,
          0.03414631104220012,
          0.03414631104220012,
          0.03414631104220012,
          0.03414631104220012,
          -0.03102039570945697,
          -0.03102039570945697,
          -0.03102039570945697,
          -0.03102039570945697,
          -0.03102039570945697,
          -0.03102039570945697,
          -0.03102039570945697,
          -0.03102039570945697,
          -0.03102039570945697,
          -0.03102039570945697,
          -0.03102039570945697,
          -0.03102039570945697,
          -0.03102039570945697,
          -0.03102039570945697,
          -0.03102039570945697,
          -0.03102039570945697,
          -0.03102039570945697,
          -0.03102039570945697,
          -0.03102039570945697,
          -0.03102039570945697,
          -0.08694986459478327,
          -0.08694986459478327,
          -0.08694986459478327,
          -0.08694986459478327,
          -0.08694986459478327,
          -0.08694986459478327,
          -0.08694986459478327,
          -0.08694986459478327,
          -0.08694986459478327,
          -0.08694986459478327,
          -0.08694986459478327,
          -0.08694986459478327,
          -0.08694986459478327,
          -0.08694986459478327,
          -0.08694986459478327,
          -0.08694986459478327,
          -0.08694986459478327,
          -0.08694986459478327,
          -0.08694986459478327,
          -0.08694986459478327,
          -0.13211648549983102,
          -0.13211648549983102,
          -0.13211648549983102,
          -0.13211648549983102,
          -0.13211648549983102,
          -0.13211648549983102,
          -0.13211648549983102,
          -0.13211648549983102,
          -0.13211648549983102,
          -0.13211648549983102,
          -0.13211648549983102,
          -0.13211648549983102,
          -0.13211648549983102,
          -0.13211648549983102,
          -0.13211648549983102,
          -0.13211648549983102,
          -0.13211648549983102,
          -0.13211648549983102,
          -0.13211648549983102,
          -0.13211648549983102,
          -0.16528823074690385,
          -0.16528823074690385,
          -0.16528823074690385,
          -0.16528823074690385,
          -0.16528823074690385,
          -0.16528823074690385,
          -0.16528823074690385,
          -0.16528823074690385,
          -0.16528823074690385,
          -0.16528823074690385,
          -0.16528823074690385,
          -0.16528823074690385,
          -0.16528823074690385,
          -0.16528823074690385,
          -0.16528823074690385,
          -0.16528823074690385,
          -0.16528823074690385,
          -0.16528823074690385,
          -0.16528823074690385,
          -0.16528823074690385,
          -0.1855602615979477,
          -0.1855602615979477,
          -0.1855602615979477,
          -0.1855602615979477,
          -0.1855602615979477,
          -0.1855602615979477,
          -0.1855602615979477,
          -0.1855602615979477,
          -0.1855602615979477,
          -0.1855602615979477,
          -0.1855602615979477,
          -0.1855602615979477,
          -0.1855602615979477,
          -0.1855602615979477,
          -0.1855602615979477,
          -0.1855602615979477,
          -0.1855602615979477,
          -0.1855602615979477,
          -0.1855602615979477,
          -0.1855602615979477,
          -0.19237960989658653,
          -0.19237960989658653,
          -0.19237960989658653,
          -0.19237960989658653,
          -0.19237960989658653,
          -0.19237960989658653,
          -0.19237960989658653,
          -0.19237960989658653,
          -0.19237960989658653,
          -0.19237960989658653,
          -0.19237960989658653,
          -0.19237960989658653,
          -0.19237960989658653,
          -0.19237960989658653,
          -0.19237960989658653,
          -0.19237960989658653,
          -0.19237960989658653,
          -0.19237960989658653,
          -0.19237960989658653,
          -0.19237960989658653
         ]
        },
        {
         "alphahull": 0,
         "color": "#EF553B",
         "opacity": 0.2,
         "type": "mesh3d",
         "x": [
          -0.1645364478463307,
          -0.1645364478463307,
          -0.1645364478463307,
          -0.1645364478463307,
          -0.1645364478463307,
          -0.1645364478463307,
          -0.1645364478463307,
          -0.1645364478463307,
          -0.1645364478463307,
          -0.1645364478463307,
          -0.1645364478463307,
          -0.1645364478463307,
          -0.1645364478463307,
          -0.1645364478463307,
          -0.1645364478463307,
          -0.1645364478463307,
          -0.1645364478463307,
          -0.1645364478463307,
          -0.1645364478463307,
          -0.1645364478463307,
          -0.08223915270596376,
          -0.08669824715724579,
          -0.09959231843731618,
          -0.11952409385084925,
          -0.1443336562584276,
          -0.17133250461316554,
          -0.19759489476553116,
          -0.22027488923954588,
          -0.23691475871757678,
          -0.24571131514750155,
          -0.24571131514750158,
          -0.23691475871757678,
          -0.2202748892395459,
          -0.1975948947655312,
          -0.1713325046131656,
          -0.14433365625842762,
          -0.11952409385084928,
          -0.0995923184373162,
          -0.08669824715724579,
          -0.08223915270596376,
          -0.0021867132439889747,
          -0.010983269673913776,
          -0.03641969558186944,
          -0.07573955953391505,
          -0.12468194416029538,
          -0.17794318266739895,
          -0.22975159342971524,
          -0.27449293125082663,
          -0.3073187779444301,
          -0.32467194367578256,
          -0.32467194367578256,
          -0.30731877794443013,
          -0.27449293125082674,
          -0.22975159342971532,
          -0.177943182667399,
          -0.12468194416029545,
          -0.0757395595339151,
          -0.03641969558186947,
          -0.010983269673913776,
          -0.0021867132439889747,
          0.07343724867220605,
          0.06054317739213566,
          0.023258236247250152,
          -0.03437717285393163,
          -0.10611735902978099,
          -0.18418815994446291,
          -0.2601293929255811,
          -0.32571164702999233,
          -0.37382806741196284,
          -0.39926449331991853,
          -0.39926449331991853,
          -0.37382806741196284,
          -0.3257116470299925,
          -0.2601293929255813,
          -0.18418815994446303,
          -0.10611735902978109,
          -0.034377172853931715,
          0.023258236247250097,
          0.06054317739213566,
          0.07343724867220605,
          0.1425699084985032,
          0.12593003902047228,
          0.07781361863850189,
          0.0034348081041659095,
          -0.08914629435498327,
          -0.18989708974367991,
          -0.2878996660718949,
          -0.37253392352781467,
          -0.4346284270802785,
          -0.467454273773882,
          -0.467454273773882,
          -0.43462842708027855,
          -0.3725339235278148,
          -0.28789966607189504,
          -0.18989708974368008,
          -0.0891462943549834,
          0.0034348081041657985,
          0.07781361863850184,
          0.12593003902047228,
          0.1425699084985032,
          0.2033255074902351,
          0.183393732076702,
          0.1257583229755202,
          0.036664971068318425,
          -0.07423167653996691,
          -0.19491424734219664,
          -0.3123049122089241,
          -0.4136825710979981,
          -0.48806138163233415,
          -0.5273812455843798,
          -0.5273812455843798,
          -0.48806138163233415,
          -0.4136825710979983,
          -0.3123049122089243,
          -0.1949142473421968,
          -0.07423167653996708,
          0.036664971068318314,
          0.12575832297552014,
          0.183393732076702,
          0.2033255074902351,
          0.25404679128493357,
          0.23136679681091882,
          0.1657845427065076,
          0.06440688381743367,
          -0.06178033747921864,
          -0.19910277775947924,
          -0.3326794198417793,
          -0.4480351619013467,
          -0.5326694193572665,
          -0.577410757178378,
          -0.577410757178378,
          -0.5326694193572665,
          -0.4480351619013469,
          -0.3326794198417795,
          -0.19910277775947943,
          -0.06178033747921882,
          0.06440688381743354,
          0.1657845427065075,
          0.23136679681091882,
          0.25404679128493357,
          0.293350215481198,
          0.26854065307361963,
          0.19680046689777025,
          0.08590381928948493,
          -0.05213191724409719,
          -0.2023484288044282,
          -0.3484674255146135,
          -0.47465464681126585,
          -0.567235749270415,
          -0.6161781338967954,
          -0.6161781338967954,
          -0.5672357492704151,
          -0.47465464681126607,
          -0.3484674255146138,
          -0.2023484288044284,
          -0.052131917244097395,
          0.08590381928948476,
          0.19680046689777014,
          0.26854065307361963,
          0.293350215481198,
          0.3201636851233345,
          0.29390129497096884,
          0.21796006198985057,
          0.10056939712312307,
          -0.045549599587062284,
          -0.20456266757731806,
          -0.359238273588931,
          -0.49281491567123115,
          -0.5908174919994462,
          -0.6426259027617625,
          -0.6426259027617625,
          -0.5908174919994462,
          -0.49281491567123137,
          -0.35923827358893134,
          -0.2045626675773183,
          -0.04554959958706249,
          0.1005693971231229,
          0.21796006198985046,
          0.29390129497096884,
          0.3201636851233345,
          0.3337557986570042,
          0.30675695030226624,
          0.22868614938758436,
          0.10800357858535464,
          -0.04221293297497632,
          -0.20568509541651414,
          -0.36469816340676986,
          -0.5020206036870305,
          -0.6027713990757271,
          -0.6560326375828307,
          -0.6560326375828308,
          -0.6027713990757272,
          -0.5020206036870307,
          -0.3646981634067702,
          -0.2056850954165144,
          -0.04221293297497654,
          0.10800357858535448,
          0.22868614938758425,
          0.30675695030226624,
          0.3337557986570042,
          0.3337557986570042,
          0.30675695030226624,
          0.22868614938758436,
          0.10800357858535464,
          -0.04221293297497632,
          -0.20568509541651414,
          -0.36469816340676986,
          -0.5020206036870305,
          -0.6027713990757271,
          -0.6560326375828307,
          -0.6560326375828308,
          -0.6027713990757272,
          -0.5020206036870307,
          -0.3646981634067702,
          -0.2056850954165144,
          -0.04221293297497654,
          0.10800357858535448,
          0.22868614938758425,
          0.30675695030226624,
          0.3337557986570042,
          0.3201636851233345,
          0.29390129497096884,
          0.21796006198985057,
          0.10056939712312307,
          -0.045549599587062284,
          -0.20456266757731806,
          -0.359238273588931,
          -0.49281491567123115,
          -0.5908174919994462,
          -0.6426259027617625,
          -0.6426259027617625,
          -0.5908174919994462,
          -0.49281491567123137,
          -0.35923827358893134,
          -0.2045626675773183,
          -0.04554959958706249,
          0.1005693971231229,
          0.21796006198985046,
          0.29390129497096884,
          0.3201636851233345,
          0.29335021548119805,
          0.2685406530736197,
          0.1968004668977703,
          0.08590381928948493,
          -0.05213191724409717,
          -0.2023484288044282,
          -0.3484674255146135,
          -0.47465464681126585,
          -0.5672357492704151,
          -0.6161781338967954,
          -0.6161781338967955,
          -0.5672357492704152,
          -0.4746546468112661,
          -0.34846742551461385,
          -0.2023484288044284,
          -0.05213191724409738,
          0.08590381928948482,
          0.1968004668977702,
          0.2685406530736197,
          0.29335021548119805,
          0.2540467912849336,
          0.23136679681091887,
          0.16578454270650766,
          0.0644068838174337,
          -0.06178033747921863,
          -0.19910277775947927,
          -0.3326794198417793,
          -0.44803516190134673,
          -0.5326694193572665,
          -0.577410757178378,
          -0.577410757178378,
          -0.5326694193572665,
          -0.44803516190134696,
          -0.33267941984177957,
          -0.19910277775947943,
          -0.06178033747921881,
          0.06440688381743356,
          0.16578454270650755,
          0.23136679681091887,
          0.2540467912849336,
          0.20332550749023515,
          0.18339373207670207,
          0.12575832297552025,
          0.03666497106831845,
          -0.0742316765399669,
          -0.19491424734219664,
          -0.3123049122089241,
          -0.4136825710979981,
          -0.48806138163233415,
          -0.5273812455843798,
          -0.5273812455843798,
          -0.4880613816323342,
          -0.41368257109799833,
          -0.31230491220892437,
          -0.1949142473421968,
          -0.07423167653996707,
          0.03666497106831834,
          0.1257583229755202,
          0.18339373207670207,
          0.20332550749023515,
          0.14256990849850326,
          0.12593003902047234,
          0.07781361863850195,
          0.0034348081041659373,
          -0.08914629435498325,
          -0.18989708974367991,
          -0.2878996660718949,
          -0.37253392352781467,
          -0.43462842708027855,
          -0.46745427377388205,
          -0.46745427377388205,
          -0.4346284270802786,
          -0.37253392352781484,
          -0.2878996660718951,
          -0.18989708974368008,
          -0.08914629435498339,
          0.0034348081041658263,
          0.07781361863850186,
          0.12593003902047234,
          0.14256990849850326,
          0.07343724867220613,
          0.060543177392135716,
          0.023258236247250236,
          -0.034377172853931576,
          -0.10611735902978098,
          -0.18418815994446291,
          -0.2601293929255812,
          -0.32571164702999245,
          -0.37382806741196284,
          -0.3992644933199186,
          -0.39926449331991865,
          -0.3738280674119629,
          -0.32571164702999256,
          -0.26012939292558135,
          -0.18418815994446303,
          -0.10611735902978107,
          -0.03437717285393166,
          0.02325823624725018,
          0.060543177392135716,
          0.07343724867220613,
          -0.0021867132439888914,
          -0.010983269673913693,
          -0.03641969558186939,
          -0.07573955953391501,
          -0.12468194416029535,
          -0.17794318266739895,
          -0.22975159342971524,
          -0.2744929312508267,
          -0.3073187779444302,
          -0.3246719436757826,
          -0.32467194367578267,
          -0.3073187779444302,
          -0.2744929312508268,
          -0.22975159342971535,
          -0.17794318266739903,
          -0.12468194416029543,
          -0.07573955953391506,
          -0.036419695581869416,
          -0.010983269673913693,
          -0.0021867132439888914,
          -0.08223915270596369,
          -0.08669824715724572,
          -0.09959231843731613,
          -0.11952409385084921,
          -0.1443336562584276,
          -0.17133250461316557,
          -0.19759489476553116,
          -0.2202748892395459,
          -0.23691475871757683,
          -0.24571131514750164,
          -0.24571131514750166,
          -0.23691475871757683,
          -0.22027488923954597,
          -0.19759489476553121,
          -0.1713325046131656,
          -0.14433365625842762,
          -0.11952409385084924,
          -0.09959231843731615,
          -0.08669824715724572,
          -0.08223915270596369,
          -0.16453644784633065,
          -0.16453644784633065,
          -0.16453644784633065,
          -0.16453644784633067,
          -0.16453644784633067,
          -0.1645364478463307,
          -0.16453644784633073,
          -0.16453644784633073,
          -0.16453644784633076,
          -0.16453644784633076,
          -0.16453644784633076,
          -0.16453644784633076,
          -0.16453644784633073,
          -0.16453644784633073,
          -0.1645364478463307,
          -0.16453644784633067,
          -0.16453644784633067,
          -0.16453644784633065,
          -0.16453644784633065,
          -0.16453644784633065
         ],
         "y": [
          0.42556539981160313,
          0.42556539981160313,
          0.42556539981160313,
          0.42556539981160313,
          0.42556539981160313,
          0.42556539981160313,
          0.42556539981160313,
          0.42556539981160313,
          0.42556539981160313,
          0.42556539981160313,
          0.42556539981160313,
          0.42556539981160313,
          0.42556539981160313,
          0.42556539981160313,
          0.42556539981160313,
          0.42556539981160313,
          0.42556539981160313,
          0.42556539981160313,
          0.42556539981160313,
          0.42556539981160313,
          0.42556539981160313,
          0.45228728786066147,
          0.4761134447067901,
          0.49446193655479603,
          0.5053444196067625,
          0.507581607964886,
          0.5009310675570101,
          0.4861134876300948,
          0.4647345828876634,
          0.4391110893864445,
          0.4120197102367618,
          0.38639621673554286,
          0.3650173119931115,
          0.3501997320661962,
          0.34354919165832026,
          0.34578638001644385,
          0.3566688630684102,
          0.37501735491641613,
          0.3988435117625448,
          0.42556539981160313,
          0.42556539981160313,
          0.4782802724625047,
          0.5252826707061551,
          0.5614791553755017,
          0.5829472757102929,
          0.5873606277600453,
          0.5742409563499553,
          0.545009981449983,
          0.5028353327558485,
          0.45228728786066147,
          0.39884351176254484,
          0.3482954668673578,
          0.3061208181732233,
          0.27688984327325095,
          0.263770171863161,
          0.26818352391291334,
          0.2896516442477045,
          0.32584812891705117,
          0.3728505271607015,
          0.4255653998116031,
          0.42556539981160313,
          0.5028353327558485,
          0.5717318694990413,
          0.6247890012451423,
          0.6562571645032381,
          0.6627262955054523,
          0.6434953635287846,
          0.600648338451562,
          0.5388283602809965,
          0.46473458288766345,
          0.3863962167355429,
          0.31230243934220986,
          0.25048246117164435,
          0.2076354360944217,
          0.18840450411775406,
          0.19487363511996808,
          0.22634179837806392,
          0.27939893012416483,
          0.34829546686735774,
          0.4255653998116031,
          0.42556539981160313,
          0.5252826707061551,
          0.6141940280264033,
          0.6826645466048449,
          0.7232743833239439,
          0.7316228322486451,
          0.7068052093984252,
          0.6515108892942006,
          0.5717318694990414,
          0.4761134447067902,
          0.3750173549164162,
          0.27939893012416495,
          0.19961991032900572,
          0.14432559022478114,
          0.11950796737456115,
          0.12785641629926237,
          0.16846625301836132,
          0.23693677159680285,
          0.3258481289170511,
          0.4255653998116031,
          0.42556539981160313,
          0.545009981449983,
          0.6515108892942006,
          0.7335270974474835,
          0.782170877143832,
          0.7921709200671367,
          0.7624435664000042,
          0.6962102361796862,
          0.6006483384515621,
          0.4861134876300949,
          0.3650173119931115,
          0.2504824611716443,
          0.15492056344352018,
          0.08868723322320216,
          0.05895987955606946,
          0.06895992247937416,
          0.11760370217572269,
          0.19961991032900556,
          0.3061208181732231,
          0.425565399811603,
          0.42556539981160313,
          0.5614791553755017,
          0.6826645466048449,
          0.7759892559748455,
          0.8313401031431971,
          0.8427189649623238,
          0.8088927651928904,
          0.7335270974474835,
          0.6247890012451424,
          0.4944619365547961,
          0.3566688630684103,
          0.22634179837806398,
          0.11760370217572291,
          0.042238034430315874,
          0.008411834660882467,
          0.019790696480009196,
          0.07514154364836068,
          0.16846625301836127,
          0.2896516442477044,
          0.425565399811603,
          0.42556539981160313,
          0.5742409563499553,
          0.7068052093984252,
          0.8088927651928903,
          0.8694408530113821,
          0.881888148038384,
          0.8448857927180384,
          0.7624435664000042,
          0.6434953635287847,
          0.5009310675570101,
          0.35019973206619626,
          0.2076354360944217,
          0.08868723322320227,
          0.006245006905167938,
          -0.0307573484151778,
          -0.018310053388175873,
          0.04223803443031576,
          0.14432559022478098,
          0.27688984327325084,
          0.425565399811603,
          0.42556539981160313,
          0.5829472757102929,
          0.7232743833239439,
          0.8313401031431971,
          0.8954338376132254,
          0.9086100360874424,
          0.8694408530113822,
          0.7821708771438322,
          0.6562571645032382,
          0.5053444196067625,
          0.3457863800164439,
          0.19487363511996814,
          0.06895992247937432,
          -0.018310053388175762,
          -0.05747923646423614,
          -0.04430303799001917,
          0.01979069648000914,
          0.12785641629926225,
          0.2681835239129132,
          0.425565399811603,
          0.42556539981160313,
          0.5873606277600453,
          0.7316228322486451,
          0.8427189649623238,
          0.9086100360874424,
          0.9221557256622837,
          0.8818881480383841,
          0.7921709200671369,
          0.6627262955054523,
          0.507581607964886,
          0.3435491916583203,
          0.18840450411775408,
          0.05895987955606963,
          -0.030757348415177743,
          -0.07102492603907745,
          -0.057479236464236194,
          0.008411834660882356,
          0.11950796737456104,
          0.2637701718631609,
          0.425565399811603,
          0.42556539981160313,
          0.5873606277600453,
          0.7316228322486451,
          0.8427189649623238,
          0.9086100360874424,
          0.9221557256622837,
          0.8818881480383841,
          0.7921709200671369,
          0.6627262955054523,
          0.507581607964886,
          0.3435491916583203,
          0.18840450411775408,
          0.05895987955606963,
          -0.030757348415177743,
          -0.07102492603907745,
          -0.057479236464236194,
          0.008411834660882356,
          0.11950796737456104,
          0.2637701718631609,
          0.425565399811603,
          0.42556539981160313,
          0.5829472757102929,
          0.7232743833239439,
          0.8313401031431971,
          0.8954338376132254,
          0.9086100360874424,
          0.8694408530113822,
          0.7821708771438322,
          0.6562571645032382,
          0.5053444196067625,
          0.3457863800164439,
          0.19487363511996814,
          0.06895992247937432,
          -0.018310053388175762,
          -0.05747923646423614,
          -0.04430303799001917,
          0.01979069648000914,
          0.12785641629926225,
          0.2681835239129132,
          0.425565399811603,
          0.42556539981160313,
          0.5742409563499553,
          0.7068052093984252,
          0.8088927651928904,
          0.8694408530113822,
          0.8818881480383841,
          0.8448857927180384,
          0.7624435664000042,
          0.6434953635287847,
          0.5009310675570101,
          0.35019973206619626,
          0.20763543609442167,
          0.08868723322320227,
          0.0062450069051678825,
          -0.030757348415177854,
          -0.01831005338817593,
          0.04223803443031571,
          0.14432559022478098,
          0.27688984327325084,
          0.425565399811603,
          0.42556539981160313,
          0.5614791553755017,
          0.6826645466048449,
          0.7759892559748456,
          0.8313401031431971,
          0.8427189649623239,
          0.8088927651928906,
          0.7335270974474836,
          0.6247890012451424,
          0.4944619365547961,
          0.3566688630684103,
          0.22634179837806395,
          0.11760370217572286,
          0.04223803443031582,
          0.008411834660882411,
          0.01979069648000914,
          0.07514154364836068,
          0.16846625301836127,
          0.2896516442477044,
          0.425565399811603,
          0.42556539981160313,
          0.545009981449983,
          0.6515108892942006,
          0.7335270974474835,
          0.7821708771438322,
          0.7921709200671369,
          0.7624435664000042,
          0.6962102361796862,
          0.6006483384515621,
          0.4861134876300949,
          0.3650173119931115,
          0.2504824611716443,
          0.15492056344352018,
          0.0886872332232021,
          0.058959879556069406,
          0.0689599224793741,
          0.11760370217572264,
          0.1996199103290055,
          0.3061208181732231,
          0.425565399811603,
          0.42556539981160313,
          0.5252826707061551,
          0.6141940280264033,
          0.6826645466048449,
          0.7232743833239439,
          0.7316228322486451,
          0.7068052093984253,
          0.6515108892942008,
          0.5717318694990414,
          0.4761134447067902,
          0.37501735491641613,
          0.2793989301241649,
          0.1996199103290057,
          0.1443255902247811,
          0.1195079673745611,
          0.1278564162992623,
          0.16846625301836127,
          0.23693677159680282,
          0.32584812891705106,
          0.4255653998116031,
          0.42556539981160313,
          0.5028353327558485,
          0.5717318694990414,
          0.6247890012451424,
          0.6562571645032382,
          0.6627262955054523,
          0.6434953635287847,
          0.6006483384515621,
          0.5388283602809965,
          0.46473458288766345,
          0.38639621673554286,
          0.31230243934220986,
          0.2504824611716443,
          0.20763543609442162,
          0.18840450411775397,
          0.194873635119968,
          0.22634179837806384,
          0.27939893012416483,
          0.34829546686735774,
          0.4255653998116031,
          0.42556539981160313,
          0.47828027246250476,
          0.5252826707061551,
          0.5614791553755019,
          0.5829472757102929,
          0.5873606277600454,
          0.5742409563499554,
          0.5450099814499831,
          0.5028353327558485,
          0.45228728786066147,
          0.3988435117625448,
          0.3482954668673578,
          0.30612081817322323,
          0.27688984327325095,
          0.2637701718631609,
          0.2681835239129132,
          0.2896516442477044,
          0.3258481289170511,
          0.37285052716070144,
          0.4255653998116031,
          0.42556539981160313,
          0.45228728786066147,
          0.4761134447067902,
          0.4944619365547961,
          0.5053444196067625,
          0.507581607964886,
          0.5009310675570101,
          0.4861134876300949,
          0.46473458288766345,
          0.4391110893864445,
          0.4120197102367618,
          0.3863962167355428,
          0.36501731199311144,
          0.35019973206619615,
          0.3435491916583202,
          0.3457863800164438,
          0.35666886306841017,
          0.3750173549164161,
          0.39884351176254473,
          0.42556539981160313,
          0.42556539981160313,
          0.42556539981160313,
          0.4255653998116032,
          0.4255653998116032,
          0.4255653998116032,
          0.4255653998116032,
          0.4255653998116032,
          0.4255653998116032,
          0.4255653998116032,
          0.42556539981160313,
          0.42556539981160313,
          0.4255653998116031,
          0.4255653998116031,
          0.4255653998116031,
          0.4255653998116031,
          0.4255653998116031,
          0.4255653998116031,
          0.4255653998116031,
          0.42556539981160313,
          0.42556539981160313
         ],
         "z": [
          0.5119685446843505,
          0.5119685446843505,
          0.5119685446843505,
          0.5119685446843505,
          0.5119685446843505,
          0.5119685446843505,
          0.5119685446843505,
          0.5119685446843505,
          0.5119685446843505,
          0.5119685446843505,
          0.5119685446843505,
          0.5119685446843505,
          0.5119685446843505,
          0.5119685446843505,
          0.5119685446843505,
          0.5119685446843505,
          0.5119685446843505,
          0.5119685446843505,
          0.5119685446843505,
          0.5119685446843505,
          0.5051491963857117,
          0.5051491963857117,
          0.5051491963857117,
          0.5051491963857117,
          0.5051491963857117,
          0.5051491963857117,
          0.5051491963857117,
          0.5051491963857117,
          0.5051491963857117,
          0.5051491963857117,
          0.5051491963857117,
          0.5051491963857117,
          0.5051491963857117,
          0.5051491963857117,
          0.5051491963857117,
          0.5051491963857117,
          0.5051491963857117,
          0.5051491963857117,
          0.5051491963857117,
          0.5051491963857117,
          0.4848771655346678,
          0.4848771655346678,
          0.4848771655346678,
          0.4848771655346678,
          0.4848771655346678,
          0.4848771655346678,
          0.4848771655346678,
          0.4848771655346678,
          0.4848771655346678,
          0.4848771655346678,
          0.4848771655346678,
          0.4848771655346678,
          0.4848771655346678,
          0.4848771655346678,
          0.4848771655346678,
          0.4848771655346678,
          0.4848771655346678,
          0.4848771655346678,
          0.4848771655346678,
          0.4848771655346678,
          0.451705420287595,
          0.451705420287595,
          0.451705420287595,
          0.451705420287595,
          0.451705420287595,
          0.451705420287595,
          0.451705420287595,
          0.451705420287595,
          0.451705420287595,
          0.451705420287595,
          0.451705420287595,
          0.451705420287595,
          0.451705420287595,
          0.451705420287595,
          0.451705420287595,
          0.451705420287595,
          0.451705420287595,
          0.451705420287595,
          0.451705420287595,
          0.451705420287595,
          0.4065387993825473,
          0.4065387993825473,
          0.4065387993825473,
          0.4065387993825473,
          0.4065387993825473,
          0.4065387993825473,
          0.4065387993825473,
          0.4065387993825473,
          0.4065387993825473,
          0.4065387993825473,
          0.4065387993825473,
          0.4065387993825473,
          0.4065387993825473,
          0.4065387993825473,
          0.4065387993825473,
          0.4065387993825473,
          0.4065387993825473,
          0.4065387993825473,
          0.4065387993825473,
          0.4065387993825473,
          0.35060933049722104,
          0.35060933049722104,
          0.35060933049722104,
          0.35060933049722104,
          0.35060933049722104,
          0.35060933049722104,
          0.35060933049722104,
          0.35060933049722104,
          0.35060933049722104,
          0.35060933049722104,
          0.35060933049722104,
          0.35060933049722104,
          0.35060933049722104,
          0.35060933049722104,
          0.35060933049722104,
          0.35060933049722104,
          0.35060933049722104,
          0.35060933049722104,
          0.35060933049722104,
          0.35060933049722104,
          0.28544262374556395,
          0.28544262374556395,
          0.28544262374556395,
          0.28544262374556395,
          0.28544262374556395,
          0.28544262374556395,
          0.28544262374556395,
          0.28544262374556395,
          0.28544262374556395,
          0.28544262374556395,
          0.28544262374556395,
          0.28544262374556395,
          0.28544262374556395,
          0.28544262374556395,
          0.28544262374556395,
          0.28544262374556395,
          0.28544262374556395,
          0.28544262374556395,
          0.28544262374556395,
          0.28544262374556395,
          0.21281625701083526,
          0.21281625701083526,
          0.21281625701083526,
          0.21281625701083526,
          0.21281625701083526,
          0.21281625701083526,
          0.21281625701083526,
          0.21281625701083526,
          0.21281625701083526,
          0.21281625701083526,
          0.21281625701083526,
          0.21281625701083526,
          0.21281625701083526,
          0.21281625701083526,
          0.21281625701083526,
          0.21281625701083526,
          0.21281625701083526,
          0.21281625701083526,
          0.21281625701083526,
          0.21281625701083526,
          0.1347112882547501,
          0.1347112882547501,
          0.1347112882547501,
          0.1347112882547501,
          0.1347112882547501,
          0.1347112882547501,
          0.1347112882547501,
          0.1347112882547501,
          0.1347112882547501,
          0.1347112882547501,
          0.1347112882547501,
          0.1347112882547501,
          0.1347112882547501,
          0.1347112882547501,
          0.1347112882547501,
          0.1347112882547501,
          0.1347112882547501,
          0.1347112882547501,
          0.1347112882547501,
          0.1347112882547501,
          0.05325821742051669,
          0.05325821742051669,
          0.05325821742051669,
          0.05325821742051669,
          0.05325821742051669,
          0.05325821742051669,
          0.05325821742051669,
          0.05325821742051669,
          0.05325821742051669,
          0.05325821742051669,
          0.05325821742051669,
          0.05325821742051669,
          0.05325821742051669,
          0.05325821742051669,
          0.05325821742051669,
          0.05325821742051669,
          0.05325821742051669,
          0.05325821742051669,
          0.05325821742051669,
          0.05325821742051669,
          -0.029321128051815644,
          -0.029321128051815644,
          -0.029321128051815644,
          -0.029321128051815644,
          -0.029321128051815644,
          -0.029321128051815644,
          -0.029321128051815644,
          -0.029321128051815644,
          -0.029321128051815644,
          -0.029321128051815644,
          -0.029321128051815644,
          -0.029321128051815644,
          -0.029321128051815644,
          -0.029321128051815644,
          -0.029321128051815644,
          -0.029321128051815644,
          -0.029321128051815644,
          -0.029321128051815644,
          -0.029321128051815644,
          -0.029321128051815644,
          -0.11077419888604907,
          -0.11077419888604907,
          -0.11077419888604907,
          -0.11077419888604907,
          -0.11077419888604907,
          -0.11077419888604907,
          -0.11077419888604907,
          -0.11077419888604907,
          -0.11077419888604907,
          -0.11077419888604907,
          -0.11077419888604907,
          -0.11077419888604907,
          -0.11077419888604907,
          -0.11077419888604907,
          -0.11077419888604907,
          -0.11077419888604907,
          -0.11077419888604907,
          -0.11077419888604907,
          -0.11077419888604907,
          -0.11077419888604907,
          -0.18887916764213414,
          -0.18887916764213414,
          -0.18887916764213414,
          -0.18887916764213414,
          -0.18887916764213414,
          -0.18887916764213414,
          -0.18887916764213414,
          -0.18887916764213414,
          -0.18887916764213414,
          -0.18887916764213414,
          -0.18887916764213414,
          -0.18887916764213414,
          -0.18887916764213414,
          -0.18887916764213414,
          -0.18887916764213414,
          -0.18887916764213414,
          -0.18887916764213414,
          -0.18887916764213414,
          -0.18887916764213414,
          -0.18887916764213414,
          -0.26150553437686286,
          -0.26150553437686286,
          -0.26150553437686286,
          -0.26150553437686286,
          -0.26150553437686286,
          -0.26150553437686286,
          -0.26150553437686286,
          -0.26150553437686286,
          -0.26150553437686286,
          -0.26150553437686286,
          -0.26150553437686286,
          -0.26150553437686286,
          -0.26150553437686286,
          -0.26150553437686286,
          -0.26150553437686286,
          -0.26150553437686286,
          -0.26150553437686286,
          -0.26150553437686286,
          -0.26150553437686286,
          -0.26150553437686286,
          -0.32667224112851995,
          -0.32667224112851995,
          -0.32667224112851995,
          -0.32667224112851995,
          -0.32667224112851995,
          -0.32667224112851995,
          -0.32667224112851995,
          -0.32667224112851995,
          -0.32667224112851995,
          -0.32667224112851995,
          -0.32667224112851995,
          -0.32667224112851995,
          -0.32667224112851995,
          -0.32667224112851995,
          -0.32667224112851995,
          -0.32667224112851995,
          -0.32667224112851995,
          -0.32667224112851995,
          -0.32667224112851995,
          -0.32667224112851995,
          -0.38260171001384624,
          -0.38260171001384624,
          -0.38260171001384624,
          -0.38260171001384624,
          -0.38260171001384624,
          -0.38260171001384624,
          -0.38260171001384624,
          -0.38260171001384624,
          -0.38260171001384624,
          -0.38260171001384624,
          -0.38260171001384624,
          -0.38260171001384624,
          -0.38260171001384624,
          -0.38260171001384624,
          -0.38260171001384624,
          -0.38260171001384624,
          -0.38260171001384624,
          -0.38260171001384624,
          -0.38260171001384624,
          -0.38260171001384624,
          -0.427768330918894,
          -0.427768330918894,
          -0.427768330918894,
          -0.427768330918894,
          -0.427768330918894,
          -0.427768330918894,
          -0.427768330918894,
          -0.427768330918894,
          -0.427768330918894,
          -0.427768330918894,
          -0.427768330918894,
          -0.427768330918894,
          -0.427768330918894,
          -0.427768330918894,
          -0.427768330918894,
          -0.427768330918894,
          -0.427768330918894,
          -0.427768330918894,
          -0.427768330918894,
          -0.427768330918894,
          -0.4609400761659668,
          -0.4609400761659668,
          -0.4609400761659668,
          -0.4609400761659668,
          -0.4609400761659668,
          -0.4609400761659668,
          -0.4609400761659668,
          -0.4609400761659668,
          -0.4609400761659668,
          -0.4609400761659668,
          -0.4609400761659668,
          -0.4609400761659668,
          -0.4609400761659668,
          -0.4609400761659668,
          -0.4609400761659668,
          -0.4609400761659668,
          -0.4609400761659668,
          -0.4609400761659668,
          -0.4609400761659668,
          -0.4609400761659668,
          -0.48121210701701067,
          -0.48121210701701067,
          -0.48121210701701067,
          -0.48121210701701067,
          -0.48121210701701067,
          -0.48121210701701067,
          -0.48121210701701067,
          -0.48121210701701067,
          -0.48121210701701067,
          -0.48121210701701067,
          -0.48121210701701067,
          -0.48121210701701067,
          -0.48121210701701067,
          -0.48121210701701067,
          -0.48121210701701067,
          -0.48121210701701067,
          -0.48121210701701067,
          -0.48121210701701067,
          -0.48121210701701067,
          -0.48121210701701067,
          -0.4880314553156495,
          -0.4880314553156495,
          -0.4880314553156495,
          -0.4880314553156495,
          -0.4880314553156495,
          -0.4880314553156495,
          -0.4880314553156495,
          -0.4880314553156495,
          -0.4880314553156495,
          -0.4880314553156495,
          -0.4880314553156495,
          -0.4880314553156495,
          -0.4880314553156495,
          -0.4880314553156495,
          -0.4880314553156495,
          -0.4880314553156495,
          -0.4880314553156495,
          -0.4880314553156495,
          -0.4880314553156495,
          -0.4880314553156495
         ]
        },
        {
         "alphahull": 0,
         "color": "#00CC96",
         "opacity": 0.2,
         "type": "mesh3d",
         "x": [
          -0.5185982292856682,
          -0.5185982292856682,
          -0.5185982292856682,
          -0.5185982292856682,
          -0.5185982292856682,
          -0.5185982292856682,
          -0.5185982292856682,
          -0.5185982292856682,
          -0.5185982292856682,
          -0.5185982292856682,
          -0.5185982292856682,
          -0.5185982292856682,
          -0.5185982292856682,
          -0.5185982292856682,
          -0.5185982292856682,
          -0.5185982292856682,
          -0.5185982292856682,
          -0.5185982292856682,
          -0.5185982292856682,
          -0.5185982292856682,
          -0.4363009341453013,
          -0.4407600285965833,
          -0.4536540998766537,
          -0.47358587529018675,
          -0.4983954376977651,
          -0.525394286052503,
          -0.5516566762048687,
          -0.5743366706788834,
          -0.5909765401569143,
          -0.5997730965868391,
          -0.5997730965868391,
          -0.5909765401569143,
          -0.5743366706788835,
          -0.5516566762048687,
          -0.5253942860525032,
          -0.4983954376977652,
          -0.4735858752901868,
          -0.4536540998766537,
          -0.4407600285965833,
          -0.4363009341453013,
          -0.35624849468332653,
          -0.3650450511132513,
          -0.39048147702120695,
          -0.42980134097325257,
          -0.4787437255996329,
          -0.5320049641067365,
          -0.5838133748690527,
          -0.6285547126901642,
          -0.6613805593837676,
          -0.6787337251151201,
          -0.6787337251151201,
          -0.6613805593837676,
          -0.6285547126901643,
          -0.5838133748690528,
          -0.5320049641067366,
          -0.47874372559963296,
          -0.4298013409732526,
          -0.390481477021207,
          -0.3650450511132513,
          -0.35624849468332653,
          -0.2806245327671315,
          -0.29351860404720187,
          -0.3308035451920874,
          -0.38843895429326913,
          -0.4601791404691185,
          -0.5382499413838004,
          -0.6141911743649187,
          -0.6797734284693299,
          -0.7278898488513004,
          -0.7533262747592561,
          -0.7533262747592561,
          -0.7278898488513004,
          -0.67977342846933,
          -0.6141911743649189,
          -0.5382499413838006,
          -0.4601791404691186,
          -0.38843895429326925,
          -0.33080354519208743,
          -0.29351860404720187,
          -0.2806245327671315,
          -0.21149187294083432,
          -0.22813174241886525,
          -0.27624816280083564,
          -0.3506269733351716,
          -0.4432080757943208,
          -0.5439588711830174,
          -0.6419614475112324,
          -0.7265957049671522,
          -0.788690208519616,
          -0.8215160552132195,
          -0.8215160552132195,
          -0.7886902085196161,
          -0.7265957049671523,
          -0.6419614475112325,
          -0.5439588711830176,
          -0.4432080757943209,
          -0.35062697333517173,
          -0.2762481628008357,
          -0.22813174241886525,
          -0.21149187294083432,
          -0.15073627394910244,
          -0.17066804936263552,
          -0.22830345846381733,
          -0.3173968103710191,
          -0.42829345797930446,
          -0.5489760287815342,
          -0.6663666936482616,
          -0.7677443525373356,
          -0.8421231630716717,
          -0.8814430270237172,
          -0.8814430270237174,
          -0.8421231630716717,
          -0.7677443525373358,
          -0.6663666936482618,
          -0.5489760287815343,
          -0.4282934579793046,
          -0.3173968103710192,
          -0.2283034584638174,
          -0.17066804936263552,
          -0.15073627394910244,
          -0.10001499015440396,
          -0.12269498462841871,
          -0.18827723873282992,
          -0.2896548976219039,
          -0.41584211891855616,
          -0.5531645591988168,
          -0.6867412012811168,
          -0.8020969433406842,
          -0.886731200796604,
          -0.9314725386177154,
          -0.9314725386177155,
          -0.8867312007966041,
          -0.8020969433406844,
          -0.686741201281117,
          -0.553164559198817,
          -0.4158421189185564,
          -0.289654897621904,
          -0.18827723873283003,
          -0.12269498462841871,
          -0.10001499015440396,
          -0.060711565958139535,
          -0.0855211283657179,
          -0.15726131454156728,
          -0.2681579621498526,
          -0.4061936986834347,
          -0.5564102102437657,
          -0.702529206953951,
          -0.8287164282506034,
          -0.9212975307097526,
          -0.970239915336133,
          -0.970239915336133,
          -0.9212975307097526,
          -0.8287164282506037,
          -0.7025292069539513,
          -0.5564102102437659,
          -0.4061936986834349,
          -0.26815796214985277,
          -0.1572613145415674,
          -0.0855211283657179,
          -0.060711565958139535,
          -0.033898096316003046,
          -0.06016048646836869,
          -0.13610171944948696,
          -0.25349238431621446,
          -0.3996113810263998,
          -0.5586244490166556,
          -0.7133000550282685,
          -0.8468766971105687,
          -0.9448792734387836,
          -0.9966876842011,
          -0.9966876842011001,
          -0.9448792734387838,
          -0.8468766971105689,
          -0.7133000550282689,
          -0.5586244490166559,
          -0.39961138102640004,
          -0.2534923843162146,
          -0.13610171944948707,
          -0.06016048646836869,
          -0.033898096316003046,
          -0.02030598278233331,
          -0.04730483113707129,
          -0.12537563205175317,
          -0.2460582028539829,
          -0.39627471441431383,
          -0.5597468768558517,
          -0.7187599448461074,
          -0.8560823851263679,
          -0.9568331805150647,
          -1.0100944190221683,
          -1.0100944190221683,
          -0.9568331805150647,
          -0.8560823851263683,
          -0.7187599448461077,
          -0.5597468768558519,
          -0.39627471441431406,
          -0.24605820285398305,
          -0.12537563205175328,
          -0.04730483113707129,
          -0.02030598278233331,
          -0.02030598278233331,
          -0.04730483113707129,
          -0.12537563205175317,
          -0.2460582028539829,
          -0.39627471441431383,
          -0.5597468768558517,
          -0.7187599448461074,
          -0.8560823851263679,
          -0.9568331805150647,
          -1.0100944190221683,
          -1.0100944190221683,
          -0.9568331805150647,
          -0.8560823851263683,
          -0.7187599448461077,
          -0.5597468768558519,
          -0.39627471441431406,
          -0.24605820285398305,
          -0.12537563205175328,
          -0.04730483113707129,
          -0.02030598278233331,
          -0.033898096316003046,
          -0.06016048646836869,
          -0.13610171944948696,
          -0.25349238431621446,
          -0.3996113810263998,
          -0.5586244490166556,
          -0.7133000550282685,
          -0.8468766971105687,
          -0.9448792734387836,
          -0.9966876842011,
          -0.9966876842011001,
          -0.9448792734387838,
          -0.8468766971105689,
          -0.7133000550282689,
          -0.5586244490166559,
          -0.39961138102640004,
          -0.2534923843162146,
          -0.13610171944948707,
          -0.06016048646836869,
          -0.033898096316003046,
          -0.06071156595813948,
          -0.08552112836571785,
          -0.15726131454156722,
          -0.2681579621498526,
          -0.4061936986834347,
          -0.5564102102437657,
          -0.702529206953951,
          -0.8287164282506034,
          -0.9212975307097526,
          -0.970239915336133,
          -0.970239915336133,
          -0.9212975307097526,
          -0.8287164282506037,
          -0.7025292069539514,
          -0.5564102102437659,
          -0.4061936986834349,
          -0.2681579621498527,
          -0.15726131454156733,
          -0.08552112836571785,
          -0.06071156595813948,
          -0.1000149901544039,
          -0.12269498462841866,
          -0.18827723873282987,
          -0.28965489762190383,
          -0.41584211891855616,
          -0.5531645591988168,
          -0.6867412012811168,
          -0.8020969433406843,
          -0.8867312007966041,
          -0.9314725386177155,
          -0.9314725386177156,
          -0.8867312007966042,
          -0.8020969433406845,
          -0.6867412012811172,
          -0.553164559198817,
          -0.4158421189185563,
          -0.289654897621904,
          -0.18827723873282998,
          -0.12269498462841866,
          -0.1000149901544039,
          -0.15073627394910238,
          -0.17066804936263547,
          -0.22830345846381728,
          -0.3173968103710191,
          -0.4282934579793044,
          -0.5489760287815342,
          -0.6663666936482616,
          -0.7677443525373356,
          -0.8421231630716717,
          -0.8814430270237174,
          -0.8814430270237175,
          -0.8421231630716717,
          -0.7677443525373359,
          -0.666366693648262,
          -0.5489760287815344,
          -0.4282934579793046,
          -0.3173968103710192,
          -0.22830345846381733,
          -0.17066804936263547,
          -0.15073627394910238,
          -0.21149187294083427,
          -0.2281317424188652,
          -0.2762481628008356,
          -0.35062697333517157,
          -0.44320807579432075,
          -0.5439588711830174,
          -0.6419614475112324,
          -0.7265957049671522,
          -0.7886902085196161,
          -0.8215160552132196,
          -0.8215160552132196,
          -0.7886902085196161,
          -0.7265957049671523,
          -0.6419614475112326,
          -0.5439588711830176,
          -0.4432080757943209,
          -0.3506269733351717,
          -0.27624816280083564,
          -0.2281317424188652,
          -0.21149187294083427,
          -0.2806245327671314,
          -0.2935186040472018,
          -0.3308035451920873,
          -0.38843895429326913,
          -0.4601791404691185,
          -0.5382499413838004,
          -0.6141911743649187,
          -0.67977342846933,
          -0.7278898488513004,
          -0.7533262747592562,
          -0.7533262747592562,
          -0.7278898488513004,
          -0.6797734284693301,
          -0.6141911743649189,
          -0.5382499413838006,
          -0.4601791404691186,
          -0.3884389542932692,
          -0.3308035451920873,
          -0.2935186040472018,
          -0.2806245327671314,
          -0.3562484946833264,
          -0.36504505111325125,
          -0.39048147702120695,
          -0.4298013409732525,
          -0.4787437255996329,
          -0.5320049641067365,
          -0.5838133748690528,
          -0.6285547126901643,
          -0.6613805593837677,
          -0.6787337251151202,
          -0.6787337251151202,
          -0.6613805593837677,
          -0.6285547126901643,
          -0.5838133748690528,
          -0.5320049641067366,
          -0.47874372559963296,
          -0.4298013409732526,
          -0.39048147702120695,
          -0.36504505111325125,
          -0.3562484946833264,
          -0.43630093414530124,
          -0.44076002859658325,
          -0.45365409987665367,
          -0.47358587529018675,
          -0.4983954376977651,
          -0.525394286052503,
          -0.5516566762048687,
          -0.5743366706788835,
          -0.5909765401569144,
          -0.5997730965868392,
          -0.5997730965868392,
          -0.5909765401569144,
          -0.5743366706788835,
          -0.5516566762048688,
          -0.5253942860525032,
          -0.4983954376977651,
          -0.47358587529018675,
          -0.45365409987665367,
          -0.44076002859658325,
          -0.43630093414530124,
          -0.5185982292856681,
          -0.5185982292856681,
          -0.5185982292856682,
          -0.5185982292856682,
          -0.5185982292856682,
          -0.5185982292856682,
          -0.5185982292856682,
          -0.5185982292856682,
          -0.5185982292856682,
          -0.5185982292856683,
          -0.5185982292856683,
          -0.5185982292856682,
          -0.5185982292856682,
          -0.5185982292856682,
          -0.5185982292856682,
          -0.5185982292856682,
          -0.5185982292856682,
          -0.5185982292856682,
          -0.5185982292856681,
          -0.5185982292856681
         ],
         "y": [
          -0.3689397804608399,
          -0.3689397804608399,
          -0.3689397804608399,
          -0.3689397804608399,
          -0.3689397804608399,
          -0.3689397804608399,
          -0.3689397804608399,
          -0.3689397804608399,
          -0.3689397804608399,
          -0.3689397804608399,
          -0.3689397804608399,
          -0.3689397804608399,
          -0.3689397804608399,
          -0.3689397804608399,
          -0.3689397804608399,
          -0.3689397804608399,
          -0.3689397804608399,
          -0.3689397804608399,
          -0.3689397804608399,
          -0.3689397804608399,
          -0.3689397804608399,
          -0.3422178924117816,
          -0.3183917355656529,
          -0.300043243717647,
          -0.28916076066568064,
          -0.28692357230755705,
          -0.293574112715433,
          -0.3083916926423482,
          -0.32977059738477965,
          -0.3553940908859986,
          -0.38248547003568123,
          -0.4081089635369002,
          -0.42948786827933155,
          -0.44430544820624684,
          -0.4509559886141228,
          -0.4487188002559992,
          -0.4378363172040328,
          -0.4194878253560269,
          -0.39566166850989826,
          -0.3689397804608399,
          -0.3689397804608399,
          -0.31622490780993834,
          -0.26922250956628796,
          -0.23302602489694133,
          -0.21155790456215015,
          -0.20714455251239777,
          -0.22026422392248773,
          -0.24949519882246002,
          -0.2916698475165946,
          -0.3422178924117816,
          -0.3956616685098982,
          -0.4462097134050852,
          -0.48838436209921976,
          -0.517615336999192,
          -0.5307350084092821,
          -0.5263216563595297,
          -0.5048535360247386,
          -0.4686570513553919,
          -0.42165465311174155,
          -0.36893978046083997,
          -0.3689397804608399,
          -0.29166984751659464,
          -0.2227733107734017,
          -0.16971617902730074,
          -0.1382480157692049,
          -0.13177888476699084,
          -0.15100981674365843,
          -0.19385684182088103,
          -0.25567681999144665,
          -0.3297705973847796,
          -0.4081089635369002,
          -0.4822027409302332,
          -0.5440227191007987,
          -0.5868697441780213,
          -0.606100676154689,
          -0.599631545152475,
          -0.5681633818943791,
          -0.5151062501482782,
          -0.4462097134050853,
          -0.36893978046083997,
          -0.3689397804608399,
          -0.26922250956628796,
          -0.1803111522460397,
          -0.11184063366759817,
          -0.07123079694849915,
          -0.06288234802379794,
          -0.08769997087401782,
          -0.14299429097824237,
          -0.22277331077340165,
          -0.31839173556565287,
          -0.4194878253560269,
          -0.5151062501482782,
          -0.5948852699434373,
          -0.6501795900476619,
          -0.6749972128978818,
          -0.6666487639731806,
          -0.6260389272540817,
          -0.5575684086756402,
          -0.46865705135539193,
          -0.36893978046083997,
          -0.3689397804608399,
          -0.24949519882246002,
          -0.14299429097824243,
          -0.06097808282495959,
          -0.012334303128610946,
          -0.002334260205306249,
          -0.03206161387243889,
          -0.0982949440927568,
          -0.193856841820881,
          -0.30839169264234817,
          -0.42948786827933155,
          -0.5440227191007987,
          -0.6395846168289229,
          -0.705817947049241,
          -0.7355453007163736,
          -0.7255452577930689,
          -0.6769014780967204,
          -0.5948852699434375,
          -0.48838436209921987,
          -0.36893978046084,
          -0.3689397804608399,
          -0.23302602489694133,
          -0.11184063366759817,
          -0.018515924297597575,
          0.03683492287075402,
          0.048213784689880745,
          0.014387584920447394,
          -0.060978082824959534,
          -0.16971617902730068,
          -0.30004324371764696,
          -0.43783631720403277,
          -0.5681633818943791,
          -0.6769014780967202,
          -0.7522671458421272,
          -0.7860933456115606,
          -0.7747144837924338,
          -0.7193636366240823,
          -0.6260389272540818,
          -0.5048535360247386,
          -0.36893978046084,
          -0.3689397804608399,
          -0.22026422392248776,
          -0.08769997087401787,
          0.014387584920447338,
          0.07493567273893903,
          0.08738296776594101,
          0.050380612445595385,
          -0.03206161387243889,
          -0.15100981674365838,
          -0.29357411271543293,
          -0.4443054482062468,
          -0.5868697441780213,
          -0.7058179470492407,
          -0.7882601733672752,
          -0.8252625286876208,
          -0.8128152336606189,
          -0.7522671458421273,
          -0.6501795900476621,
          -0.5176153369991923,
          -0.36893978046084,
          -0.3689397804608399,
          -0.21155790456215015,
          -0.07123079694849915,
          0.03683492287075402,
          0.10092865734078232,
          0.11410485581499935,
          0.07493567273893909,
          -0.01233430312861089,
          -0.1382480157692048,
          -0.2891607606656806,
          -0.44871880025599914,
          -0.599631545152475,
          -0.7255452577930688,
          -0.8128152336606188,
          -0.8519844167366792,
          -0.8388082182624622,
          -0.7747144837924339,
          -0.6666487639731808,
          -0.5263216563595299,
          -0.36893978046084,
          -0.3689397804608399,
          -0.20714455251239777,
          -0.06288234802379794,
          0.048213784689880745,
          0.11410485581499935,
          0.12765054538984066,
          0.08738296776594107,
          -0.0023342602053061934,
          -0.13177888476699076,
          -0.286923572307557,
          -0.4509559886141227,
          -0.606100676154689,
          -0.7355453007163735,
          -0.8252625286876207,
          -0.8655301063115205,
          -0.8519844167366792,
          -0.7860933456115606,
          -0.6749972128978821,
          -0.5307350084092822,
          -0.36893978046084,
          -0.3689397804608399,
          -0.20714455251239777,
          -0.06288234802379794,
          0.048213784689880745,
          0.11410485581499935,
          0.12765054538984066,
          0.08738296776594107,
          -0.0023342602053061934,
          -0.13177888476699076,
          -0.286923572307557,
          -0.4509559886141227,
          -0.606100676154689,
          -0.7355453007163735,
          -0.8252625286876207,
          -0.8655301063115205,
          -0.8519844167366792,
          -0.7860933456115606,
          -0.6749972128978821,
          -0.5307350084092822,
          -0.36893978046084,
          -0.3689397804608399,
          -0.21155790456215015,
          -0.07123079694849915,
          0.03683492287075402,
          0.10092865734078232,
          0.11410485581499935,
          0.07493567273893909,
          -0.01233430312861089,
          -0.1382480157692048,
          -0.2891607606656806,
          -0.44871880025599914,
          -0.599631545152475,
          -0.7255452577930688,
          -0.8128152336606188,
          -0.8519844167366792,
          -0.8388082182624622,
          -0.7747144837924339,
          -0.6666487639731808,
          -0.5263216563595299,
          -0.36893978046084,
          -0.3689397804608399,
          -0.22026422392248773,
          -0.08769997087401782,
          0.014387584920447394,
          0.07493567273893909,
          0.08738296776594107,
          0.05038061244559544,
          -0.03206161387243883,
          -0.15100981674365835,
          -0.29357411271543293,
          -0.4443054482062468,
          -0.5868697441780214,
          -0.7058179470492407,
          -0.7882601733672752,
          -0.825262528687621,
          -0.8128152336606189,
          -0.7522671458421273,
          -0.6501795900476621,
          -0.5176153369991923,
          -0.36893978046084,
          -0.3689397804608399,
          -0.2330260248969413,
          -0.11184063366759817,
          -0.01851592429759752,
          0.03683492287075402,
          0.0482137846898808,
          0.01438758492044745,
          -0.06097808282495948,
          -0.16971617902730066,
          -0.30004324371764696,
          -0.43783631720403277,
          -0.5681633818943791,
          -0.6769014780967202,
          -0.7522671458421273,
          -0.7860933456115606,
          -0.7747144837924339,
          -0.7193636366240823,
          -0.6260389272540818,
          -0.5048535360247386,
          -0.36893978046084,
          -0.3689397804608399,
          -0.24949519882246002,
          -0.14299429097824237,
          -0.060978082824959534,
          -0.01233430312861089,
          -0.0023342602053061934,
          -0.03206161387243883,
          -0.0982949440927568,
          -0.19385684182088098,
          -0.30839169264234817,
          -0.42948786827933155,
          -0.5440227191007988,
          -0.6395846168289229,
          -0.705817947049241,
          -0.7355453007163737,
          -0.725545257793069,
          -0.6769014780967204,
          -0.5948852699434375,
          -0.4883843620992199,
          -0.36893978046084,
          -0.3689397804608399,
          -0.26922250956628796,
          -0.18031115224603966,
          -0.11184063366759811,
          -0.0712307969484991,
          -0.06288234802379788,
          -0.08769997087401776,
          -0.14299429097824234,
          -0.22277331077340162,
          -0.31839173556565287,
          -0.4194878253560269,
          -0.5151062501482782,
          -0.5948852699434374,
          -0.6501795900476619,
          -0.674997212897882,
          -0.6666487639731807,
          -0.6260389272540818,
          -0.5575684086756403,
          -0.46865705135539193,
          -0.36893978046083997,
          -0.3689397804608399,
          -0.2916698475165946,
          -0.22277331077340165,
          -0.16971617902730068,
          -0.1382480157692048,
          -0.13177888476699076,
          -0.15100981674365835,
          -0.19385684182088098,
          -0.2556768199914466,
          -0.3297705973847796,
          -0.4081089635369002,
          -0.4822027409302332,
          -0.5440227191007987,
          -0.5868697441780214,
          -0.6061006761546891,
          -0.5996315451524751,
          -0.5681633818943792,
          -0.5151062501482783,
          -0.4462097134050853,
          -0.36893978046083997,
          -0.3689397804608399,
          -0.3162249078099383,
          -0.2692225095662879,
          -0.23302602489694124,
          -0.21155790456215007,
          -0.2071445525123977,
          -0.22026422392248765,
          -0.24949519882245996,
          -0.2916698475165945,
          -0.3422178924117816,
          -0.39566166850989826,
          -0.44620971340508525,
          -0.4883843620992198,
          -0.5176153369991922,
          -0.5307350084092821,
          -0.5263216563595298,
          -0.5048535360247386,
          -0.46865705135539193,
          -0.42165465311174155,
          -0.36893978046083997,
          -0.3689397804608399,
          -0.3422178924117816,
          -0.31839173556565287,
          -0.30004324371764696,
          -0.2891607606656806,
          -0.286923572307557,
          -0.29357411271543293,
          -0.30839169264234817,
          -0.3297705973847796,
          -0.35539409088599855,
          -0.38248547003568123,
          -0.4081089635369002,
          -0.4294878682793316,
          -0.4443054482062469,
          -0.45095598861412284,
          -0.4487188002559993,
          -0.4378363172040329,
          -0.41948782535602697,
          -0.39566166850989826,
          -0.3689397804608399,
          -0.3689397804608399,
          -0.3689397804608399,
          -0.36893978046083986,
          -0.36893978046083986,
          -0.36893978046083986,
          -0.36893978046083986,
          -0.36893978046083986,
          -0.36893978046083986,
          -0.36893978046083986,
          -0.3689397804608399,
          -0.3689397804608399,
          -0.36893978046083997,
          -0.36893978046083997,
          -0.36893978046083997,
          -0.36893978046083997,
          -0.36893978046083997,
          -0.36893978046083997,
          -0.36893978046083997,
          -0.3689397804608399,
          -0.3689397804608399
         ],
         "z": [
          0.34170452403751284,
          0.34170452403751284,
          0.34170452403751284,
          0.34170452403751284,
          0.34170452403751284,
          0.34170452403751284,
          0.34170452403751284,
          0.34170452403751284,
          0.34170452403751284,
          0.34170452403751284,
          0.34170452403751284,
          0.34170452403751284,
          0.34170452403751284,
          0.34170452403751284,
          0.34170452403751284,
          0.34170452403751284,
          0.34170452403751284,
          0.34170452403751284,
          0.34170452403751284,
          0.34170452403751284,
          0.334885175738874,
          0.334885175738874,
          0.334885175738874,
          0.334885175738874,
          0.334885175738874,
          0.334885175738874,
          0.334885175738874,
          0.334885175738874,
          0.334885175738874,
          0.334885175738874,
          0.334885175738874,
          0.334885175738874,
          0.334885175738874,
          0.334885175738874,
          0.334885175738874,
          0.334885175738874,
          0.334885175738874,
          0.334885175738874,
          0.334885175738874,
          0.334885175738874,
          0.3146131448878302,
          0.3146131448878302,
          0.3146131448878302,
          0.3146131448878302,
          0.3146131448878302,
          0.3146131448878302,
          0.3146131448878302,
          0.3146131448878302,
          0.3146131448878302,
          0.3146131448878302,
          0.3146131448878302,
          0.3146131448878302,
          0.3146131448878302,
          0.3146131448878302,
          0.3146131448878302,
          0.3146131448878302,
          0.3146131448878302,
          0.3146131448878302,
          0.3146131448878302,
          0.3146131448878302,
          0.28144139964075743,
          0.28144139964075743,
          0.28144139964075743,
          0.28144139964075743,
          0.28144139964075743,
          0.28144139964075743,
          0.28144139964075743,
          0.28144139964075743,
          0.28144139964075743,
          0.28144139964075743,
          0.28144139964075743,
          0.28144139964075743,
          0.28144139964075743,
          0.28144139964075743,
          0.28144139964075743,
          0.28144139964075743,
          0.28144139964075743,
          0.28144139964075743,
          0.28144139964075743,
          0.28144139964075743,
          0.23627477873570965,
          0.23627477873570965,
          0.23627477873570965,
          0.23627477873570965,
          0.23627477873570965,
          0.23627477873570965,
          0.23627477873570965,
          0.23627477873570965,
          0.23627477873570965,
          0.23627477873570965,
          0.23627477873570965,
          0.23627477873570965,
          0.23627477873570965,
          0.23627477873570965,
          0.23627477873570965,
          0.23627477873570965,
          0.23627477873570965,
          0.23627477873570965,
          0.23627477873570965,
          0.23627477873570965,
          0.1803453098503834,
          0.1803453098503834,
          0.1803453098503834,
          0.1803453098503834,
          0.1803453098503834,
          0.1803453098503834,
          0.1803453098503834,
          0.1803453098503834,
          0.1803453098503834,
          0.1803453098503834,
          0.1803453098503834,
          0.1803453098503834,
          0.1803453098503834,
          0.1803453098503834,
          0.1803453098503834,
          0.1803453098503834,
          0.1803453098503834,
          0.1803453098503834,
          0.1803453098503834,
          0.1803453098503834,
          0.11517860309872632,
          0.11517860309872632,
          0.11517860309872632,
          0.11517860309872632,
          0.11517860309872632,
          0.11517860309872632,
          0.11517860309872632,
          0.11517860309872632,
          0.11517860309872632,
          0.11517860309872632,
          0.11517860309872632,
          0.11517860309872632,
          0.11517860309872632,
          0.11517860309872632,
          0.11517860309872632,
          0.11517860309872632,
          0.11517860309872632,
          0.11517860309872632,
          0.11517860309872632,
          0.11517860309872632,
          0.04255223636399763,
          0.04255223636399763,
          0.04255223636399763,
          0.04255223636399763,
          0.04255223636399763,
          0.04255223636399763,
          0.04255223636399763,
          0.04255223636399763,
          0.04255223636399763,
          0.04255223636399763,
          0.04255223636399763,
          0.04255223636399763,
          0.04255223636399763,
          0.04255223636399763,
          0.04255223636399763,
          0.04255223636399763,
          0.04255223636399763,
          0.04255223636399763,
          0.04255223636399763,
          0.04255223636399763,
          -0.03555273239208752,
          -0.03555273239208752,
          -0.03555273239208752,
          -0.03555273239208752,
          -0.03555273239208752,
          -0.03555273239208752,
          -0.03555273239208752,
          -0.03555273239208752,
          -0.03555273239208752,
          -0.03555273239208752,
          -0.03555273239208752,
          -0.03555273239208752,
          -0.03555273239208752,
          -0.03555273239208752,
          -0.03555273239208752,
          -0.03555273239208752,
          -0.03555273239208752,
          -0.03555273239208752,
          -0.03555273239208752,
          -0.03555273239208752,
          -0.11700580322632094,
          -0.11700580322632094,
          -0.11700580322632094,
          -0.11700580322632094,
          -0.11700580322632094,
          -0.11700580322632094,
          -0.11700580322632094,
          -0.11700580322632094,
          -0.11700580322632094,
          -0.11700580322632094,
          -0.11700580322632094,
          -0.11700580322632094,
          -0.11700580322632094,
          -0.11700580322632094,
          -0.11700580322632094,
          -0.11700580322632094,
          -0.11700580322632094,
          -0.11700580322632094,
          -0.11700580322632094,
          -0.11700580322632094,
          -0.19958514869865326,
          -0.19958514869865326,
          -0.19958514869865326,
          -0.19958514869865326,
          -0.19958514869865326,
          -0.19958514869865326,
          -0.19958514869865326,
          -0.19958514869865326,
          -0.19958514869865326,
          -0.19958514869865326,
          -0.19958514869865326,
          -0.19958514869865326,
          -0.19958514869865326,
          -0.19958514869865326,
          -0.19958514869865326,
          -0.19958514869865326,
          -0.19958514869865326,
          -0.19958514869865326,
          -0.19958514869865326,
          -0.19958514869865326,
          -0.2810382195328867,
          -0.2810382195328867,
          -0.2810382195328867,
          -0.2810382195328867,
          -0.2810382195328867,
          -0.2810382195328867,
          -0.2810382195328867,
          -0.2810382195328867,
          -0.2810382195328867,
          -0.2810382195328867,
          -0.2810382195328867,
          -0.2810382195328867,
          -0.2810382195328867,
          -0.2810382195328867,
          -0.2810382195328867,
          -0.2810382195328867,
          -0.2810382195328867,
          -0.2810382195328867,
          -0.2810382195328867,
          -0.2810382195328867,
          -0.35914318828897174,
          -0.35914318828897174,
          -0.35914318828897174,
          -0.35914318828897174,
          -0.35914318828897174,
          -0.35914318828897174,
          -0.35914318828897174,
          -0.35914318828897174,
          -0.35914318828897174,
          -0.35914318828897174,
          -0.35914318828897174,
          -0.35914318828897174,
          -0.35914318828897174,
          -0.35914318828897174,
          -0.35914318828897174,
          -0.35914318828897174,
          -0.35914318828897174,
          -0.35914318828897174,
          -0.35914318828897174,
          -0.35914318828897174,
          -0.4317695550237005,
          -0.4317695550237005,
          -0.4317695550237005,
          -0.4317695550237005,
          -0.4317695550237005,
          -0.4317695550237005,
          -0.4317695550237005,
          -0.4317695550237005,
          -0.4317695550237005,
          -0.4317695550237005,
          -0.4317695550237005,
          -0.4317695550237005,
          -0.4317695550237005,
          -0.4317695550237005,
          -0.4317695550237005,
          -0.4317695550237005,
          -0.4317695550237005,
          -0.4317695550237005,
          -0.4317695550237005,
          -0.4317695550237005,
          -0.49693626177535755,
          -0.49693626177535755,
          -0.49693626177535755,
          -0.49693626177535755,
          -0.49693626177535755,
          -0.49693626177535755,
          -0.49693626177535755,
          -0.49693626177535755,
          -0.49693626177535755,
          -0.49693626177535755,
          -0.49693626177535755,
          -0.49693626177535755,
          -0.49693626177535755,
          -0.49693626177535755,
          -0.49693626177535755,
          -0.49693626177535755,
          -0.49693626177535755,
          -0.49693626177535755,
          -0.49693626177535755,
          -0.49693626177535755,
          -0.5528657306606839,
          -0.5528657306606839,
          -0.5528657306606839,
          -0.5528657306606839,
          -0.5528657306606839,
          -0.5528657306606839,
          -0.5528657306606839,
          -0.5528657306606839,
          -0.5528657306606839,
          -0.5528657306606839,
          -0.5528657306606839,
          -0.5528657306606839,
          -0.5528657306606839,
          -0.5528657306606839,
          -0.5528657306606839,
          -0.5528657306606839,
          -0.5528657306606839,
          -0.5528657306606839,
          -0.5528657306606839,
          -0.5528657306606839,
          -0.5980323515657316,
          -0.5980323515657316,
          -0.5980323515657316,
          -0.5980323515657316,
          -0.5980323515657316,
          -0.5980323515657316,
          -0.5980323515657316,
          -0.5980323515657316,
          -0.5980323515657316,
          -0.5980323515657316,
          -0.5980323515657316,
          -0.5980323515657316,
          -0.5980323515657316,
          -0.5980323515657316,
          -0.5980323515657316,
          -0.5980323515657316,
          -0.5980323515657316,
          -0.5980323515657316,
          -0.5980323515657316,
          -0.5980323515657316,
          -0.6312040968128044,
          -0.6312040968128044,
          -0.6312040968128044,
          -0.6312040968128044,
          -0.6312040968128044,
          -0.6312040968128044,
          -0.6312040968128044,
          -0.6312040968128044,
          -0.6312040968128044,
          -0.6312040968128044,
          -0.6312040968128044,
          -0.6312040968128044,
          -0.6312040968128044,
          -0.6312040968128044,
          -0.6312040968128044,
          -0.6312040968128044,
          -0.6312040968128044,
          -0.6312040968128044,
          -0.6312040968128044,
          -0.6312040968128044,
          -0.6514761276638483,
          -0.6514761276638483,
          -0.6514761276638483,
          -0.6514761276638483,
          -0.6514761276638483,
          -0.6514761276638483,
          -0.6514761276638483,
          -0.6514761276638483,
          -0.6514761276638483,
          -0.6514761276638483,
          -0.6514761276638483,
          -0.6514761276638483,
          -0.6514761276638483,
          -0.6514761276638483,
          -0.6514761276638483,
          -0.6514761276638483,
          -0.6514761276638483,
          -0.6514761276638483,
          -0.6514761276638483,
          -0.6514761276638483,
          -0.6582954759624872,
          -0.6582954759624872,
          -0.6582954759624872,
          -0.6582954759624872,
          -0.6582954759624872,
          -0.6582954759624872,
          -0.6582954759624872,
          -0.6582954759624872,
          -0.6582954759624872,
          -0.6582954759624872,
          -0.6582954759624872,
          -0.6582954759624872,
          -0.6582954759624872,
          -0.6582954759624872,
          -0.6582954759624872,
          -0.6582954759624872,
          -0.6582954759624872,
          -0.6582954759624872,
          -0.6582954759624872,
          -0.6582954759624872
         ]
        }
       ],
       "layout": {
        "scene": {
         "xaxis": {
          "title": {
           "text": "Dimension 0"
          }
         },
         "yaxis": {
          "title": {
           "text": "Dimension 1"
          }
         },
         "zaxis": {
          "title": {
           "text": "Dimension 2"
          }
         }
        },
        "template": {
         "data": {
          "bar": [
           {
            "error_x": {
             "color": "#f2f5fa"
            },
            "error_y": {
             "color": "#f2f5fa"
            },
            "marker": {
             "line": {
              "color": "rgb(17,17,17)",
              "width": 0.5
             },
             "pattern": {
              "fillmode": "overlay",
              "size": 10,
              "solidity": 0.2
             }
            },
            "type": "bar"
           }
          ],
          "barpolar": [
           {
            "marker": {
             "line": {
              "color": "rgb(17,17,17)",
              "width": 0.5
             },
             "pattern": {
              "fillmode": "overlay",
              "size": 10,
              "solidity": 0.2
             }
            },
            "type": "barpolar"
           }
          ],
          "carpet": [
           {
            "aaxis": {
             "endlinecolor": "#A2B1C6",
             "gridcolor": "#506784",
             "linecolor": "#506784",
             "minorgridcolor": "#506784",
             "startlinecolor": "#A2B1C6"
            },
            "baxis": {
             "endlinecolor": "#A2B1C6",
             "gridcolor": "#506784",
             "linecolor": "#506784",
             "minorgridcolor": "#506784",
             "startlinecolor": "#A2B1C6"
            },
            "type": "carpet"
           }
          ],
          "choropleth": [
           {
            "colorbar": {
             "outlinewidth": 0,
             "ticks": ""
            },
            "type": "choropleth"
           }
          ],
          "contour": [
           {
            "colorbar": {
             "outlinewidth": 0,
             "ticks": ""
            },
            "colorscale": [
             [
              0,
              "#0d0887"
             ],
             [
              0.1111111111111111,
              "#46039f"
             ],
             [
              0.2222222222222222,
              "#7201a8"
             ],
             [
              0.3333333333333333,
              "#9c179e"
             ],
             [
              0.4444444444444444,
              "#bd3786"
             ],
             [
              0.5555555555555556,
              "#d8576b"
             ],
             [
              0.6666666666666666,
              "#ed7953"
             ],
             [
              0.7777777777777778,
              "#fb9f3a"
             ],
             [
              0.8888888888888888,
              "#fdca26"
             ],
             [
              1,
              "#f0f921"
             ]
            ],
            "type": "contour"
           }
          ],
          "contourcarpet": [
           {
            "colorbar": {
             "outlinewidth": 0,
             "ticks": ""
            },
            "type": "contourcarpet"
           }
          ],
          "heatmap": [
           {
            "colorbar": {
             "outlinewidth": 0,
             "ticks": ""
            },
            "colorscale": [
             [
              0,
              "#0d0887"
             ],
             [
              0.1111111111111111,
              "#46039f"
             ],
             [
              0.2222222222222222,
              "#7201a8"
             ],
             [
              0.3333333333333333,
              "#9c179e"
             ],
             [
              0.4444444444444444,
              "#bd3786"
             ],
             [
              0.5555555555555556,
              "#d8576b"
             ],
             [
              0.6666666666666666,
              "#ed7953"
             ],
             [
              0.7777777777777778,
              "#fb9f3a"
             ],
             [
              0.8888888888888888,
              "#fdca26"
             ],
             [
              1,
              "#f0f921"
             ]
            ],
            "type": "heatmap"
           }
          ],
          "heatmapgl": [
           {
            "colorbar": {
             "outlinewidth": 0,
             "ticks": ""
            },
            "colorscale": [
             [
              0,
              "#0d0887"
             ],
             [
              0.1111111111111111,
              "#46039f"
             ],
             [
              0.2222222222222222,
              "#7201a8"
             ],
             [
              0.3333333333333333,
              "#9c179e"
             ],
             [
              0.4444444444444444,
              "#bd3786"
             ],
             [
              0.5555555555555556,
              "#d8576b"
             ],
             [
              0.6666666666666666,
              "#ed7953"
             ],
             [
              0.7777777777777778,
              "#fb9f3a"
             ],
             [
              0.8888888888888888,
              "#fdca26"
             ],
             [
              1,
              "#f0f921"
             ]
            ],
            "type": "heatmapgl"
           }
          ],
          "histogram": [
           {
            "marker": {
             "pattern": {
              "fillmode": "overlay",
              "size": 10,
              "solidity": 0.2
             }
            },
            "type": "histogram"
           }
          ],
          "histogram2d": [
           {
            "colorbar": {
             "outlinewidth": 0,
             "ticks": ""
            },
            "colorscale": [
             [
              0,
              "#0d0887"
             ],
             [
              0.1111111111111111,
              "#46039f"
             ],
             [
              0.2222222222222222,
              "#7201a8"
             ],
             [
              0.3333333333333333,
              "#9c179e"
             ],
             [
              0.4444444444444444,
              "#bd3786"
             ],
             [
              0.5555555555555556,
              "#d8576b"
             ],
             [
              0.6666666666666666,
              "#ed7953"
             ],
             [
              0.7777777777777778,
              "#fb9f3a"
             ],
             [
              0.8888888888888888,
              "#fdca26"
             ],
             [
              1,
              "#f0f921"
             ]
            ],
            "type": "histogram2d"
           }
          ],
          "histogram2dcontour": [
           {
            "colorbar": {
             "outlinewidth": 0,
             "ticks": ""
            },
            "colorscale": [
             [
              0,
              "#0d0887"
             ],
             [
              0.1111111111111111,
              "#46039f"
             ],
             [
              0.2222222222222222,
              "#7201a8"
             ],
             [
              0.3333333333333333,
              "#9c179e"
             ],
             [
              0.4444444444444444,
              "#bd3786"
             ],
             [
              0.5555555555555556,
              "#d8576b"
             ],
             [
              0.6666666666666666,
              "#ed7953"
             ],
             [
              0.7777777777777778,
              "#fb9f3a"
             ],
             [
              0.8888888888888888,
              "#fdca26"
             ],
             [
              1,
              "#f0f921"
             ]
            ],
            "type": "histogram2dcontour"
           }
          ],
          "mesh3d": [
           {
            "colorbar": {
             "outlinewidth": 0,
             "ticks": ""
            },
            "type": "mesh3d"
           }
          ],
          "parcoords": [
           {
            "line": {
             "colorbar": {
              "outlinewidth": 0,
              "ticks": ""
             }
            },
            "type": "parcoords"
           }
          ],
          "pie": [
           {
            "automargin": true,
            "type": "pie"
           }
          ],
          "scatter": [
           {
            "marker": {
             "line": {
              "color": "#283442"
             }
            },
            "type": "scatter"
           }
          ],
          "scatter3d": [
           {
            "line": {
             "colorbar": {
              "outlinewidth": 0,
              "ticks": ""
             }
            },
            "marker": {
             "colorbar": {
              "outlinewidth": 0,
              "ticks": ""
             }
            },
            "type": "scatter3d"
           }
          ],
          "scattercarpet": [
           {
            "marker": {
             "colorbar": {
              "outlinewidth": 0,
              "ticks": ""
             }
            },
            "type": "scattercarpet"
           }
          ],
          "scattergeo": [
           {
            "marker": {
             "colorbar": {
              "outlinewidth": 0,
              "ticks": ""
             }
            },
            "type": "scattergeo"
           }
          ],
          "scattergl": [
           {
            "marker": {
             "line": {
              "color": "#283442"
             }
            },
            "type": "scattergl"
           }
          ],
          "scattermapbox": [
           {
            "marker": {
             "colorbar": {
              "outlinewidth": 0,
              "ticks": ""
             }
            },
            "type": "scattermapbox"
           }
          ],
          "scatterpolar": [
           {
            "marker": {
             "colorbar": {
              "outlinewidth": 0,
              "ticks": ""
             }
            },
            "type": "scatterpolar"
           }
          ],
          "scatterpolargl": [
           {
            "marker": {
             "colorbar": {
              "outlinewidth": 0,
              "ticks": ""
             }
            },
            "type": "scatterpolargl"
           }
          ],
          "scatterternary": [
           {
            "marker": {
             "colorbar": {
              "outlinewidth": 0,
              "ticks": ""
             }
            },
            "type": "scatterternary"
           }
          ],
          "surface": [
           {
            "colorbar": {
             "outlinewidth": 0,
             "ticks": ""
            },
            "colorscale": [
             [
              0,
              "#0d0887"
             ],
             [
              0.1111111111111111,
              "#46039f"
             ],
             [
              0.2222222222222222,
              "#7201a8"
             ],
             [
              0.3333333333333333,
              "#9c179e"
             ],
             [
              0.4444444444444444,
              "#bd3786"
             ],
             [
              0.5555555555555556,
              "#d8576b"
             ],
             [
              0.6666666666666666,
              "#ed7953"
             ],
             [
              0.7777777777777778,
              "#fb9f3a"
             ],
             [
              0.8888888888888888,
              "#fdca26"
             ],
             [
              1,
              "#f0f921"
             ]
            ],
            "type": "surface"
           }
          ],
          "table": [
           {
            "cells": {
             "fill": {
              "color": "#506784"
             },
             "line": {
              "color": "rgb(17,17,17)"
             }
            },
            "header": {
             "fill": {
              "color": "#2a3f5f"
             },
             "line": {
              "color": "rgb(17,17,17)"
             }
            },
            "type": "table"
           }
          ]
         },
         "layout": {
          "annotationdefaults": {
           "arrowcolor": "#f2f5fa",
           "arrowhead": 0,
           "arrowwidth": 1
          },
          "autotypenumbers": "strict",
          "coloraxis": {
           "colorbar": {
            "outlinewidth": 0,
            "ticks": ""
           }
          },
          "colorscale": {
           "diverging": [
            [
             0,
             "#8e0152"
            ],
            [
             0.1,
             "#c51b7d"
            ],
            [
             0.2,
             "#de77ae"
            ],
            [
             0.3,
             "#f1b6da"
            ],
            [
             0.4,
             "#fde0ef"
            ],
            [
             0.5,
             "#f7f7f7"
            ],
            [
             0.6,
             "#e6f5d0"
            ],
            [
             0.7,
             "#b8e186"
            ],
            [
             0.8,
             "#7fbc41"
            ],
            [
             0.9,
             "#4d9221"
            ],
            [
             1,
             "#276419"
            ]
           ],
           "sequential": [
            [
             0,
             "#0d0887"
            ],
            [
             0.1111111111111111,
             "#46039f"
            ],
            [
             0.2222222222222222,
             "#7201a8"
            ],
            [
             0.3333333333333333,
             "#9c179e"
            ],
            [
             0.4444444444444444,
             "#bd3786"
            ],
            [
             0.5555555555555556,
             "#d8576b"
            ],
            [
             0.6666666666666666,
             "#ed7953"
            ],
            [
             0.7777777777777778,
             "#fb9f3a"
            ],
            [
             0.8888888888888888,
             "#fdca26"
            ],
            [
             1,
             "#f0f921"
            ]
           ],
           "sequentialminus": [
            [
             0,
             "#0d0887"
            ],
            [
             0.1111111111111111,
             "#46039f"
            ],
            [
             0.2222222222222222,
             "#7201a8"
            ],
            [
             0.3333333333333333,
             "#9c179e"
            ],
            [
             0.4444444444444444,
             "#bd3786"
            ],
            [
             0.5555555555555556,
             "#d8576b"
            ],
            [
             0.6666666666666666,
             "#ed7953"
            ],
            [
             0.7777777777777778,
             "#fb9f3a"
            ],
            [
             0.8888888888888888,
             "#fdca26"
            ],
            [
             1,
             "#f0f921"
            ]
           ]
          },
          "colorway": [
           "#636efa",
           "#EF553B",
           "#00cc96",
           "#ab63fa",
           "#FFA15A",
           "#19d3f3",
           "#FF6692",
           "#B6E880",
           "#FF97FF",
           "#FECB52"
          ],
          "font": {
           "color": "#f2f5fa"
          },
          "geo": {
           "bgcolor": "rgb(17,17,17)",
           "lakecolor": "rgb(17,17,17)",
           "landcolor": "rgb(17,17,17)",
           "showlakes": true,
           "showland": true,
           "subunitcolor": "#506784"
          },
          "hoverlabel": {
           "align": "left"
          },
          "hovermode": "closest",
          "mapbox": {
           "style": "dark"
          },
          "paper_bgcolor": "rgb(17,17,17)",
          "plot_bgcolor": "rgb(17,17,17)",
          "polar": {
           "angularaxis": {
            "gridcolor": "#506784",
            "linecolor": "#506784",
            "ticks": ""
           },
           "bgcolor": "rgb(17,17,17)",
           "radialaxis": {
            "gridcolor": "#506784",
            "linecolor": "#506784",
            "ticks": ""
           }
          },
          "scene": {
           "xaxis": {
            "backgroundcolor": "rgb(17,17,17)",
            "gridcolor": "#506784",
            "gridwidth": 2,
            "linecolor": "#506784",
            "showbackground": true,
            "ticks": "",
            "zerolinecolor": "#C8D4E3"
           },
           "yaxis": {
            "backgroundcolor": "rgb(17,17,17)",
            "gridcolor": "#506784",
            "gridwidth": 2,
            "linecolor": "#506784",
            "showbackground": true,
            "ticks": "",
            "zerolinecolor": "#C8D4E3"
           },
           "zaxis": {
            "backgroundcolor": "rgb(17,17,17)",
            "gridcolor": "#506784",
            "gridwidth": 2,
            "linecolor": "#506784",
            "showbackground": true,
            "ticks": "",
            "zerolinecolor": "#C8D4E3"
           }
          },
          "shapedefaults": {
           "line": {
            "color": "#f2f5fa"
           }
          },
          "sliderdefaults": {
           "bgcolor": "#C8D4E3",
           "bordercolor": "rgb(17,17,17)",
           "borderwidth": 1,
           "tickwidth": 0
          },
          "ternary": {
           "aaxis": {
            "gridcolor": "#506784",
            "linecolor": "#506784",
            "ticks": ""
           },
           "baxis": {
            "gridcolor": "#506784",
            "linecolor": "#506784",
            "ticks": ""
           },
           "bgcolor": "rgb(17,17,17)",
           "caxis": {
            "gridcolor": "#506784",
            "linecolor": "#506784",
            "ticks": ""
           }
          },
          "title": {
           "x": 0.05
          },
          "updatemenudefaults": {
           "bgcolor": "#506784",
           "borderwidth": 0
          },
          "xaxis": {
           "automargin": true,
           "gridcolor": "#283442",
           "linecolor": "#506784",
           "ticks": "",
           "title": {
            "standoff": 15
           },
           "zerolinecolor": "#283442",
           "zerolinewidth": 2
          },
          "yaxis": {
           "automargin": true,
           "gridcolor": "#283442",
           "linecolor": "#506784",
           "ticks": "",
           "title": {
            "standoff": 15
           },
           "zerolinecolor": "#283442",
           "zerolinewidth": 2
          }
         }
        },
        "title": {
         "text": "GMM Clusters in Latent Space"
        }
       }
      }
     },
     "metadata": {},
     "output_type": "display_data"
    }
   ],
   "source": [
    "K = 3 \n",
    "gmm = GaussianMixture(n_components=K, covariance_type='full', random_state=0)\n",
    "gmm.fit(data)\n",
    "\n",
    "plot_gmm_clusters_3d_simplified(data, [0,1,2], gmm)"
   ]
  },
  {
   "cell_type": "markdown",
   "metadata": {},
   "source": [
    "## <strong> 4 | Manual Labelling and benchmarking </strong>"
   ]
  },
  {
   "cell_type": "markdown",
   "metadata": {},
   "source": [
    "## <strong> O | Other</strong>"
   ]
  },
  {
   "cell_type": "code",
   "execution_count": 57,
   "metadata": {},
   "outputs": [],
   "source": [
    "def imgfeature_sp(features, latd, lat = False):\n",
    "        \n",
    "    z_cpu = features.detach().cpu().numpy()\n",
    "    fig = plt.figure()\n",
    "    fig = go.Figure(data=[go.Scatter3d(\n",
    "        x=z_cpu[:, latd[0]],  # X axis data\n",
    "        y=z_cpu[:, latd[1]],  # Y axis data\n",
    "        z=z_cpu[:, latd[2]],  # Z axis data\n",
    "        mode='markers',\n",
    "        marker=dict(\n",
    "            size=5,  \n",
    "            opacity=0.8,  \n",
    "        )\n",
    "    )])\n",
    "\n",
    "    fig.update_layout(\n",
    "        title_text = \"Image feature distribution in latent space\",\n",
    "        margin=dict(l=0, r=0, b=0, t=0),  \n",
    "        scene=dict(\n",
    "            xaxis_title=f'Dimension {latd[0]}', \n",
    "            yaxis_title=f'Dimension {latd[1]}', \n",
    "            zaxis_title=f'Dimension {latd[2]}'\n",
    "        ),\n",
    "        template = 'plotly_dark'\n",
    "    )\n",
    "\n",
    "    fig.show()"
   ]
  },
  {
   "cell_type": "code",
   "execution_count": 145,
   "metadata": {},
   "outputs": [],
   "source": [
    "import plotly.graph_objects as go\n",
    "import plotly.express as px \n",
    "import numpy as np\n",
    "from sklearn.mixture import GaussianMixture\n",
    "\n",
    "def plot_gmm_clusters_3d_simplified(features, latd, gmm):\n",
    "    \"\"\"\n",
    "    Visualizes the Gaussian Mixture Model clusters in 3D with simplified boundaries.\n",
    "    \n",
    "    Args:\n",
    "    - features (torch.Tensor): The latent features from the VAE.\n",
    "    - latd (list of int): The indices of the dimensions to plot.\n",
    "    - gmm (GaussianMixture): The fitted Gaussian Mixture Model.\n",
    "    \"\"\"\n",
    "    \n",
    "    z_cpu = features\n",
    "    cluster_labels = gmm.predict(z_cpu)\n",
    "    \n",
    "    # Define colors for each cluster\n",
    "    colors = px.colors.qualitative.Plotly\n",
    "\n",
    "    fig = go.Figure()\n",
    "\n",
    "    # Plot data points with colors based on cluster membership\n",
    "    for i in range(gmm.n_components):\n",
    "        cluster_data = z_cpu[cluster_labels == i]\n",
    "        fig.add_trace(go.Scatter3d(\n",
    "            x=cluster_data[:, latd[0]],\n",
    "            y=cluster_data[:, latd[1]],\n",
    "            z=cluster_data[:, latd[2]],\n",
    "            mode='markers',\n",
    "            marker=dict(size=3, color=colors[i % len(colors)]),\n",
    "            name=f'Cluster {i+1}'\n",
    "        ))\n",
    "\n",
    "    # Add spheres to indicate cluster centers (simplified boundary visualization)\n",
    "    for mean, color in zip(gmm.means_, colors[:gmm.n_components]):\n",
    "        sphere = create_sphere(mean[latd[0]], mean[latd[1]], mean[latd[2]], radius=0.5, color=color)\n",
    "        fig.add_trace(sphere)\n",
    "    \n",
    "    # Update plot layout\n",
    "    fig.update_layout(\n",
    "        title_text=\"GMM Clusters in Latent Space\",\n",
    "        scene=dict(\n",
    "            xaxis_title=f'Dimension {latd[0]}',\n",
    "            yaxis_title=f'Dimension {latd[1]}',\n",
    "            zaxis_title=f'Dimension {latd[2]}'\n",
    "        ),\n",
    "        template='plotly_dark'\n",
    "    )\n",
    "    \n",
    "    fig.show()\n",
    "\n",
    "def create_sphere(x_center, y_center, z_center, radius, color):\n",
    "    \"\"\"\n",
    "    Generates a sphere surface centered at (x_center, y_center, z_center).\n",
    "    \n",
    "    Args:\n",
    "    - x_center, y_center, z_center (float): Center of the sphere.\n",
    "    - radius (float): Radius of the sphere.\n",
    "    - color (str): Color of the sphere.\n",
    "    \n",
    "    Returns:\n",
    "    - A Plotly figure object representing the sphere.\n",
    "    \"\"\"\n",
    "    phi = np.linspace(0, 2*np.pi, 20)\n",
    "    theta = np.linspace(0, np.pi, 20)\n",
    "    phi, theta = np.meshgrid(phi, theta)\n",
    "    \n",
    "    x = radius * np.sin(theta) * np.cos(phi) + x_center\n",
    "    y = radius * np.sin(theta) * np.sin(phi) + y_center\n",
    "    z = radius * np.cos(theta) + z_center\n",
    "    \n",
    "    return go.Mesh3d(\n",
    "        x=x.flatten(),\n",
    "        y=y.flatten(),\n",
    "        z=z.flatten(),\n",
    "        alphahull=0,\n",
    "        opacity=0.2,\n",
    "        color=color\n",
    "    )\n",
    "\n",
    "# Usage example\n",
    "# features = Your 3D latent features tensor from VAE\n",
    "# latd = [0, 1, 2]  # Assuming you're working with 3D data\n",
    "# gmm = Your fitted GaussianMixture model\n",
    "# plot_gmm_clusters_3d_simplified(features, latd, gmm)\n"
   ]
  }
 ],
 "metadata": {
  "kernelspec": {
   "display_name": "TUD-JF",
   "language": "python",
   "name": "python3"
  },
  "language_info": {
   "codemirror_mode": {
    "name": "ipython",
    "version": 3
   },
   "file_extension": ".py",
   "mimetype": "text/x-python",
   "name": "python",
   "nbconvert_exporter": "python",
   "pygments_lexer": "ipython3",
   "version": "3.10.8"
  }
 },
 "nbformat": 4,
 "nbformat_minor": 2
}
